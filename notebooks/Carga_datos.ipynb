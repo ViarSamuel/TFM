{
 "cells": [
  {
   "cell_type": "code",
   "execution_count": 22,
   "id": "7c5cf343",
   "metadata": {},
   "outputs": [
    {
     "data": {
      "text/html": [
       "<ol>\n",
       "\t<li>TRUE</li>\n",
       "\t<li>TRUE</li>\n",
       "\t<li>TRUE</li>\n",
       "\t<li>TRUE</li>\n",
       "\t<li>TRUE</li>\n",
       "</ol>\n"
      ],
      "text/latex": [
       "\\begin{enumerate}\n",
       "\\item TRUE\n",
       "\\item TRUE\n",
       "\\item TRUE\n",
       "\\item TRUE\n",
       "\\item TRUE\n",
       "\\end{enumerate}\n"
      ],
      "text/markdown": [
       "1. TRUE\n",
       "2. TRUE\n",
       "3. TRUE\n",
       "4. TRUE\n",
       "5. TRUE\n",
       "\n",
       "\n"
      ],
      "text/plain": [
       "[[1]]\n",
       "[1] TRUE\n",
       "\n",
       "[[2]]\n",
       "[1] TRUE\n",
       "\n",
       "[[3]]\n",
       "[1] TRUE\n",
       "\n",
       "[[4]]\n",
       "[1] TRUE\n",
       "\n",
       "[[5]]\n",
       "[1] TRUE\n"
      ]
     },
     "metadata": {},
     "output_type": "display_data"
    }
   ],
   "source": [
    "climate4R <- list(\"loadeR\", \"transformeR\", \"downscaleR\", \"visualizeR\", \"climate4R.climdex\")\n",
    "lapply(climate4R, require, character.only = TRUE) "
   ]
  },
  {
   "cell_type": "code",
   "execution_count": 4,
   "id": "1f505d78",
   "metadata": {},
   "outputs": [
    {
     "name": "stdout",
     "output_type": "stream",
     "text": [
      "Loading objects:\n",
      "  mask.bin.05\n"
     ]
    }
   ],
   "source": [
    "load(\"./mask.bin.05.rda\",verbose = T)"
   ]
  },
  {
   "cell_type": "code",
   "execution_count": 5,
   "id": "eae63449",
   "metadata": {
    "scrolled": true
   },
   "outputs": [
    {
     "name": "stdout",
     "output_type": "stream",
     "text": [
      "[1] \"### loading 1979 ###\"\n"
     ]
    },
    {
     "name": "stderr",
     "output_type": "stream",
     "text": [
      "[2023-07-08 11:52:04] Defining geo-location parameters\n",
      "\n",
      "[2023-07-08 11:52:04] Defining time selection parameters\n",
      "\n",
      "[2023-07-08 11:52:04] Retrieving data subset ...\n",
      "\n",
      "[2023-07-08 11:52:07] Done\n",
      "\n",
      "[2023-07-08 11:52:08] Performing annual aggregation...\n",
      "\n",
      "[2023-07-08 11:52:19] Done.\n",
      "\n"
     ]
    },
    {
     "name": "stdout",
     "output_type": "stream",
     "text": [
      "[1] \"### loading 1980 ###\"\n"
     ]
    },
    {
     "name": "stderr",
     "output_type": "stream",
     "text": [
      "[2023-07-08 11:52:19] Defining geo-location parameters\n",
      "\n",
      "[2023-07-08 11:52:19] Defining time selection parameters\n",
      "\n",
      "[2023-07-08 11:52:19] Retrieving data subset ...\n",
      "\n",
      "[2023-07-08 11:52:22] Done\n",
      "\n",
      "[2023-07-08 11:52:22] Performing annual aggregation...\n",
      "\n",
      "[2023-07-08 11:52:32] Done.\n",
      "\n"
     ]
    },
    {
     "name": "stdout",
     "output_type": "stream",
     "text": [
      "[1] \"### loading 1981 ###\"\n"
     ]
    },
    {
     "name": "stderr",
     "output_type": "stream",
     "text": [
      "[2023-07-08 11:52:32] Defining geo-location parameters\n",
      "\n",
      "[2023-07-08 11:52:32] Defining time selection parameters\n",
      "\n",
      "[2023-07-08 11:52:32] Retrieving data subset ...\n",
      "\n",
      "[2023-07-08 11:52:35] Done\n",
      "\n",
      "[2023-07-08 11:52:35] Performing annual aggregation...\n",
      "\n",
      "[2023-07-08 11:52:45] Done.\n",
      "\n"
     ]
    },
    {
     "name": "stdout",
     "output_type": "stream",
     "text": [
      "[1] \"### loading 1982 ###\"\n"
     ]
    },
    {
     "name": "stderr",
     "output_type": "stream",
     "text": [
      "[2023-07-08 11:52:45] Defining geo-location parameters\n",
      "\n",
      "[2023-07-08 11:52:45] Defining time selection parameters\n",
      "\n",
      "[2023-07-08 11:52:45] Retrieving data subset ...\n",
      "\n",
      "[2023-07-08 11:52:48] Done\n",
      "\n",
      "[2023-07-08 11:52:48] Performing annual aggregation...\n",
      "\n",
      "[2023-07-08 11:52:57] Done.\n",
      "\n"
     ]
    },
    {
     "name": "stdout",
     "output_type": "stream",
     "text": [
      "[1] \"### loading 1983 ###\"\n"
     ]
    },
    {
     "name": "stderr",
     "output_type": "stream",
     "text": [
      "[2023-07-08 11:52:58] Defining geo-location parameters\n",
      "\n",
      "[2023-07-08 11:52:58] Defining time selection parameters\n",
      "\n",
      "[2023-07-08 11:52:58] Retrieving data subset ...\n",
      "\n",
      "[2023-07-08 11:53:00] Done\n",
      "\n",
      "[2023-07-08 11:53:00] Performing annual aggregation...\n",
      "\n",
      "[2023-07-08 11:53:09] Done.\n",
      "\n"
     ]
    },
    {
     "name": "stdout",
     "output_type": "stream",
     "text": [
      "[1] \"### loading 1984 ###\"\n"
     ]
    },
    {
     "name": "stderr",
     "output_type": "stream",
     "text": [
      "[2023-07-08 11:53:10] Defining geo-location parameters\n",
      "\n",
      "[2023-07-08 11:53:10] Defining time selection parameters\n",
      "\n",
      "[2023-07-08 11:53:10] Retrieving data subset ...\n",
      "\n",
      "[2023-07-08 11:53:12] Done\n",
      "\n",
      "[2023-07-08 11:53:12] Performing annual aggregation...\n",
      "\n",
      "[2023-07-08 11:53:21] Done.\n",
      "\n"
     ]
    },
    {
     "name": "stdout",
     "output_type": "stream",
     "text": [
      "[1] \"### loading 1985 ###\"\n"
     ]
    },
    {
     "name": "stderr",
     "output_type": "stream",
     "text": [
      "[2023-07-08 11:53:21] Defining geo-location parameters\n",
      "\n",
      "[2023-07-08 11:53:21] Defining time selection parameters\n",
      "\n",
      "[2023-07-08 11:53:21] Retrieving data subset ...\n",
      "\n",
      "[2023-07-08 11:53:24] Done\n",
      "\n",
      "[2023-07-08 11:53:24] Performing annual aggregation...\n",
      "\n",
      "[2023-07-08 11:53:33] Done.\n",
      "\n"
     ]
    },
    {
     "name": "stdout",
     "output_type": "stream",
     "text": [
      "[1] \"### loading 1986 ###\"\n"
     ]
    },
    {
     "name": "stderr",
     "output_type": "stream",
     "text": [
      "[2023-07-08 11:53:33] Defining geo-location parameters\n",
      "\n",
      "[2023-07-08 11:53:34] Defining time selection parameters\n",
      "\n",
      "[2023-07-08 11:53:34] Retrieving data subset ...\n",
      "\n",
      "[2023-07-08 11:53:36] Done\n",
      "\n",
      "[2023-07-08 11:53:36] Performing annual aggregation...\n",
      "\n",
      "[2023-07-08 11:53:45] Done.\n",
      "\n"
     ]
    },
    {
     "name": "stdout",
     "output_type": "stream",
     "text": [
      "[1] \"### loading 1987 ###\"\n"
     ]
    },
    {
     "name": "stderr",
     "output_type": "stream",
     "text": [
      "[2023-07-08 11:53:46] Defining geo-location parameters\n",
      "\n",
      "[2023-07-08 11:53:46] Defining time selection parameters\n",
      "\n",
      "[2023-07-08 11:53:46] Retrieving data subset ...\n",
      "\n",
      "[2023-07-08 11:53:48] Done\n",
      "\n",
      "[2023-07-08 11:53:48] Performing annual aggregation...\n",
      "\n",
      "[2023-07-08 11:53:57] Done.\n",
      "\n"
     ]
    },
    {
     "name": "stdout",
     "output_type": "stream",
     "text": [
      "[1] \"### loading 1988 ###\"\n"
     ]
    },
    {
     "name": "stderr",
     "output_type": "stream",
     "text": [
      "[2023-07-08 11:53:57] Defining geo-location parameters\n",
      "\n",
      "[2023-07-08 11:53:57] Defining time selection parameters\n",
      "\n",
      "[2023-07-08 11:53:57] Retrieving data subset ...\n",
      "\n",
      "[2023-07-08 11:54:00] Done\n",
      "\n",
      "[2023-07-08 11:54:00] Performing annual aggregation...\n",
      "\n",
      "[2023-07-08 11:54:09] Done.\n",
      "\n"
     ]
    },
    {
     "name": "stdout",
     "output_type": "stream",
     "text": [
      "[1] \"### loading 1989 ###\"\n"
     ]
    },
    {
     "name": "stderr",
     "output_type": "stream",
     "text": [
      "[2023-07-08 11:54:09] Defining geo-location parameters\n",
      "\n",
      "[2023-07-08 11:54:09] Defining time selection parameters\n",
      "\n",
      "[2023-07-08 11:54:09] Retrieving data subset ...\n",
      "\n",
      "[2023-07-08 11:54:11] Done\n",
      "\n",
      "[2023-07-08 11:54:11] Performing annual aggregation...\n",
      "\n",
      "[2023-07-08 11:54:20] Done.\n",
      "\n"
     ]
    },
    {
     "name": "stdout",
     "output_type": "stream",
     "text": [
      "[1] \"### loading 1990 ###\"\n"
     ]
    },
    {
     "name": "stderr",
     "output_type": "stream",
     "text": [
      "[2023-07-08 11:54:21] Defining geo-location parameters\n",
      "\n",
      "[2023-07-08 11:54:21] Defining time selection parameters\n",
      "\n",
      "[2023-07-08 11:54:21] Retrieving data subset ...\n",
      "\n",
      "[2023-07-08 11:54:23] Done\n",
      "\n",
      "[2023-07-08 11:54:23] Performing annual aggregation...\n",
      "\n",
      "[2023-07-08 11:54:32] Done.\n",
      "\n"
     ]
    },
    {
     "name": "stdout",
     "output_type": "stream",
     "text": [
      "[1] \"### loading 1991 ###\"\n"
     ]
    },
    {
     "name": "stderr",
     "output_type": "stream",
     "text": [
      "[2023-07-08 11:54:32] Defining geo-location parameters\n",
      "\n",
      "[2023-07-08 11:54:32] Defining time selection parameters\n",
      "\n",
      "[2023-07-08 11:54:32] Retrieving data subset ...\n",
      "\n",
      "[2023-07-08 11:54:35] Done\n",
      "\n",
      "[2023-07-08 11:54:35] Performing annual aggregation...\n",
      "\n",
      "[2023-07-08 11:54:43] Done.\n",
      "\n"
     ]
    },
    {
     "name": "stdout",
     "output_type": "stream",
     "text": [
      "[1] \"### loading 1992 ###\"\n"
     ]
    },
    {
     "name": "stderr",
     "output_type": "stream",
     "text": [
      "[2023-07-08 11:54:44] Defining geo-location parameters\n",
      "\n",
      "[2023-07-08 11:54:44] Defining time selection parameters\n",
      "\n",
      "[2023-07-08 11:54:44] Retrieving data subset ...\n",
      "\n",
      "[2023-07-08 11:54:46] Done\n",
      "\n",
      "[2023-07-08 11:54:46] Performing annual aggregation...\n",
      "\n",
      "[2023-07-08 11:54:55] Done.\n",
      "\n"
     ]
    },
    {
     "name": "stdout",
     "output_type": "stream",
     "text": [
      "[1] \"### loading 1993 ###\"\n"
     ]
    },
    {
     "name": "stderr",
     "output_type": "stream",
     "text": [
      "[2023-07-08 11:54:55] Defining geo-location parameters\n",
      "\n",
      "[2023-07-08 11:54:55] Defining time selection parameters\n",
      "\n",
      "[2023-07-08 11:54:55] Retrieving data subset ...\n",
      "\n",
      "[2023-07-08 11:54:58] Done\n",
      "\n",
      "[2023-07-08 11:54:58] Performing annual aggregation...\n",
      "\n",
      "[2023-07-08 11:55:06] Done.\n",
      "\n"
     ]
    },
    {
     "name": "stdout",
     "output_type": "stream",
     "text": [
      "[1] \"### loading 1994 ###\"\n"
     ]
    },
    {
     "name": "stderr",
     "output_type": "stream",
     "text": [
      "[2023-07-08 11:55:06] Defining geo-location parameters\n",
      "\n",
      "[2023-07-08 11:55:06] Defining time selection parameters\n",
      "\n",
      "[2023-07-08 11:55:06] Retrieving data subset ...\n",
      "\n",
      "[2023-07-08 11:55:09] Done\n",
      "\n",
      "[2023-07-08 11:55:09] Performing annual aggregation...\n",
      "\n",
      "[2023-07-08 11:55:18] Done.\n",
      "\n"
     ]
    },
    {
     "name": "stdout",
     "output_type": "stream",
     "text": [
      "[1] \"### loading 1995 ###\"\n"
     ]
    },
    {
     "name": "stderr",
     "output_type": "stream",
     "text": [
      "[2023-07-08 11:55:18] Defining geo-location parameters\n",
      "\n",
      "[2023-07-08 11:55:18] Defining time selection parameters\n",
      "\n",
      "[2023-07-08 11:55:18] Retrieving data subset ...\n",
      "\n",
      "[2023-07-08 11:55:21] Done\n",
      "\n",
      "[2023-07-08 11:55:21] Performing annual aggregation...\n",
      "\n",
      "[2023-07-08 11:55:29] Done.\n",
      "\n"
     ]
    },
    {
     "name": "stdout",
     "output_type": "stream",
     "text": [
      "[1] \"### loading 1996 ###\"\n"
     ]
    },
    {
     "name": "stderr",
     "output_type": "stream",
     "text": [
      "[2023-07-08 11:55:30] Defining geo-location parameters\n",
      "\n",
      "[2023-07-08 11:55:30] Defining time selection parameters\n",
      "\n",
      "[2023-07-08 11:55:30] Retrieving data subset ...\n",
      "\n",
      "[2023-07-08 11:55:33] Done\n",
      "\n",
      "[2023-07-08 11:55:33] Performing annual aggregation...\n",
      "\n",
      "[2023-07-08 11:55:41] Done.\n",
      "\n"
     ]
    },
    {
     "name": "stdout",
     "output_type": "stream",
     "text": [
      "[1] \"### loading 1997 ###\"\n"
     ]
    },
    {
     "name": "stderr",
     "output_type": "stream",
     "text": [
      "[2023-07-08 11:55:42] Defining geo-location parameters\n",
      "\n",
      "[2023-07-08 11:55:42] Defining time selection parameters\n",
      "\n",
      "[2023-07-08 11:55:42] Retrieving data subset ...\n",
      "\n",
      "[2023-07-08 11:55:44] Done\n",
      "\n",
      "[2023-07-08 11:55:44] Performing annual aggregation...\n",
      "\n",
      "[2023-07-08 11:55:53] Done.\n",
      "\n"
     ]
    },
    {
     "name": "stdout",
     "output_type": "stream",
     "text": [
      "[1] \"### loading 1998 ###\"\n"
     ]
    },
    {
     "name": "stderr",
     "output_type": "stream",
     "text": [
      "[2023-07-08 11:55:53] Defining geo-location parameters\n",
      "\n",
      "[2023-07-08 11:55:53] Defining time selection parameters\n",
      "\n",
      "[2023-07-08 11:55:53] Retrieving data subset ...\n",
      "\n",
      "[2023-07-08 11:55:56] Done\n",
      "\n",
      "[2023-07-08 11:55:56] Performing annual aggregation...\n",
      "\n",
      "[2023-07-08 11:56:05] Done.\n",
      "\n"
     ]
    },
    {
     "name": "stdout",
     "output_type": "stream",
     "text": [
      "[1] \"### loading 1999 ###\"\n"
     ]
    },
    {
     "name": "stderr",
     "output_type": "stream",
     "text": [
      "[2023-07-08 11:56:05] Defining geo-location parameters\n",
      "\n",
      "[2023-07-08 11:56:05] Defining time selection parameters\n",
      "\n",
      "[2023-07-08 11:56:05] Retrieving data subset ...\n",
      "\n",
      "[2023-07-08 11:56:08] Done\n",
      "\n",
      "[2023-07-08 11:56:08] Performing annual aggregation...\n",
      "\n",
      "[2023-07-08 11:56:17] Done.\n",
      "\n"
     ]
    },
    {
     "name": "stdout",
     "output_type": "stream",
     "text": [
      "[1] \"### loading 2000 ###\"\n"
     ]
    },
    {
     "name": "stderr",
     "output_type": "stream",
     "text": [
      "[2023-07-08 11:56:17] Defining geo-location parameters\n",
      "\n",
      "[2023-07-08 11:56:17] Defining time selection parameters\n",
      "\n",
      "[2023-07-08 11:56:17] Retrieving data subset ...\n",
      "\n",
      "[2023-07-08 11:56:19] Done\n",
      "\n",
      "[2023-07-08 11:56:19] Performing annual aggregation...\n",
      "\n",
      "[2023-07-08 11:56:29] Done.\n",
      "\n"
     ]
    },
    {
     "name": "stdout",
     "output_type": "stream",
     "text": [
      "[1] \"### loading 2001 ###\"\n"
     ]
    },
    {
     "name": "stderr",
     "output_type": "stream",
     "text": [
      "[2023-07-08 11:56:30] Defining geo-location parameters\n",
      "\n",
      "[2023-07-08 11:56:30] Defining time selection parameters\n",
      "\n",
      "[2023-07-08 11:56:30] Retrieving data subset ...\n",
      "\n",
      "[2023-07-08 11:56:32] Done\n",
      "\n",
      "[2023-07-08 11:56:32] Performing annual aggregation...\n",
      "\n",
      "[2023-07-08 11:56:52] Done.\n",
      "\n"
     ]
    },
    {
     "name": "stdout",
     "output_type": "stream",
     "text": [
      "[1] \"### loading 2002 ###\"\n"
     ]
    },
    {
     "name": "stderr",
     "output_type": "stream",
     "text": [
      "[2023-07-08 11:56:53] Defining geo-location parameters\n",
      "\n",
      "[2023-07-08 11:56:53] Defining time selection parameters\n",
      "\n",
      "[2023-07-08 11:56:53] Retrieving data subset ...\n",
      "\n",
      "[2023-07-08 11:56:56] Done\n",
      "\n",
      "[2023-07-08 11:56:56] Performing annual aggregation...\n",
      "\n",
      "[2023-07-08 11:57:07] Done.\n",
      "\n"
     ]
    },
    {
     "name": "stdout",
     "output_type": "stream",
     "text": [
      "[1] \"### loading 2003 ###\"\n"
     ]
    },
    {
     "name": "stderr",
     "output_type": "stream",
     "text": [
      "[2023-07-08 11:57:08] Defining geo-location parameters\n",
      "\n",
      "[2023-07-08 11:57:08] Defining time selection parameters\n",
      "\n",
      "[2023-07-08 11:57:08] Retrieving data subset ...\n",
      "\n",
      "[2023-07-08 11:57:11] Done\n",
      "\n",
      "[2023-07-08 11:57:11] Performing annual aggregation...\n",
      "\n",
      "[2023-07-08 11:57:22] Done.\n",
      "\n"
     ]
    },
    {
     "name": "stdout",
     "output_type": "stream",
     "text": [
      "[1] \"### loading 2004 ###\"\n"
     ]
    },
    {
     "name": "stderr",
     "output_type": "stream",
     "text": [
      "[2023-07-08 11:57:22] Defining geo-location parameters\n",
      "\n",
      "[2023-07-08 11:57:23] Defining time selection parameters\n",
      "\n",
      "[2023-07-08 11:57:23] Retrieving data subset ...\n",
      "\n",
      "[2023-07-08 11:57:26] Done\n",
      "\n",
      "[2023-07-08 11:57:26] Performing annual aggregation...\n",
      "\n",
      "[2023-07-08 11:57:38] Done.\n",
      "\n"
     ]
    },
    {
     "name": "stdout",
     "output_type": "stream",
     "text": [
      "[1] \"### loading 2005 ###\"\n"
     ]
    },
    {
     "name": "stderr",
     "output_type": "stream",
     "text": [
      "[2023-07-08 11:57:38] Defining geo-location parameters\n",
      "\n",
      "[2023-07-08 11:57:38] Defining time selection parameters\n",
      "\n",
      "[2023-07-08 11:57:38] Retrieving data subset ...\n",
      "\n",
      "[2023-07-08 11:57:42] Done\n",
      "\n",
      "[2023-07-08 11:57:42] Performing annual aggregation...\n",
      "\n",
      "[2023-07-08 11:57:54] Done.\n",
      "\n"
     ]
    },
    {
     "name": "stdout",
     "output_type": "stream",
     "text": [
      "[1] \"### loading 2006 ###\"\n"
     ]
    },
    {
     "name": "stderr",
     "output_type": "stream",
     "text": [
      "[2023-07-08 11:57:54] Defining geo-location parameters\n",
      "\n",
      "[2023-07-08 11:57:54] Defining time selection parameters\n",
      "\n",
      "[2023-07-08 11:57:54] Retrieving data subset ...\n",
      "\n",
      "[2023-07-08 11:57:57] Done\n",
      "\n",
      "[2023-07-08 11:57:57] Performing annual aggregation...\n",
      "\n",
      "[2023-07-08 11:58:08] Done.\n",
      "\n"
     ]
    },
    {
     "name": "stdout",
     "output_type": "stream",
     "text": [
      "[1] \"### loading 2007 ###\"\n"
     ]
    },
    {
     "name": "stderr",
     "output_type": "stream",
     "text": [
      "[2023-07-08 11:58:09] Defining geo-location parameters\n",
      "\n",
      "[2023-07-08 11:58:09] Defining time selection parameters\n",
      "\n",
      "[2023-07-08 11:58:09] Retrieving data subset ...\n",
      "\n",
      "[2023-07-08 11:58:12] Done\n",
      "\n",
      "[2023-07-08 11:58:12] Performing annual aggregation...\n",
      "\n",
      "[2023-07-08 11:58:22] Done.\n",
      "\n"
     ]
    },
    {
     "name": "stdout",
     "output_type": "stream",
     "text": [
      "[1] \"### loading 2008 ###\"\n"
     ]
    },
    {
     "name": "stderr",
     "output_type": "stream",
     "text": [
      "[2023-07-08 11:58:22] Defining geo-location parameters\n",
      "\n",
      "[2023-07-08 11:58:22] Defining time selection parameters\n",
      "\n",
      "[2023-07-08 11:58:22] Retrieving data subset ...\n",
      "\n",
      "[2023-07-08 11:58:25] Done\n",
      "\n",
      "[2023-07-08 11:58:25] Performing annual aggregation...\n",
      "\n",
      "[2023-07-08 11:58:34] Done.\n",
      "\n"
     ]
    },
    {
     "name": "stdout",
     "output_type": "stream",
     "text": [
      "[1] \"### loading 2009 ###\"\n"
     ]
    },
    {
     "name": "stderr",
     "output_type": "stream",
     "text": [
      "[2023-07-08 11:58:34] Defining geo-location parameters\n",
      "\n",
      "[2023-07-08 11:58:34] Defining time selection parameters\n",
      "\n",
      "[2023-07-08 11:58:34] Retrieving data subset ...\n",
      "\n",
      "[2023-07-08 11:58:37] Done\n",
      "\n",
      "[2023-07-08 11:58:37] Performing annual aggregation...\n",
      "\n",
      "[2023-07-08 11:58:47] Done.\n",
      "\n"
     ]
    },
    {
     "name": "stdout",
     "output_type": "stream",
     "text": [
      "[1] \"### loading 2010 ###\"\n"
     ]
    },
    {
     "name": "stderr",
     "output_type": "stream",
     "text": [
      "[2023-07-08 11:58:47] Defining geo-location parameters\n",
      "\n",
      "[2023-07-08 11:58:47] Defining time selection parameters\n",
      "\n",
      "[2023-07-08 11:58:47] Retrieving data subset ...\n",
      "\n",
      "[2023-07-08 11:58:50] Done\n",
      "\n",
      "[2023-07-08 11:58:50] Performing annual aggregation...\n",
      "\n",
      "[2023-07-08 11:59:01] Done.\n",
      "\n"
     ]
    },
    {
     "name": "stdout",
     "output_type": "stream",
     "text": [
      "[1] \"### loading 2011 ###\"\n"
     ]
    },
    {
     "name": "stderr",
     "output_type": "stream",
     "text": [
      "[2023-07-08 11:59:01] Defining geo-location parameters\n",
      "\n",
      "[2023-07-08 11:59:01] Defining time selection parameters\n",
      "\n",
      "[2023-07-08 11:59:01] Retrieving data subset ...\n",
      "\n",
      "[2023-07-08 11:59:05] Done\n",
      "\n",
      "[2023-07-08 11:59:05] Performing annual aggregation...\n",
      "\n",
      "[2023-07-08 11:59:17] Done.\n",
      "\n"
     ]
    },
    {
     "name": "stdout",
     "output_type": "stream",
     "text": [
      "[1] \"### loading 2012 ###\"\n"
     ]
    },
    {
     "name": "stderr",
     "output_type": "stream",
     "text": [
      "[2023-07-08 11:59:17] Defining geo-location parameters\n",
      "\n",
      "[2023-07-08 11:59:17] Defining time selection parameters\n",
      "\n",
      "[2023-07-08 11:59:17] Retrieving data subset ...\n",
      "\n",
      "[2023-07-08 11:59:20] Done\n",
      "\n",
      "[2023-07-08 11:59:20] Performing annual aggregation...\n",
      "\n",
      "[2023-07-08 11:59:32] Done.\n",
      "\n"
     ]
    },
    {
     "name": "stdout",
     "output_type": "stream",
     "text": [
      "[1] \"### loading 2013 ###\"\n"
     ]
    },
    {
     "name": "stderr",
     "output_type": "stream",
     "text": [
      "[2023-07-08 11:59:32] Defining geo-location parameters\n",
      "\n",
      "[2023-07-08 11:59:32] Defining time selection parameters\n",
      "\n",
      "[2023-07-08 11:59:32] Retrieving data subset ...\n",
      "\n",
      "[2023-07-08 11:59:35] Done\n",
      "\n",
      "[2023-07-08 11:59:35] Performing annual aggregation...\n",
      "\n",
      "[2023-07-08 11:59:45] Done.\n",
      "\n"
     ]
    },
    {
     "name": "stdout",
     "output_type": "stream",
     "text": [
      "[1] \"### loading 2014 ###\"\n"
     ]
    },
    {
     "name": "stderr",
     "output_type": "stream",
     "text": [
      "[2023-07-08 11:59:46] Defining geo-location parameters\n",
      "\n",
      "[2023-07-08 11:59:46] Defining time selection parameters\n",
      "\n",
      "[2023-07-08 11:59:46] Retrieving data subset ...\n",
      "\n",
      "[2023-07-08 11:59:49] Done\n",
      "\n",
      "[2023-07-08 11:59:49] Performing annual aggregation...\n",
      "\n",
      "[2023-07-08 11:59:59] Done.\n",
      "\n"
     ]
    },
    {
     "name": "stdout",
     "output_type": "stream",
     "text": [
      "[1] \"### loading 2015 ###\"\n"
     ]
    },
    {
     "name": "stderr",
     "output_type": "stream",
     "text": [
      "[2023-07-08 12:00:00] Defining geo-location parameters\n",
      "\n",
      "[2023-07-08 12:00:00] Defining time selection parameters\n",
      "\n",
      "[2023-07-08 12:00:00] Retrieving data subset ...\n",
      "\n",
      "[2023-07-08 12:00:02] Done\n",
      "\n",
      "[2023-07-08 12:00:02] Performing annual aggregation...\n",
      "\n",
      "[2023-07-08 12:00:13] Done.\n",
      "\n"
     ]
    }
   ],
   "source": [
    "###############################\n",
    "## W5E5 observations for JJA ##\n",
    "###############################\n",
    "data_JJA = lapply(1979:2015, function(iyear) {\n",
    "  print(sprintf(\"### loading %d ###\", iyear))\n",
    "  gridArithmetics(aggregateGrid(loadGridData('/home/oem/Desktop/TFM/datoss/pr_W5E5.nc', var = 'pr',\n",
    "                             season = 6:8, # JJA\n",
    "                             years = iyear),\n",
    "                aggr.y = list(FUN = \"sum\", na.rm = T)),mask.bin.05,operator=\"*\")  \n",
    "})\n",
    "\n",
    "data_JJA = bindGrid(data_JJA, dimension = \"time\") \n",
    "data_JJA = subsetGrid(data_JJA, latLim = c(-60,89.75))\n",
    "save(data_JJA, file = \"pr_JJA.rda\") "
   ]
  },
  {
   "cell_type": "code",
   "execution_count": 6,
   "id": "6003434c",
   "metadata": {
    "scrolled": true
   },
   "outputs": [
    {
     "name": "stdout",
     "output_type": "stream",
     "text": [
      "[1] \"### loading 1979 ###\"\n"
     ]
    },
    {
     "name": "stderr",
     "output_type": "stream",
     "text": [
      "[2023-07-08 12:00:17] Defining geo-location parameters\n",
      "\n",
      "[2023-07-08 12:00:17] Defining time selection parameters\n",
      "\n",
      "[2023-07-08 12:00:17] Retrieving data subset ...\n",
      "\n",
      "[2023-07-08 12:00:19] Done\n",
      "\n",
      "[2023-07-08 12:00:19] Performing annual aggregation...\n",
      "\n",
      "[2023-07-08 12:00:32] Done.\n",
      "\n"
     ]
    },
    {
     "name": "stdout",
     "output_type": "stream",
     "text": [
      "[1] \"### loading 1980 ###\"\n"
     ]
    },
    {
     "name": "stderr",
     "output_type": "stream",
     "text": [
      "[2023-07-08 12:00:32] Defining geo-location parameters\n",
      "\n",
      "[2023-07-08 12:00:32] Defining time selection parameters\n",
      "\n",
      "[2023-07-08 12:00:32] Retrieving data subset ...\n",
      "\n",
      "[2023-07-08 12:00:34] Done\n",
      "\n",
      "[2023-07-08 12:00:34] Performing annual aggregation...\n",
      "\n",
      "[2023-07-08 12:00:47] Done.\n",
      "\n"
     ]
    },
    {
     "name": "stdout",
     "output_type": "stream",
     "text": [
      "[1] \"### loading 1981 ###\"\n"
     ]
    },
    {
     "name": "stderr",
     "output_type": "stream",
     "text": [
      "[2023-07-08 12:00:47] Defining geo-location parameters\n",
      "\n",
      "[2023-07-08 12:00:47] Defining time selection parameters\n",
      "\n",
      "[2023-07-08 12:00:47] Retrieving data subset ...\n",
      "\n",
      "[2023-07-08 12:00:49] Done\n",
      "\n",
      "[2023-07-08 12:00:49] Performing annual aggregation...\n",
      "\n",
      "[2023-07-08 12:01:01] Done.\n",
      "\n"
     ]
    },
    {
     "name": "stdout",
     "output_type": "stream",
     "text": [
      "[1] \"### loading 1982 ###\"\n"
     ]
    },
    {
     "name": "stderr",
     "output_type": "stream",
     "text": [
      "[2023-07-08 12:01:02] Defining geo-location parameters\n",
      "\n",
      "[2023-07-08 12:01:02] Defining time selection parameters\n",
      "\n",
      "[2023-07-08 12:01:02] Retrieving data subset ...\n",
      "\n",
      "[2023-07-08 12:01:04] Done\n",
      "\n",
      "[2023-07-08 12:01:04] Performing annual aggregation...\n",
      "\n",
      "[2023-07-08 12:01:16] Done.\n",
      "\n"
     ]
    },
    {
     "name": "stdout",
     "output_type": "stream",
     "text": [
      "[1] \"### loading 1983 ###\"\n"
     ]
    },
    {
     "name": "stderr",
     "output_type": "stream",
     "text": [
      "[2023-07-08 12:01:16] Defining geo-location parameters\n",
      "\n",
      "[2023-07-08 12:01:16] Defining time selection parameters\n",
      "\n",
      "[2023-07-08 12:01:16] Retrieving data subset ...\n",
      "\n",
      "[2023-07-08 12:01:19] Done\n",
      "\n",
      "[2023-07-08 12:01:19] Performing annual aggregation...\n",
      "\n",
      "[2023-07-08 12:01:31] Done.\n",
      "\n"
     ]
    },
    {
     "name": "stdout",
     "output_type": "stream",
     "text": [
      "[1] \"### loading 1984 ###\"\n"
     ]
    },
    {
     "name": "stderr",
     "output_type": "stream",
     "text": [
      "[2023-07-08 12:01:31] Defining geo-location parameters\n",
      "\n",
      "[2023-07-08 12:01:31] Defining time selection parameters\n",
      "\n",
      "[2023-07-08 12:01:31] Retrieving data subset ...\n",
      "\n",
      "[2023-07-08 12:01:33] Done\n",
      "\n",
      "[2023-07-08 12:01:33] Performing annual aggregation...\n",
      "\n",
      "[2023-07-08 12:01:47] Done.\n",
      "\n"
     ]
    },
    {
     "name": "stdout",
     "output_type": "stream",
     "text": [
      "[1] \"### loading 1985 ###\"\n"
     ]
    },
    {
     "name": "stderr",
     "output_type": "stream",
     "text": [
      "[2023-07-08 12:01:48] Defining geo-location parameters\n",
      "\n",
      "[2023-07-08 12:01:48] Defining time selection parameters\n",
      "\n",
      "[2023-07-08 12:01:48] Retrieving data subset ...\n",
      "\n",
      "[2023-07-08 12:01:50] Done\n",
      "\n",
      "[2023-07-08 12:01:50] Performing annual aggregation...\n",
      "\n",
      "[2023-07-08 12:02:03] Done.\n",
      "\n"
     ]
    },
    {
     "name": "stdout",
     "output_type": "stream",
     "text": [
      "[1] \"### loading 1986 ###\"\n"
     ]
    },
    {
     "name": "stderr",
     "output_type": "stream",
     "text": [
      "[2023-07-08 12:02:03] Defining geo-location parameters\n",
      "\n",
      "[2023-07-08 12:02:03] Defining time selection parameters\n",
      "\n",
      "[2023-07-08 12:02:03] Retrieving data subset ...\n",
      "\n",
      "[2023-07-08 12:02:05] Done\n",
      "\n",
      "[2023-07-08 12:02:05] Performing annual aggregation...\n",
      "\n",
      "[2023-07-08 12:02:18] Done.\n",
      "\n"
     ]
    },
    {
     "name": "stdout",
     "output_type": "stream",
     "text": [
      "[1] \"### loading 1987 ###\"\n"
     ]
    },
    {
     "name": "stderr",
     "output_type": "stream",
     "text": [
      "[2023-07-08 12:02:18] Defining geo-location parameters\n",
      "\n",
      "[2023-07-08 12:02:18] Defining time selection parameters\n",
      "\n",
      "[2023-07-08 12:02:18] Retrieving data subset ...\n",
      "\n",
      "[2023-07-08 12:02:20] Done\n",
      "\n",
      "[2023-07-08 12:02:20] Performing annual aggregation...\n",
      "\n",
      "[2023-07-08 12:02:32] Done.\n",
      "\n"
     ]
    },
    {
     "name": "stdout",
     "output_type": "stream",
     "text": [
      "[1] \"### loading 1988 ###\"\n"
     ]
    },
    {
     "name": "stderr",
     "output_type": "stream",
     "text": [
      "[2023-07-08 12:02:32] Defining geo-location parameters\n",
      "\n",
      "[2023-07-08 12:02:32] Defining time selection parameters\n",
      "\n",
      "[2023-07-08 12:02:32] Retrieving data subset ...\n",
      "\n",
      "[2023-07-08 12:02:35] Done\n",
      "\n",
      "[2023-07-08 12:02:35] Performing annual aggregation...\n",
      "\n",
      "[2023-07-08 12:02:47] Done.\n",
      "\n"
     ]
    },
    {
     "name": "stdout",
     "output_type": "stream",
     "text": [
      "[1] \"### loading 1989 ###\"\n"
     ]
    },
    {
     "name": "stderr",
     "output_type": "stream",
     "text": [
      "[2023-07-08 12:02:47] Defining geo-location parameters\n",
      "\n",
      "[2023-07-08 12:02:47] Defining time selection parameters\n",
      "\n",
      "[2023-07-08 12:02:47] Retrieving data subset ...\n",
      "\n",
      "[2023-07-08 12:02:49] Done\n",
      "\n",
      "[2023-07-08 12:02:49] Performing annual aggregation...\n",
      "\n",
      "[2023-07-08 12:03:02] Done.\n",
      "\n"
     ]
    },
    {
     "name": "stdout",
     "output_type": "stream",
     "text": [
      "[1] \"### loading 1990 ###\"\n"
     ]
    },
    {
     "name": "stderr",
     "output_type": "stream",
     "text": [
      "[2023-07-08 12:03:02] Defining geo-location parameters\n",
      "\n",
      "[2023-07-08 12:03:02] Defining time selection parameters\n",
      "\n",
      "[2023-07-08 12:03:02] Retrieving data subset ...\n",
      "\n",
      "[2023-07-08 12:03:05] Done\n",
      "\n",
      "[2023-07-08 12:03:05] Performing annual aggregation...\n",
      "\n",
      "[2023-07-08 12:03:16] Done.\n",
      "\n"
     ]
    },
    {
     "name": "stdout",
     "output_type": "stream",
     "text": [
      "[1] \"### loading 1991 ###\"\n"
     ]
    },
    {
     "name": "stderr",
     "output_type": "stream",
     "text": [
      "[2023-07-08 12:03:16] Defining geo-location parameters\n",
      "\n",
      "[2023-07-08 12:03:16] Defining time selection parameters\n",
      "\n",
      "[2023-07-08 12:03:16] Retrieving data subset ...\n",
      "\n",
      "[2023-07-08 12:03:18] Done\n",
      "\n",
      "[2023-07-08 12:03:18] Performing annual aggregation...\n",
      "\n",
      "[2023-07-08 12:03:31] Done.\n",
      "\n"
     ]
    },
    {
     "name": "stdout",
     "output_type": "stream",
     "text": [
      "[1] \"### loading 1992 ###\"\n"
     ]
    },
    {
     "name": "stderr",
     "output_type": "stream",
     "text": [
      "[2023-07-08 12:03:31] Defining geo-location parameters\n",
      "\n",
      "[2023-07-08 12:03:31] Defining time selection parameters\n",
      "\n",
      "[2023-07-08 12:03:31] Retrieving data subset ...\n",
      "\n",
      "[2023-07-08 12:03:33] Done\n",
      "\n",
      "[2023-07-08 12:03:33] Performing annual aggregation...\n",
      "\n",
      "[2023-07-08 12:03:45] Done.\n",
      "\n"
     ]
    },
    {
     "name": "stdout",
     "output_type": "stream",
     "text": [
      "[1] \"### loading 1993 ###\"\n"
     ]
    },
    {
     "name": "stderr",
     "output_type": "stream",
     "text": [
      "[2023-07-08 12:03:45] Defining geo-location parameters\n",
      "\n",
      "[2023-07-08 12:03:45] Defining time selection parameters\n",
      "\n",
      "[2023-07-08 12:03:45] Retrieving data subset ...\n",
      "\n",
      "[2023-07-08 12:03:47] Done\n",
      "\n",
      "[2023-07-08 12:03:47] Performing annual aggregation...\n",
      "\n",
      "[2023-07-08 12:04:03] Done.\n",
      "\n"
     ]
    },
    {
     "name": "stdout",
     "output_type": "stream",
     "text": [
      "[1] \"### loading 1994 ###\"\n"
     ]
    },
    {
     "name": "stderr",
     "output_type": "stream",
     "text": [
      "[2023-07-08 12:04:04] Defining geo-location parameters\n",
      "\n",
      "[2023-07-08 12:04:04] Defining time selection parameters\n",
      "\n",
      "[2023-07-08 12:04:04] Retrieving data subset ...\n",
      "\n",
      "[2023-07-08 12:04:06] Done\n",
      "\n",
      "[2023-07-08 12:04:06] Performing annual aggregation...\n",
      "\n",
      "[2023-07-08 12:04:15] Done.\n",
      "\n"
     ]
    },
    {
     "name": "stdout",
     "output_type": "stream",
     "text": [
      "[1] \"### loading 1995 ###\"\n"
     ]
    },
    {
     "name": "stderr",
     "output_type": "stream",
     "text": [
      "[2023-07-08 12:04:15] Defining geo-location parameters\n",
      "\n",
      "[2023-07-08 12:04:15] Defining time selection parameters\n",
      "\n",
      "[2023-07-08 12:04:15] Retrieving data subset ...\n",
      "\n",
      "[2023-07-08 12:04:17] Done\n",
      "\n",
      "[2023-07-08 12:04:17] Performing annual aggregation...\n",
      "\n",
      "[2023-07-08 12:04:25] Done.\n",
      "\n"
     ]
    },
    {
     "name": "stdout",
     "output_type": "stream",
     "text": [
      "[1] \"### loading 1996 ###\"\n"
     ]
    },
    {
     "name": "stderr",
     "output_type": "stream",
     "text": [
      "[2023-07-08 12:04:25] Defining geo-location parameters\n",
      "\n",
      "[2023-07-08 12:04:25] Defining time selection parameters\n",
      "\n",
      "[2023-07-08 12:04:25] Retrieving data subset ...\n",
      "\n",
      "[2023-07-08 12:04:27] Done\n",
      "\n",
      "[2023-07-08 12:04:27] Performing annual aggregation...\n",
      "\n",
      "[2023-07-08 12:04:35] Done.\n",
      "\n"
     ]
    },
    {
     "name": "stdout",
     "output_type": "stream",
     "text": [
      "[1] \"### loading 1997 ###\"\n"
     ]
    },
    {
     "name": "stderr",
     "output_type": "stream",
     "text": [
      "[2023-07-08 12:04:35] Defining geo-location parameters\n",
      "\n",
      "[2023-07-08 12:04:35] Defining time selection parameters\n",
      "\n",
      "[2023-07-08 12:04:35] Retrieving data subset ...\n",
      "\n",
      "[2023-07-08 12:04:37] Done\n",
      "\n",
      "[2023-07-08 12:04:37] Performing annual aggregation...\n",
      "\n",
      "[2023-07-08 12:04:45] Done.\n",
      "\n"
     ]
    },
    {
     "name": "stdout",
     "output_type": "stream",
     "text": [
      "[1] \"### loading 1998 ###\"\n"
     ]
    },
    {
     "name": "stderr",
     "output_type": "stream",
     "text": [
      "[2023-07-08 12:04:46] Defining geo-location parameters\n",
      "\n",
      "[2023-07-08 12:04:46] Defining time selection parameters\n",
      "\n",
      "[2023-07-08 12:04:46] Retrieving data subset ...\n",
      "\n",
      "[2023-07-08 12:04:47] Done\n",
      "\n",
      "[2023-07-08 12:04:47] Performing annual aggregation...\n",
      "\n",
      "[2023-07-08 12:04:56] Done.\n",
      "\n"
     ]
    },
    {
     "name": "stdout",
     "output_type": "stream",
     "text": [
      "[1] \"### loading 1999 ###\"\n"
     ]
    },
    {
     "name": "stderr",
     "output_type": "stream",
     "text": [
      "[2023-07-08 12:04:56] Defining geo-location parameters\n",
      "\n",
      "[2023-07-08 12:04:57] Defining time selection parameters\n",
      "\n",
      "[2023-07-08 12:04:57] Retrieving data subset ...\n",
      "\n",
      "[2023-07-08 12:04:58] Done\n",
      "\n",
      "[2023-07-08 12:04:58] Performing annual aggregation...\n",
      "\n",
      "[2023-07-08 12:05:07] Done.\n",
      "\n"
     ]
    },
    {
     "name": "stdout",
     "output_type": "stream",
     "text": [
      "[1] \"### loading 2000 ###\"\n"
     ]
    },
    {
     "name": "stderr",
     "output_type": "stream",
     "text": [
      "[2023-07-08 12:05:07] Defining geo-location parameters\n",
      "\n",
      "[2023-07-08 12:05:07] Defining time selection parameters\n",
      "\n",
      "[2023-07-08 12:05:07] Retrieving data subset ...\n",
      "\n",
      "[2023-07-08 12:05:09] Done\n",
      "\n",
      "[2023-07-08 12:05:09] Performing annual aggregation...\n",
      "\n",
      "[2023-07-08 12:05:18] Done.\n",
      "\n"
     ]
    },
    {
     "name": "stdout",
     "output_type": "stream",
     "text": [
      "[1] \"### loading 2001 ###\"\n"
     ]
    },
    {
     "name": "stderr",
     "output_type": "stream",
     "text": [
      "[2023-07-08 12:05:18] Defining geo-location parameters\n",
      "\n",
      "[2023-07-08 12:05:18] Defining time selection parameters\n",
      "\n",
      "[2023-07-08 12:05:18] Retrieving data subset ...\n",
      "\n",
      "[2023-07-08 12:05:20] Done\n",
      "\n",
      "[2023-07-08 12:05:20] Performing annual aggregation...\n",
      "\n",
      "[2023-07-08 12:05:29] Done.\n",
      "\n"
     ]
    },
    {
     "name": "stdout",
     "output_type": "stream",
     "text": [
      "[1] \"### loading 2002 ###\"\n"
     ]
    },
    {
     "name": "stderr",
     "output_type": "stream",
     "text": [
      "[2023-07-08 12:05:29] Defining geo-location parameters\n",
      "\n",
      "[2023-07-08 12:05:29] Defining time selection parameters\n",
      "\n",
      "[2023-07-08 12:05:29] Retrieving data subset ...\n",
      "\n",
      "[2023-07-08 12:05:31] Done\n",
      "\n",
      "[2023-07-08 12:05:31] Performing annual aggregation...\n",
      "\n",
      "[2023-07-08 12:05:40] Done.\n",
      "\n"
     ]
    },
    {
     "name": "stdout",
     "output_type": "stream",
     "text": [
      "[1] \"### loading 2003 ###\"\n"
     ]
    },
    {
     "name": "stderr",
     "output_type": "stream",
     "text": [
      "[2023-07-08 12:05:40] Defining geo-location parameters\n",
      "\n",
      "[2023-07-08 12:05:40] Defining time selection parameters\n",
      "\n",
      "[2023-07-08 12:05:40] Retrieving data subset ...\n",
      "\n",
      "[2023-07-08 12:05:42] Done\n",
      "\n",
      "[2023-07-08 12:05:42] Performing annual aggregation...\n",
      "\n",
      "[2023-07-08 12:05:51] Done.\n",
      "\n"
     ]
    },
    {
     "name": "stdout",
     "output_type": "stream",
     "text": [
      "[1] \"### loading 2004 ###\"\n"
     ]
    },
    {
     "name": "stderr",
     "output_type": "stream",
     "text": [
      "[2023-07-08 12:05:51] Defining geo-location parameters\n",
      "\n",
      "[2023-07-08 12:05:51] Defining time selection parameters\n",
      "\n",
      "[2023-07-08 12:05:51] Retrieving data subset ...\n",
      "\n",
      "[2023-07-08 12:05:52] Done\n",
      "\n",
      "[2023-07-08 12:05:52] Performing annual aggregation...\n",
      "\n",
      "[2023-07-08 12:06:01] Done.\n",
      "\n"
     ]
    },
    {
     "name": "stdout",
     "output_type": "stream",
     "text": [
      "[1] \"### loading 2005 ###\"\n"
     ]
    },
    {
     "name": "stderr",
     "output_type": "stream",
     "text": [
      "[2023-07-08 12:06:02] Defining geo-location parameters\n",
      "\n",
      "[2023-07-08 12:06:02] Defining time selection parameters\n",
      "\n",
      "[2023-07-08 12:06:02] Retrieving data subset ...\n",
      "\n",
      "[2023-07-08 12:06:03] Done\n",
      "\n",
      "[2023-07-08 12:06:03] Performing annual aggregation...\n",
      "\n",
      "[2023-07-08 12:06:12] Done.\n",
      "\n"
     ]
    },
    {
     "name": "stdout",
     "output_type": "stream",
     "text": [
      "[1] \"### loading 2006 ###\"\n"
     ]
    },
    {
     "name": "stderr",
     "output_type": "stream",
     "text": [
      "[2023-07-08 12:06:12] Defining geo-location parameters\n",
      "\n",
      "[2023-07-08 12:06:12] Defining time selection parameters\n",
      "\n",
      "[2023-07-08 12:06:12] Retrieving data subset ...\n",
      "\n",
      "[2023-07-08 12:06:14] Done\n",
      "\n",
      "[2023-07-08 12:06:14] Performing annual aggregation...\n",
      "\n",
      "[2023-07-08 12:06:23] Done.\n",
      "\n"
     ]
    },
    {
     "name": "stdout",
     "output_type": "stream",
     "text": [
      "[1] \"### loading 2007 ###\"\n"
     ]
    },
    {
     "name": "stderr",
     "output_type": "stream",
     "text": [
      "[2023-07-08 12:06:23] Defining geo-location parameters\n",
      "\n",
      "[2023-07-08 12:06:23] Defining time selection parameters\n",
      "\n",
      "[2023-07-08 12:06:23] Retrieving data subset ...\n",
      "\n",
      "[2023-07-08 12:06:24] Done\n",
      "\n",
      "[2023-07-08 12:06:24] Performing annual aggregation...\n",
      "\n",
      "[2023-07-08 12:06:34] Done.\n",
      "\n"
     ]
    },
    {
     "name": "stdout",
     "output_type": "stream",
     "text": [
      "[1] \"### loading 2008 ###\"\n"
     ]
    },
    {
     "name": "stderr",
     "output_type": "stream",
     "text": [
      "[2023-07-08 12:06:34] Defining geo-location parameters\n",
      "\n",
      "[2023-07-08 12:06:34] Defining time selection parameters\n",
      "\n",
      "[2023-07-08 12:06:34] Retrieving data subset ...\n",
      "\n",
      "[2023-07-08 12:06:35] Done\n",
      "\n",
      "[2023-07-08 12:06:35] Performing annual aggregation...\n",
      "\n",
      "[2023-07-08 12:06:44] Done.\n",
      "\n"
     ]
    },
    {
     "name": "stdout",
     "output_type": "stream",
     "text": [
      "[1] \"### loading 2009 ###\"\n"
     ]
    },
    {
     "name": "stderr",
     "output_type": "stream",
     "text": [
      "[2023-07-08 12:06:44] Defining geo-location parameters\n",
      "\n",
      "[2023-07-08 12:06:44] Defining time selection parameters\n",
      "\n",
      "[2023-07-08 12:06:44] Retrieving data subset ...\n",
      "\n",
      "[2023-07-08 12:06:46] Done\n",
      "\n",
      "[2023-07-08 12:06:46] Performing annual aggregation...\n",
      "\n",
      "[2023-07-08 12:06:55] Done.\n",
      "\n"
     ]
    },
    {
     "name": "stdout",
     "output_type": "stream",
     "text": [
      "[1] \"### loading 2010 ###\"\n"
     ]
    },
    {
     "name": "stderr",
     "output_type": "stream",
     "text": [
      "[2023-07-08 12:06:55] Defining geo-location parameters\n",
      "\n",
      "[2023-07-08 12:06:55] Defining time selection parameters\n",
      "\n",
      "[2023-07-08 12:06:55] Retrieving data subset ...\n",
      "\n",
      "[2023-07-08 12:06:57] Done\n",
      "\n",
      "[2023-07-08 12:06:57] Performing annual aggregation...\n",
      "\n",
      "[2023-07-08 12:07:06] Done.\n",
      "\n"
     ]
    },
    {
     "name": "stdout",
     "output_type": "stream",
     "text": [
      "[1] \"### loading 2011 ###\"\n"
     ]
    },
    {
     "name": "stderr",
     "output_type": "stream",
     "text": [
      "[2023-07-08 12:07:06] Defining geo-location parameters\n",
      "\n",
      "[2023-07-08 12:07:06] Defining time selection parameters\n",
      "\n",
      "[2023-07-08 12:07:06] Retrieving data subset ...\n",
      "\n",
      "[2023-07-08 12:07:08] Done\n",
      "\n",
      "[2023-07-08 12:07:08] Performing annual aggregation...\n",
      "\n",
      "[2023-07-08 12:07:17] Done.\n",
      "\n"
     ]
    },
    {
     "name": "stdout",
     "output_type": "stream",
     "text": [
      "[1] \"### loading 2012 ###\"\n"
     ]
    },
    {
     "name": "stderr",
     "output_type": "stream",
     "text": [
      "[2023-07-08 12:07:17] Defining geo-location parameters\n",
      "\n",
      "[2023-07-08 12:07:17] Defining time selection parameters\n",
      "\n",
      "[2023-07-08 12:07:17] Retrieving data subset ...\n",
      "\n",
      "[2023-07-08 12:07:18] Done\n",
      "\n",
      "[2023-07-08 12:07:18] Performing annual aggregation...\n",
      "\n",
      "[2023-07-08 12:07:27] Done.\n",
      "\n"
     ]
    },
    {
     "name": "stdout",
     "output_type": "stream",
     "text": [
      "[1] \"### loading 2013 ###\"\n"
     ]
    },
    {
     "name": "stderr",
     "output_type": "stream",
     "text": [
      "[2023-07-08 12:07:27] Defining geo-location parameters\n",
      "\n",
      "[2023-07-08 12:07:27] Defining time selection parameters\n",
      "\n",
      "[2023-07-08 12:07:27] Retrieving data subset ...\n",
      "\n",
      "[2023-07-08 12:07:29] Done\n",
      "\n",
      "[2023-07-08 12:07:29] Performing annual aggregation...\n",
      "\n",
      "[2023-07-08 12:07:38] Done.\n",
      "\n"
     ]
    },
    {
     "name": "stdout",
     "output_type": "stream",
     "text": [
      "[1] \"### loading 2014 ###\"\n"
     ]
    },
    {
     "name": "stderr",
     "output_type": "stream",
     "text": [
      "[2023-07-08 12:07:38] Defining geo-location parameters\n",
      "\n",
      "[2023-07-08 12:07:38] Defining time selection parameters\n",
      "\n",
      "[2023-07-08 12:07:38] Retrieving data subset ...\n",
      "\n",
      "[2023-07-08 12:07:40] Done\n",
      "\n",
      "[2023-07-08 12:07:40] Performing annual aggregation...\n",
      "\n",
      "[2023-07-08 12:07:49] Done.\n",
      "\n"
     ]
    },
    {
     "name": "stdout",
     "output_type": "stream",
     "text": [
      "[1] \"### loading 2015 ###\"\n"
     ]
    },
    {
     "name": "stderr",
     "output_type": "stream",
     "text": [
      "[2023-07-08 12:07:49] Defining geo-location parameters\n",
      "\n",
      "[2023-07-08 12:07:49] Defining time selection parameters\n",
      "\n",
      "[2023-07-08 12:07:49] Retrieving data subset ...\n",
      "\n",
      "[2023-07-08 12:07:50] Done\n",
      "\n",
      "[2023-07-08 12:07:50] Performing annual aggregation...\n",
      "\n",
      "[2023-07-08 12:07:59] Done.\n",
      "\n"
     ]
    }
   ],
   "source": [
    "data_JJA_temp = lapply(1979:2015, function(iyear) {\n",
    "  print(sprintf(\"### loading %d ###\", iyear))\n",
    "  gridArithmetics(aggregateGrid(loadGridData('/home/oem/Desktop/TFM/datoss/tas_W5E5.nc', var = 'tas',\n",
    "                             season = 6:8,  # JJA\n",
    "                             years = iyear),\n",
    "                aggr.y = list(FUN = \"mean\", na.rm = T)),mask.bin.05,operator=\"*\")  \n",
    "})\n",
    "data_JJA_temp = bindGrid(data_JJA_temp, dimension = \"time\") \n",
    "data_JJA_temp = subsetGrid(data_JJA_temp, latLim = c(-60,89.75))\n",
    "save(data_JJA_temp, file = \"tas_JJA.rda\") "
   ]
  },
  {
   "cell_type": "code",
   "execution_count": 11,
   "id": "768565c9",
   "metadata": {},
   "outputs": [],
   "source": [
    "library(devtools)\n",
    "library(tidyverse)"
   ]
  },
  {
   "cell_type": "code",
   "execution_count": 30,
   "id": "87aeaa0a",
   "metadata": {},
   "outputs": [],
   "source": [
    "nina34 = read.table(\"/home/oem/Desktop/TFM/indicesclimaticos/nina34.anom.data.txt\", skip = 3, nrows = 72)\n",
    "colnames(nina34) = c(\"Year\", 'Jan', 'Feb', 'Mar', 'Apr', 'May', 'Jun', 'Jul', 'Aug', 'Sep', 'Oct', 'Nov', 'Dec')\n",
    "nina34[,-1] = (nina34[,-1] - mean(as.matrix(nina34[32:61,-1]))) / sd(as.matrix(nina34[32:61,-1]))\n",
    "nina_JJA = nina34[30:66,7:9]\n",
    "nina_JJA_LT1 = nina34[30:66,6]\n",
    "nina_JJA_LT4 = nina34[30:66,3]\n",
    "nina_JJA = data.frame(rowMeans(nina_JJA))\n",
    "nina_JJA = as.list(nina_JJA$rowMeans.nina_JJA.)\n",
    "\n",
    "nina_SON = nina34[30:66,10:12]\n",
    "nina_SON_LT1 = nina34[30:66,9]\n",
    "nina_SON_LT4 = nina34[30:66,6]\n",
    "nina_SON = data.frame(rowMeans(nina_SON))\n",
    "nina_SON = as.list(nina_SON$rowMeans.nina_SON.)\n",
    "\n",
    "nina_MAM = nina34[30:66,4:6]\n",
    "nina_MAM_LT1 = nina34[30:66,3]\n",
    "nina_MAM_LT4 = nina34[29:65,12]\n",
    "nina_MAM = data.frame(rowMeans(nina_MAM))\n",
    "nina_MAM = as.list(nina_MAM$rowMeans.nina_MAM.)\n",
    "\n",
    "nina_DJF = nina34[29:65,c(12,1,2)]\n",
    "nina_DJF_LT1 = nina34[29:65,11]\n",
    "nina_DJF_LT4 = nina34[29:65,8]\n",
    "nina_DJF = data.frame(rowMeans(nina_DJF))\n",
    "nina_DJF = as.list(nina_DJF$rowMeans.nina_DJF.)"
   ]
  },
  {
   "cell_type": "code",
   "execution_count": 31,
   "id": "43497776",
   "metadata": {},
   "outputs": [],
   "source": [
    "oni = read.table(\"/home/oem/Desktop/TFM/indicesclimaticos/oni.data\", skip = 1, nrows = 72, \n",
    "        col.names = c(\"Year\", 'Jan', 'Feb', 'Mar', 'Apr', 'May', 'Jun', 'Jul', 'Aug', 'Sep', 'Oct', 'Nov', 'Dec'))\n",
    "oni_JJA = oni[30:66,7:9]\n",
    "oni_JJA_LT1 = oni[30:66,6]\n",
    "oni_JJA_LT4 = oni[30:66,3]\n",
    "oni_JJA = data.frame(rowMeans(oni_JJA))\n",
    "oni_JJA = as.list(oni_JJA$rowMeans.oni_JJA.)\n",
    "\n",
    "oni_SON = oni[30:66,10:12]\n",
    "oni_SON_LT1 = oni[30:66,9]\n",
    "oni_SON_LT4 = oni[30:66,6]\n",
    "oni_SON = data.frame(rowMeans(oni_SON))\n",
    "oni_SON = as.list(oni_SON$rowMeans.oni_SON.)\n",
    "\n",
    "oni_MAM = oni[30:66,4:6]\n",
    "oni_MAM_LT1 = oni[30:66,3]\n",
    "oni_MAM_LT4 = oni[29:65,12]\n",
    "oni_MAM = data.frame(rowMeans(oni_MAM))\n",
    "oni_MAM = as.list(oni_MAM$rowMeans.oni_MAM.)\n",
    "\n",
    "oni_DJF = oni[29:65,c(12,1,2)]\n",
    "oni_DJF_LT1 = oni[29:65,11]\n",
    "oni_DJF_LT4 = oni[29:65,8]\n",
    "oni_DJF = data.frame(rowMeans(oni_DJF))\n",
    "oni_DJF = as.list(oni_DJF$rowMeans.oni_DJF.)"
   ]
  },
  {
   "cell_type": "code",
   "execution_count": 32,
   "id": "b1106abb",
   "metadata": {},
   "outputs": [],
   "source": [
    "nao = read.table(\"/home/oem/Desktop/TFM/indicesclimaticos/nao_index.tim.txt\", skip = 8, header = T)\n",
    "nao <- nao %>% spread(MONTH,INDEX)\n",
    "colnames(nao) = c(\"Year\", 'Jan', 'Feb', 'Mar', 'Apr', 'May', 'Jun', 'Jul', 'Aug', 'Sep', 'Oct', 'Nov', 'Dec')\n",
    "nao_JJA = nao[30:66,7:9]\n",
    "nao_JJA_LT1 = nao[30:66,6]\n",
    "nao_JJA_LT4 = nao[30:66,3]\n",
    "nao_JJA = data.frame(rowMeans(nao_JJA))\n",
    "nao_JJA = as.list(nao_JJA$rowMeans.nao_JJA.)\n",
    "\n",
    "nao_SON = nao[30:66,10:12]\n",
    "nao_SON_LT1 = nao[30:66,9]\n",
    "nao_SON_LT4 = nao[30:66,6]\n",
    "nao_SON = data.frame(rowMeans(nao_SON))\n",
    "nao_SON = as.list(nao_SON$rowMeans.nao_SON.)\n",
    "\n",
    "nao_MAM = nao[30:66,4:6]\n",
    "nao_MAM_LT1 = nao[30:66,3]\n",
    "nao_MAM_LT4 = nao[29:65,12]\n",
    "nao_MAM = data.frame(rowMeans(nao_MAM))\n",
    "nao_MAM = as.list(nao_MAM$rowMeans.nao_MAM.)\n",
    "\n",
    "nao_DJF = nao[29:65,c(12,1,2)]\n",
    "nao_DJF_LT1 = nao[29:65,11]\n",
    "nao_DJF_LT4 = nao[29:65,8]\n",
    "nao_DJF = data.frame(rowMeans(nao_DJF))\n",
    "nao_DJF = as.list(nao_DJF$rowMeans.nao_DJF.)"
   ]
  },
  {
   "cell_type": "code",
   "execution_count": 33,
   "id": "e6da7685",
   "metadata": {},
   "outputs": [],
   "source": [
    "poleur = read.table(\"/home/oem/Desktop/TFM/indicesclimaticos/poleur_index.tim\", skip = 8, header = T)\n",
    "poleur <- poleur %>% spread(MONTH,INDEX)\n",
    "colnames(poleur) = c(\"Year\", 'Jan', 'Feb', 'Mar', 'Apr', 'May', 'Jun', 'Jul', 'Aug', 'Sep', 'Oct', 'Nov', 'Dec')\n",
    "poleur_JJA = poleur[30:66,7:9]\n",
    "poleur_JJA_LT1 = poleur[30:66,6]\n",
    "poleur_JJA_LT4 = poleur[30:66,3]\n",
    "poleur_JJA = data.frame(rowMeans(poleur_JJA))\n",
    "poleur_JJA = as.list(poleur_JJA$rowMeans.poleur_JJA.)\n",
    "\n",
    "poleur_SON = poleur[30:66,10:12]\n",
    "poleur_SON_LT1 = poleur[30:66,9]\n",
    "poleur_SON_LT4 = poleur[30:66,6]\n",
    "poleur_SON = data.frame(rowMeans(poleur_SON))\n",
    "poleur_SON = as.list(poleur_SON$rowMeans.poleur_SON.)\n",
    "\n",
    "poleur_MAM = poleur[30:66,4:6]\n",
    "poleur_MAM_LT1 = poleur[30:66,3]\n",
    "poleur_MAM_LT4 = poleur[29:65,12]\n",
    "poleur_MAM = data.frame(rowMeans(poleur_MAM))\n",
    "poleur_MAM = as.list(poleur_MAM$rowMeans.poleur_MAM.)\n",
    "\n",
    "poleur_DJF = poleur[29:65,c(12,1,2)]\n",
    "poleur_DJF_LT1 = poleur[29:65,11]\n",
    "poleur_DJF_LT4 = poleur[29:65,8]\n",
    "poleur_DJF = data.frame(rowMeans(poleur_DJF))\n",
    "poleur_DJF = as.list(poleur_DJF$rowMeans.poleur_DJF.)"
   ]
  },
  {
   "cell_type": "code",
   "execution_count": 34,
   "id": "f5a10f56",
   "metadata": {},
   "outputs": [],
   "source": [
    "ea = read.table(\"/home/oem/Desktop/TFM/indicesclimaticos/ea_index.tim.txt\", skip = 8, header = T)\n",
    "ea <- ea %>% spread(MONTH,INDEX)\n",
    "colnames(ea) = c(\"Year\", 'Jan', 'Feb', 'Mar', 'Apr', 'May', 'Jun', 'Jul', 'Aug', 'Sep', 'Oct', 'Nov', 'Dec')\n",
    "ea_JJA = ea[30:66,7:9]\n",
    "ea_JJA_LT1 = ea[30:66,6]\n",
    "ea_JJA_LT4 = ea[30:66,3]\n",
    "ea_JJA = data.frame(rowMeans(ea_JJA))\n",
    "ea_JJA = as.list(ea_JJA$rowMeans.ea_JJA.)\n",
    "\n",
    "ea_SON = ea[30:66,10:12]\n",
    "ea_SON_LT1 = ea[30:66,9]\n",
    "ea_SON_LT4 = ea[30:66,6]\n",
    "ea_SON = data.frame(rowMeans(ea_SON))\n",
    "ea_SON = as.list(ea_SON$rowMeans.ea_SON.)\n",
    "\n",
    "ea_MAM = ea[30:66,4:6]\n",
    "ea_MAM_LT1 = ea[30:66,3]\n",
    "ea_MAM_LT4 = ea[29:65,12]\n",
    "ea_MAM = data.frame(rowMeans(ea_MAM))\n",
    "ea_MAM = as.list(ea_MAM$rowMeans.ea_MAM.)\n",
    "\n",
    "ea_DJF = ea[29:65,c(12,1,2)]\n",
    "ea_DJF_LT1 = ea[29:65,11]\n",
    "ea_DJF_LT4 = ea[29:65,8]\n",
    "ea_DJF = data.frame(rowMeans(ea_DJF))\n",
    "ea_DJF = as.list(ea_DJF$rowMeans.ea_DJF.)"
   ]
  },
  {
   "cell_type": "code",
   "execution_count": 35,
   "id": "1279e40d",
   "metadata": {},
   "outputs": [],
   "source": [
    "eawr = read.table(\"/home/oem/Desktop/TFM/indicesclimaticos/eawr_index.tim.txt\", skip = 8, header = T)\n",
    "eawr <- eawr %>% spread(MONTH,INDEX)\n",
    "colnames(eawr) = c(\"Year\", 'Jan', 'Feb', 'Mar', 'Apr', 'May', 'Jun', 'Jul', 'Aug', 'Sep', 'Oct', 'Nov', 'Dec')\n",
    "eawr_JJA = eawr[30:66,7:9]\n",
    "eawr_JJA_LT1 = eawr[30:66,6]\n",
    "eawr_JJA_LT4 = eawr[30:66,3]\n",
    "eawr_JJA = data.frame(rowMeans(eawr_JJA))\n",
    "eawr_JJA = as.list(eawr_JJA$rowMeans.eawr_JJA.)\n",
    "\n",
    "eawr_SON = eawr[30:66,10:12]\n",
    "eawr_SON_LT1 = eawr[30:66,9]\n",
    "eawr_SON_LT4 = eawr[30:66,6]\n",
    "eawr_SON = data.frame(rowMeans(eawr_SON))\n",
    "eawr_SON = as.list(eawr_SON$rowMeans.eawr_SON.)\n",
    "\n",
    "eawr_MAM = eawr[30:66,4:6]\n",
    "eawr_MAM_LT1 = eawr[30:66,3]\n",
    "eawr_MAM_LT4 = eawr[29:65,12]\n",
    "eawr_MAM = data.frame(rowMeans(eawr_MAM))\n",
    "eawr_MAM = as.list(eawr_MAM$rowMeans.eawr_MAM.)\n",
    "\n",
    "eawr_DJF = eawr[29:65,c(12,1,2)]\n",
    "eawr_DJF_LT1 = eawr[29:65,11]\n",
    "eawr_DJF_LT4 = eawr[29:65,8]\n",
    "eawr_DJF = data.frame(rowMeans(eawr_DJF))\n",
    "eawr_DJF = as.list(eawr_DJF$rowMeans.eawr_DJF.)"
   ]
  },
  {
   "cell_type": "code",
   "execution_count": 36,
   "id": "fc5d3b3e",
   "metadata": {},
   "outputs": [],
   "source": [
    "pna = read.table(\"/home/oem/Desktop/TFM/indicesclimaticos/pna_index.tim.txt\", skip = 8, header = T)\n",
    "pna <- pna %>% spread(MONTH,INDEX)\n",
    "colnames(pna) = c(\"Year\", 'Jan', 'Feb', 'Mar', 'Apr', 'May', 'Jun', 'Jul', 'Aug', 'Sep', 'Oct', 'Nov', 'Dec')\n",
    "pna_JJA = pna[30:66,7:9]\n",
    "pna_JJA_LT1 = pna[30:66,6]\n",
    "pna_JJA_LT4 = pna[30:66,3]\n",
    "pna_JJA = data.frame(rowMeans(pna_JJA))\n",
    "pna_JJA = as.list(pna_JJA$rowMeans.pna_JJA.)\n",
    "\n",
    "pna_SON = pna[30:66,10:12]\n",
    "pna_SON_LT1 = pna[30:66,9]\n",
    "pna_SON_LT4 = pna[30:66,6]\n",
    "pna_SON = data.frame(rowMeans(pna_SON))\n",
    "pna_SON = as.list(pna_SON$rowMeans.pna_SON.)\n",
    "\n",
    "pna_MAM = pna[30:66,4:6]\n",
    "pna_MAM_LT1 = pna[30:66,3]\n",
    "pna_MAM_LT4 = pna[29:65,12]\n",
    "pna_MAM = data.frame(rowMeans(pna_MAM))\n",
    "pna_MAM = as.list(pna_MAM$rowMeans.pna_MAM.)\n",
    "\n",
    "pna_DJF = pna[29:65,c(12,1,2)]\n",
    "pna_DJF_LT1 = pna[29:65,11]\n",
    "pna_DJF_LT4 = pna[29:65,8]\n",
    "pna_DJF = data.frame(rowMeans(pna_DJF))\n",
    "pna_DJF = as.list(pna_DJF$rowMeans.pna_DJF.)"
   ]
  },
  {
   "cell_type": "code",
   "execution_count": 37,
   "id": "93ce46de",
   "metadata": {},
   "outputs": [],
   "source": [
    "scand = read.table(\"/home/oem/Desktop/TFM/indicesclimaticos/scand_index.tim.txt\", skip = 8, header = T)\n",
    "scand <- scand %>% spread(MONTH,INDEX)\n",
    "colnames(scand) = c(\"Year\", 'Jan', 'Feb', 'Mar', 'Apr', 'May', 'Jun', 'Jul', 'Aug', 'Sep', 'Oct', 'Nov', 'Dec')\n",
    "scand_JJA = scand[30:66,7:9]\n",
    "scand_JJA_LT1 = scand[30:66,6]\n",
    "scand_JJA_LT4 = scand[30:66,3]\n",
    "scand_JJA = data.frame(rowMeans(scand_JJA))\n",
    "scand_JJA = as.list(scand_JJA$rowMeans.scand_JJA.)\n",
    "\n",
    "scand_SON = scand[30:66,10:12]\n",
    "scand_SON_LT1 = scand[30:66,9]\n",
    "scand_SON_LT4 = scand[30:66,6]\n",
    "scand_SON = data.frame(rowMeans(scand_SON))\n",
    "scand_SON = as.list(scand_SON$rowMeans.scand_SON.)\n",
    "\n",
    "scand_MAM = scand[30:66,4:6]\n",
    "scand_MAM_LT1 = scand[30:66,3]\n",
    "scand_MAM_LT4 = scand[29:65,12]\n",
    "scand_MAM = data.frame(rowMeans(scand_MAM))\n",
    "scand_MAM = as.list(scand_MAM$rowMeans.scand_MAM.)\n",
    "\n",
    "scand_DJF = scand[29:65,c(12,1,2)]\n",
    "scand_DJF_LT1 = scand[29:65,11]\n",
    "scand_DJF_LT4 = scand[29:65,8]\n",
    "scand_DJF = data.frame(rowMeans(scand_DJF))\n",
    "scand_DJF = as.list(scand_DJF$rowMeans.scand_DJF.)"
   ]
  },
  {
   "cell_type": "code",
   "execution_count": 38,
   "id": "b7d19936",
   "metadata": {},
   "outputs": [],
   "source": [
    "soi = read.table(\"/home/oem/Desktop/TFM/indicesclimaticos/soi.txt\", skip = 88, ,nrows = 70,\n",
    "                 col.names = c(\"Year\", 'Jan', 'Feb', 'Mar', 'Apr', 'May', 'Jun', 'Jul', 'Aug', 'Sep', 'Oct', 'Nov', 'Dec'))\n",
    "soi_JJA = soi[29:65,7:9]\n",
    "soi_JJA_LT1 = soi[29:65,6]\n",
    "soi_JJA_LT4 = soi[29:65,3]\n",
    "soi_JJA = data.frame(rowMeans(soi_JJA))\n",
    "soi_JJA = as.list(soi_JJA$rowMeans.soi_JJA.)\n",
    "\n",
    "soi_SON = soi[29:65,10:12]\n",
    "soi_SON_LT1 = soi[29:65,9]\n",
    "soi_SON_LT4 = soi[29:65,6]\n",
    "soi_SON = data.frame(rowMeans(soi_SON))\n",
    "soi_SON = as.list(soi_SON$rowMeans.soi_SON.)\n",
    "\n",
    "soi_MAM = soi[29:65,4:6]\n",
    "soi_MAM_LT1 = soi[29:65,3]\n",
    "soi_MAM_LT4 = soi[28:64,12]\n",
    "soi_MAM = data.frame(rowMeans(soi_MAM))\n",
    "soi_MAM = as.list(soi_MAM$rowMeans.soi_MAM.)\n",
    "\n",
    "soi_DJF = soi[28:64,c(12,1,2)]\n",
    "soi_DJF_LT1 = soi[28:64,11]\n",
    "soi_DJF_LT4 = soi[28:64,8]\n",
    "soi_DJF = data.frame(rowMeans(soi_DJF))\n",
    "soi_DJF = as.list(soi_DJF$rowMeans.soi_DJF.)"
   ]
  },
  {
   "cell_type": "code",
   "execution_count": 40,
   "id": "f46833c3",
   "metadata": {},
   "outputs": [],
   "source": [
    "wp = read.table(\"/home/oem/Desktop/TFM/indicesclimaticos/wp_index.tim.txt\", skip = 8, header = T)\n",
    "wp <- wp %>% spread(MONTH,INDEX)\n",
    "colnames(wp) = c(\"Year\", 'Jan', 'Feb', 'Mar', 'Apr', 'May', 'Jun', 'Jul', 'Aug', 'Sep', 'Oct', 'Nov', 'Dec')\n",
    "wp_JJA = wp[30:66,7:9]\n",
    "wp_JJA_LT1 = wp[30:66,6]\n",
    "wp_JJA_LT4 = wp[30:66,3]\n",
    "wp_JJA = data.frame(rowMeans(wp_JJA))\n",
    "wp_JJA = as.list(wp_JJA$rowMeans.wp_JJA.)\n",
    "\n",
    "wp_SON = wp[30:66,10:12]\n",
    "wp_SON_LT1 = wp[30:66,9]\n",
    "wp_SON_LT4 = wp[30:66,6]\n",
    "wp_SON = data.frame(rowMeans(wp_SON))\n",
    "wp_SON = as.list(wp_SON$rowMeans.wp_SON.)\n",
    "\n",
    "wp_MAM = wp[30:66,4:6]\n",
    "wp_MAM_LT1 = wp[30:66,3]\n",
    "wp_MAM_LT4 = wp[29:65,12]\n",
    "wp_MAM = data.frame(rowMeans(wp_MAM))\n",
    "wp_MAM = as.list(wp_MAM$rowMeans.wp_MAM.)\n",
    "\n",
    "wp_DJF = wp[29:65,c(12,1,2)]\n",
    "wp_DJF_LT1 = wp[29:65,11]\n",
    "wp_DJF_LT4 = wp[29:65,8]\n",
    "wp_DJF = data.frame(rowMeans(wp_DJF))\n",
    "wp_DJF = as.list(wp_DJF$rowMeans.wp_DJF.)"
   ]
  },
  {
   "cell_type": "code",
   "execution_count": 54,
   "id": "b81797ea",
   "metadata": {},
   "outputs": [],
   "source": [
    "indices_JJA = as.data.frame(cbind(as.numeric(nina_JJA),as.numeric(oni_JJA),as.numeric(nao_JJA),\n",
    "            as.numeric(poleur_JJA),as.numeric(ea_JJA),as.numeric(eawr_JJA),\n",
    "            as.numeric(pna_JJA),as.numeric(scand_JJA),as.numeric(soi_JJA),as.numeric(wp_JJA)))\n",
    "colnames(indices_JJA) = c('nina','oni','nao','poleur','ea','eawr','pna','scand','soi','wp')\n",
    "indices_JJA_LT1 = as.data.frame(cbind(as.numeric(nina_JJA_LT1),as.numeric(oni_JJA_LT1),as.numeric(nao_JJA_LT1),\n",
    "            as.numeric(poleur_JJA_LT1),as.numeric(ea_JJA_LT1),as.numeric(eawr_JJA_LT1),\n",
    "            as.numeric(pna_JJA_LT1),as.numeric(scand_JJA_LT1),as.numeric(soi_JJA_LT1),as.numeric(wp_JJA_LT1)))\n",
    "colnames(indices_JJA_LT1) = c('nina','oni','nao','poleur','ea','eawr','pna','scand','soi','wp')\n",
    "indices_JJA_LT4 = as.data.frame(cbind(as.numeric(nina_JJA_LT4),as.numeric(oni_JJA_LT4),as.numeric(nao_JJA_LT4),\n",
    "            as.numeric(poleur_JJA_LT4),as.numeric(ea_JJA_LT4),as.numeric(eawr_JJA_LT4),\n",
    "            as.numeric(pna_JJA_LT4),as.numeric(scand_JJA_LT4),as.numeric(soi_JJA_LT4),as.numeric(wp_JJA_LT4)))\n",
    "colnames(indices_JJA_LT4) = c('nina','oni','nao','poleur','ea','eawr','pna','scand','soi','wp')"
   ]
  },
  {
   "cell_type": "code",
   "execution_count": 55,
   "id": "c65dc15c",
   "metadata": {},
   "outputs": [],
   "source": [
    "indices_SON = as.data.frame(cbind(as.numeric(nina_SON),as.numeric(oni_SON),as.numeric(nao_SON),\n",
    "            as.numeric(poleur_SON),as.numeric(ea_SON),as.numeric(eawr_SON),\n",
    "            as.numeric(pna_SON),as.numeric(scand_SON),as.numeric(soi_SON),as.numeric(wp_SON)))\n",
    "colnames(indices_SON) = c('nina','oni','nao','poleur','ea','eawr','pna','scand','soi','wp')\n",
    "indices_SON_LT1 = as.data.frame(cbind(as.numeric(nina_SON_LT1),as.numeric(oni_SON_LT1),as.numeric(nao_SON_LT1),\n",
    "            as.numeric(poleur_SON_LT1),as.numeric(ea_SON_LT1),as.numeric(eawr_SON_LT1),\n",
    "            as.numeric(pna_SON_LT1),as.numeric(scand_SON_LT1),as.numeric(soi_SON_LT1),as.numeric(wp_SON_LT1)))\n",
    "colnames(indices_SON_LT1) = c('nina','oni','nao','poleur','ea','eawr','pna','scand','soi','wp')\n",
    "indices_SON_LT4 = as.data.frame(cbind(as.numeric(nina_SON_LT4),as.numeric(oni_SON_LT4),as.numeric(nao_SON_LT4),\n",
    "            as.numeric(poleur_SON_LT4),as.numeric(ea_SON_LT4),as.numeric(eawr_SON_LT4),\n",
    "            as.numeric(pna_SON_LT4),as.numeric(scand_SON_LT4),as.numeric(soi_SON_LT4),as.numeric(wp_SON_LT4)))\n",
    "colnames(indices_SON_LT4) = c('nina','oni','nao','poleur','ea','eawr','pna','scand','soi','wp')"
   ]
  },
  {
   "cell_type": "code",
   "execution_count": 73,
   "id": "a82caddf",
   "metadata": {},
   "outputs": [],
   "source": [
    "indices_MAM = as.data.frame(cbind(as.numeric(nina_MAM),as.numeric(oni_MAM),as.numeric(nao_MAM),\n",
    "            as.numeric(poleur_MAM),as.numeric(ea_MAM),as.numeric(eawr_MAM),\n",
    "            as.numeric(pna_MAM),as.numeric(scand_MAM),as.numeric(soi_MAM),as.numeric(wp_MAM)))\n",
    "colnames(indices_MAM) = c('nina','oni','nao','poleur','ea','eawr','pna','scand','soi','wp')\n",
    "indices_MAM_LT1 = as.data.frame(cbind(as.numeric(nina_MAM_LT1),as.numeric(oni_MAM_LT1),as.numeric(nao_MAM_LT1),\n",
    "            as.numeric(poleur_MAM_LT1),as.numeric(ea_MAM_LT1),as.numeric(eawr_MAM_LT1),\n",
    "            as.numeric(pna_MAM_LT1),as.numeric(scand_MAM_LT1),as.numeric(soi_MAM_LT1),as.numeric(wp_MAM_LT1)))\n",
    "colnames(indices_MAM_LT1) = c('nina','oni','nao','poleur','ea','eawr','pna','scand','soi','wp')\n",
    "indices_MAM_LT4 = as.data.frame(cbind(as.numeric(nina_MAM_LT4),as.numeric(oni_MAM_LT4),as.numeric(nao_MAM_LT4),\n",
    "            as.numeric(poleur_MAM_LT4),as.numeric(ea_MAM_LT4),as.numeric(eawr_MAM_LT4),\n",
    "            as.numeric(pna_MAM_LT4),as.numeric(scand_MAM_LT4),as.numeric(soi_MAM_LT4),as.numeric(wp_MAM_LT4)))\n",
    "colnames(indices_MAM_LT4) = c('nina','oni','nao','poleur','ea','eawr','pna','scand','soi','wp')"
   ]
  },
  {
   "cell_type": "code",
   "execution_count": 41,
   "id": "69a8684f",
   "metadata": {},
   "outputs": [],
   "source": [
    "indices_DJF = as.data.frame(cbind(as.numeric(nina_DJF),as.numeric(oni_DJF),as.numeric(nao_DJF),\n",
    "            as.numeric(poleur_DJF),as.numeric(ea_DJF),as.numeric(eawr_DJF),\n",
    "            as.numeric(pna_DJF),as.numeric(scand_DJF),as.numeric(soi_DJF),as.numeric(wp_DJF)))\n",
    "colnames(indices_DJF) = c('nina','oni','nao','poleur','ea','eawr','pna','scand','soi','wp')\n",
    "indices_DJF_LT1 = as.data.frame(cbind(as.numeric(nina_DJF_LT1),as.numeric(oni_DJF_LT1),as.numeric(nao_DJF_LT1),\n",
    "            as.numeric(poleur_DJF_LT1),as.numeric(ea_DJF_LT1),as.numeric(eawr_DJF_LT1),\n",
    "            as.numeric(pna_DJF_LT1),as.numeric(scand_DJF_LT1),as.numeric(soi_DJF_LT1),as.numeric(wp_DJF_LT1)))\n",
    "colnames(indices_DJF_LT1) = c('nina','oni','nao','poleur','ea','eawr','pna','scand','soi','wp')\n",
    "indices_DJF_LT4 = as.data.frame(cbind(as.numeric(nina_DJF_LT4),as.numeric(oni_DJF_LT4),as.numeric(nao_DJF_LT4),\n",
    "            as.numeric(poleur_DJF_LT4),as.numeric(ea_DJF_LT4),as.numeric(eawr_DJF_LT4),\n",
    "            as.numeric(pna_DJF_LT4),as.numeric(scand_DJF_LT4),as.numeric(soi_DJF_LT4),as.numeric(wp_DJF_LT4)))\n",
    "colnames(indices_DJF_LT4) = c('nina','oni','nao','poleur','ea','eawr','pna','scand','soi','wp')"
   ]
  },
  {
   "cell_type": "code",
   "execution_count": 56,
   "id": "e57447a3",
   "metadata": {},
   "outputs": [],
   "source": [
    "save(indices_JJA, file = \"indices_JJA.rda\") \n",
    "save(indices_JJA_LT1, file = \"indices_JJA_LT1.rda\") \n",
    "save(indices_JJA_LT4, file = \"indices_JJA_LT4.rda\") "
   ]
  },
  {
   "cell_type": "code",
   "execution_count": 74,
   "id": "3eb08a2e",
   "metadata": {},
   "outputs": [],
   "source": [
    "save(indices_SON, file = \"indices_SON.rda\") \n",
    "save(indices_SON_LT1, file = \"indices_SON_LT1.rda\") \n",
    "save(indices_SON_LT4, file = \"indices_SON_LT4.rda\") "
   ]
  },
  {
   "cell_type": "code",
   "execution_count": 75,
   "id": "71c176a7",
   "metadata": {},
   "outputs": [],
   "source": [
    "save(indices_MAM, file = \"indices_MAM.rda\") \n",
    "save(indices_MAM_LT1, file = \"indices_MAM_LT1.rda\") \n",
    "save(indices_MAM_LT4, file = \"indices_MAM_LT4.rda\") "
   ]
  },
  {
   "cell_type": "code",
   "execution_count": 44,
   "id": "785f2556",
   "metadata": {},
   "outputs": [],
   "source": [
    "save(indices_DJF, file = \"indices_DJF.rda\") \n",
    "save(indices_DJF_LT1, file = \"indices_DJF_LT1.rda\") \n",
    "save(indices_DJF_LT4, file = \"indices_DJF_LT4.rda\") "
   ]
  },
  {
   "cell_type": "code",
   "execution_count": 23,
   "id": "8212af6b",
   "metadata": {},
   "outputs": [
    {
     "name": "stdout",
     "output_type": "stream",
     "text": [
      "[1] \"### loading 1979 ###\"\n"
     ]
    },
    {
     "name": "stderr",
     "output_type": "stream",
     "text": [
      "[2023-08-04 16:12:39] Defining geo-location parameters\n",
      "\n",
      "[2023-08-04 16:12:39] Defining time selection parameters\n",
      "\n",
      "[2023-08-04 16:12:39] Retrieving data subset ...\n",
      "\n",
      "[2023-08-04 16:12:42] Done\n",
      "\n",
      "[2023-08-04 16:12:42] Performing annual aggregation...\n",
      "\n",
      "[2023-08-04 16:12:50] Done.\n",
      "\n"
     ]
    },
    {
     "name": "stdout",
     "output_type": "stream",
     "text": [
      "[1] \"### loading 1980 ###\"\n"
     ]
    },
    {
     "name": "stderr",
     "output_type": "stream",
     "text": [
      "[2023-08-04 16:12:50] Defining geo-location parameters\n",
      "\n",
      "[2023-08-04 16:12:50] Defining time selection parameters\n",
      "\n",
      "[2023-08-04 16:12:50] Retrieving data subset ...\n",
      "\n",
      "[2023-08-04 16:12:52] Done\n",
      "\n",
      "[2023-08-04 16:12:52] Performing annual aggregation...\n",
      "\n",
      "[2023-08-04 16:12:59] Done.\n",
      "\n"
     ]
    },
    {
     "name": "stdout",
     "output_type": "stream",
     "text": [
      "[1] \"### loading 1981 ###\"\n"
     ]
    },
    {
     "name": "stderr",
     "output_type": "stream",
     "text": [
      "[2023-08-04 16:13:00] Defining geo-location parameters\n",
      "\n",
      "[2023-08-04 16:13:00] Defining time selection parameters\n",
      "\n",
      "[2023-08-04 16:13:00] Retrieving data subset ...\n",
      "\n",
      "[2023-08-04 16:13:02] Done\n",
      "\n",
      "[2023-08-04 16:13:02] Performing annual aggregation...\n",
      "\n",
      "[2023-08-04 16:13:10] Done.\n",
      "\n"
     ]
    },
    {
     "name": "stdout",
     "output_type": "stream",
     "text": [
      "[1] \"### loading 1982 ###\"\n"
     ]
    },
    {
     "name": "stderr",
     "output_type": "stream",
     "text": [
      "[2023-08-04 16:13:10] Defining geo-location parameters\n",
      "\n",
      "[2023-08-04 16:13:10] Defining time selection parameters\n",
      "\n",
      "[2023-08-04 16:13:10] Retrieving data subset ...\n",
      "\n",
      "[2023-08-04 16:13:12] Done\n",
      "\n",
      "[2023-08-04 16:13:12] Performing annual aggregation...\n",
      "\n",
      "[2023-08-04 16:13:19] Done.\n",
      "\n"
     ]
    },
    {
     "name": "stdout",
     "output_type": "stream",
     "text": [
      "[1] \"### loading 1983 ###\"\n"
     ]
    },
    {
     "name": "stderr",
     "output_type": "stream",
     "text": [
      "[2023-08-04 16:13:19] Defining geo-location parameters\n",
      "\n",
      "[2023-08-04 16:13:20] Defining time selection parameters\n",
      "\n",
      "[2023-08-04 16:13:20] Retrieving data subset ...\n",
      "\n",
      "[2023-08-04 16:13:21] Done\n",
      "\n",
      "[2023-08-04 16:13:21] Performing annual aggregation...\n",
      "\n",
      "[2023-08-04 16:13:28] Done.\n",
      "\n"
     ]
    },
    {
     "name": "stdout",
     "output_type": "stream",
     "text": [
      "[1] \"### loading 1984 ###\"\n"
     ]
    },
    {
     "name": "stderr",
     "output_type": "stream",
     "text": [
      "[2023-08-04 16:13:29] Defining geo-location parameters\n",
      "\n",
      "[2023-08-04 16:13:29] Defining time selection parameters\n",
      "\n",
      "[2023-08-04 16:13:29] Retrieving data subset ...\n",
      "\n",
      "[2023-08-04 16:13:31] Done\n",
      "\n",
      "[2023-08-04 16:13:31] Performing annual aggregation...\n",
      "\n",
      "[2023-08-04 16:13:38] Done.\n",
      "\n"
     ]
    },
    {
     "name": "stdout",
     "output_type": "stream",
     "text": [
      "[1] \"### loading 1985 ###\"\n"
     ]
    },
    {
     "name": "stderr",
     "output_type": "stream",
     "text": [
      "[2023-08-04 16:13:38] Defining geo-location parameters\n",
      "\n",
      "[2023-08-04 16:13:38] Defining time selection parameters\n",
      "\n",
      "[2023-08-04 16:13:38] Retrieving data subset ...\n",
      "\n",
      "[2023-08-04 16:13:40] Done\n",
      "\n",
      "[2023-08-04 16:13:40] Performing annual aggregation...\n",
      "\n",
      "[2023-08-04 16:13:47] Done.\n",
      "\n"
     ]
    },
    {
     "name": "stdout",
     "output_type": "stream",
     "text": [
      "[1] \"### loading 1986 ###\"\n"
     ]
    },
    {
     "name": "stderr",
     "output_type": "stream",
     "text": [
      "[2023-08-04 16:13:48] Defining geo-location parameters\n",
      "\n",
      "[2023-08-04 16:13:48] Defining time selection parameters\n",
      "\n",
      "[2023-08-04 16:13:48] Retrieving data subset ...\n",
      "\n",
      "[2023-08-04 16:13:50] Done\n",
      "\n",
      "[2023-08-04 16:13:50] Performing annual aggregation...\n",
      "\n",
      "[2023-08-04 16:13:57] Done.\n",
      "\n"
     ]
    },
    {
     "name": "stdout",
     "output_type": "stream",
     "text": [
      "[1] \"### loading 1987 ###\"\n"
     ]
    },
    {
     "name": "stderr",
     "output_type": "stream",
     "text": [
      "[2023-08-04 16:13:57] Defining geo-location parameters\n",
      "\n",
      "[2023-08-04 16:13:57] Defining time selection parameters\n",
      "\n",
      "[2023-08-04 16:13:57] Retrieving data subset ...\n",
      "\n",
      "[2023-08-04 16:13:59] Done\n",
      "\n",
      "[2023-08-04 16:13:59] Performing annual aggregation...\n",
      "\n",
      "[2023-08-04 16:14:06] Done.\n",
      "\n"
     ]
    },
    {
     "name": "stdout",
     "output_type": "stream",
     "text": [
      "[1] \"### loading 1988 ###\"\n"
     ]
    },
    {
     "name": "stderr",
     "output_type": "stream",
     "text": [
      "[2023-08-04 16:14:07] Defining geo-location parameters\n",
      "\n",
      "[2023-08-04 16:14:07] Defining time selection parameters\n",
      "\n",
      "[2023-08-04 16:14:07] Retrieving data subset ...\n",
      "\n",
      "[2023-08-04 16:14:09] Done\n",
      "\n",
      "[2023-08-04 16:14:09] Performing annual aggregation...\n",
      "\n",
      "[2023-08-04 16:14:16] Done.\n",
      "\n"
     ]
    },
    {
     "name": "stdout",
     "output_type": "stream",
     "text": [
      "[1] \"### loading 1989 ###\"\n"
     ]
    },
    {
     "name": "stderr",
     "output_type": "stream",
     "text": [
      "[2023-08-04 16:14:16] Defining geo-location parameters\n",
      "\n",
      "[2023-08-04 16:14:16] Defining time selection parameters\n",
      "\n",
      "[2023-08-04 16:14:17] Retrieving data subset ...\n",
      "\n",
      "[2023-08-04 16:14:19] Done\n",
      "\n",
      "[2023-08-04 16:14:19] Performing annual aggregation...\n",
      "\n",
      "[2023-08-04 16:14:26] Done.\n",
      "\n"
     ]
    },
    {
     "name": "stdout",
     "output_type": "stream",
     "text": [
      "[1] \"### loading 1990 ###\"\n"
     ]
    },
    {
     "name": "stderr",
     "output_type": "stream",
     "text": [
      "[2023-08-04 16:14:26] Defining geo-location parameters\n",
      "\n",
      "[2023-08-04 16:14:26] Defining time selection parameters\n",
      "\n",
      "[2023-08-04 16:14:26] Retrieving data subset ...\n",
      "\n",
      "[2023-08-04 16:14:28] Done\n",
      "\n",
      "[2023-08-04 16:14:28] Performing annual aggregation...\n",
      "\n",
      "[2023-08-04 16:14:34] Done.\n",
      "\n"
     ]
    },
    {
     "name": "stdout",
     "output_type": "stream",
     "text": [
      "[1] \"### loading 1991 ###\"\n"
     ]
    },
    {
     "name": "stderr",
     "output_type": "stream",
     "text": [
      "[2023-08-04 16:14:35] Defining geo-location parameters\n",
      "\n",
      "[2023-08-04 16:14:35] Defining time selection parameters\n",
      "\n",
      "[2023-08-04 16:14:35] Retrieving data subset ...\n",
      "\n",
      "[2023-08-04 16:14:37] Done\n",
      "\n",
      "[2023-08-04 16:14:37] Performing annual aggregation...\n",
      "\n",
      "[2023-08-04 16:14:43] Done.\n",
      "\n"
     ]
    },
    {
     "name": "stdout",
     "output_type": "stream",
     "text": [
      "[1] \"### loading 1992 ###\"\n"
     ]
    },
    {
     "name": "stderr",
     "output_type": "stream",
     "text": [
      "[2023-08-04 16:14:44] Defining geo-location parameters\n",
      "\n",
      "[2023-08-04 16:14:44] Defining time selection parameters\n",
      "\n",
      "[2023-08-04 16:14:44] Retrieving data subset ...\n",
      "\n",
      "[2023-08-04 16:14:46] Done\n",
      "\n",
      "[2023-08-04 16:14:46] Performing annual aggregation...\n",
      "\n",
      "[2023-08-04 16:14:53] Done.\n",
      "\n"
     ]
    },
    {
     "name": "stdout",
     "output_type": "stream",
     "text": [
      "[1] \"### loading 1993 ###\"\n"
     ]
    },
    {
     "name": "stderr",
     "output_type": "stream",
     "text": [
      "[2023-08-04 16:14:53] Defining geo-location parameters\n",
      "\n",
      "[2023-08-04 16:14:53] Defining time selection parameters\n",
      "\n",
      "[2023-08-04 16:14:53] Retrieving data subset ...\n",
      "\n",
      "[2023-08-04 16:14:55] Done\n",
      "\n",
      "[2023-08-04 16:14:55] Performing annual aggregation...\n",
      "\n",
      "[2023-08-04 16:15:02] Done.\n",
      "\n"
     ]
    },
    {
     "name": "stdout",
     "output_type": "stream",
     "text": [
      "[1] \"### loading 1994 ###\"\n"
     ]
    },
    {
     "name": "stderr",
     "output_type": "stream",
     "text": [
      "[2023-08-04 16:15:03] Defining geo-location parameters\n",
      "\n",
      "[2023-08-04 16:15:03] Defining time selection parameters\n",
      "\n",
      "[2023-08-04 16:15:03] Retrieving data subset ...\n",
      "\n",
      "[2023-08-04 16:15:05] Done\n",
      "\n",
      "[2023-08-04 16:15:05] Performing annual aggregation...\n",
      "\n",
      "[2023-08-04 16:15:12] Done.\n",
      "\n"
     ]
    },
    {
     "name": "stdout",
     "output_type": "stream",
     "text": [
      "[1] \"### loading 1995 ###\"\n"
     ]
    },
    {
     "name": "stderr",
     "output_type": "stream",
     "text": [
      "[2023-08-04 16:15:12] Defining geo-location parameters\n",
      "\n",
      "[2023-08-04 16:15:12] Defining time selection parameters\n",
      "\n",
      "[2023-08-04 16:15:12] Retrieving data subset ...\n",
      "\n",
      "[2023-08-04 16:15:14] Done\n",
      "\n",
      "[2023-08-04 16:15:14] Performing annual aggregation...\n",
      "\n",
      "[2023-08-04 16:15:21] Done.\n",
      "\n"
     ]
    },
    {
     "name": "stdout",
     "output_type": "stream",
     "text": [
      "[1] \"### loading 1996 ###\"\n"
     ]
    },
    {
     "name": "stderr",
     "output_type": "stream",
     "text": [
      "[2023-08-04 16:15:22] Defining geo-location parameters\n",
      "\n",
      "[2023-08-04 16:15:22] Defining time selection parameters\n",
      "\n",
      "[2023-08-04 16:15:22] Retrieving data subset ...\n",
      "\n",
      "[2023-08-04 16:15:24] Done\n",
      "\n",
      "[2023-08-04 16:15:24] Performing annual aggregation...\n",
      "\n",
      "[2023-08-04 16:15:31] Done.\n",
      "\n"
     ]
    },
    {
     "name": "stdout",
     "output_type": "stream",
     "text": [
      "[1] \"### loading 1997 ###\"\n"
     ]
    },
    {
     "name": "stderr",
     "output_type": "stream",
     "text": [
      "[2023-08-04 16:15:31] Defining geo-location parameters\n",
      "\n",
      "[2023-08-04 16:15:31] Defining time selection parameters\n",
      "\n",
      "[2023-08-04 16:15:31] Retrieving data subset ...\n",
      "\n",
      "[2023-08-04 16:15:33] Done\n",
      "\n",
      "[2023-08-04 16:15:33] Performing annual aggregation...\n",
      "\n",
      "[2023-08-04 16:15:41] Done.\n",
      "\n"
     ]
    },
    {
     "name": "stdout",
     "output_type": "stream",
     "text": [
      "[1] \"### loading 1998 ###\"\n"
     ]
    },
    {
     "name": "stderr",
     "output_type": "stream",
     "text": [
      "[2023-08-04 16:15:41] Defining geo-location parameters\n",
      "\n",
      "[2023-08-04 16:15:41] Defining time selection parameters\n",
      "\n",
      "[2023-08-04 16:15:41] Retrieving data subset ...\n",
      "\n",
      "[2023-08-04 16:15:43] Done\n",
      "\n",
      "[2023-08-04 16:15:43] Performing annual aggregation...\n",
      "\n",
      "[2023-08-04 16:15:50] Done.\n",
      "\n"
     ]
    },
    {
     "name": "stdout",
     "output_type": "stream",
     "text": [
      "[1] \"### loading 1999 ###\"\n"
     ]
    },
    {
     "name": "stderr",
     "output_type": "stream",
     "text": [
      "[2023-08-04 16:15:50] Defining geo-location parameters\n",
      "\n",
      "[2023-08-04 16:15:50] Defining time selection parameters\n",
      "\n",
      "[2023-08-04 16:15:50] Retrieving data subset ...\n",
      "\n",
      "[2023-08-04 16:15:52] Done\n",
      "\n",
      "[2023-08-04 16:15:52] Performing annual aggregation...\n",
      "\n",
      "[2023-08-04 16:15:59] Done.\n",
      "\n"
     ]
    },
    {
     "name": "stdout",
     "output_type": "stream",
     "text": [
      "[1] \"### loading 2000 ###\"\n"
     ]
    },
    {
     "name": "stderr",
     "output_type": "stream",
     "text": [
      "[2023-08-04 16:15:59] Defining geo-location parameters\n",
      "\n",
      "[2023-08-04 16:15:59] Defining time selection parameters\n",
      "\n",
      "[2023-08-04 16:15:59] Retrieving data subset ...\n",
      "\n",
      "[2023-08-04 16:16:01] Done\n",
      "\n",
      "[2023-08-04 16:16:01] Performing annual aggregation...\n",
      "\n",
      "[2023-08-04 16:16:08] Done.\n",
      "\n"
     ]
    },
    {
     "name": "stdout",
     "output_type": "stream",
     "text": [
      "[1] \"### loading 2001 ###\"\n"
     ]
    },
    {
     "name": "stderr",
     "output_type": "stream",
     "text": [
      "[2023-08-04 16:16:09] Defining geo-location parameters\n",
      "\n",
      "[2023-08-04 16:16:09] Defining time selection parameters\n",
      "\n",
      "[2023-08-04 16:16:09] Retrieving data subset ...\n",
      "\n",
      "[2023-08-04 16:16:11] Done\n",
      "\n",
      "[2023-08-04 16:16:11] Performing annual aggregation...\n",
      "\n",
      "[2023-08-04 16:16:18] Done.\n",
      "\n"
     ]
    },
    {
     "name": "stdout",
     "output_type": "stream",
     "text": [
      "[1] \"### loading 2002 ###\"\n"
     ]
    },
    {
     "name": "stderr",
     "output_type": "stream",
     "text": [
      "[2023-08-04 16:16:18] Defining geo-location parameters\n",
      "\n",
      "[2023-08-04 16:16:18] Defining time selection parameters\n",
      "\n",
      "[2023-08-04 16:16:18] Retrieving data subset ...\n",
      "\n",
      "[2023-08-04 16:16:20] Done\n",
      "\n",
      "[2023-08-04 16:16:20] Performing annual aggregation...\n",
      "\n",
      "[2023-08-04 16:16:27] Done.\n",
      "\n"
     ]
    },
    {
     "name": "stdout",
     "output_type": "stream",
     "text": [
      "[1] \"### loading 2003 ###\"\n"
     ]
    },
    {
     "name": "stderr",
     "output_type": "stream",
     "text": [
      "[2023-08-04 16:16:27] Defining geo-location parameters\n",
      "\n",
      "[2023-08-04 16:16:27] Defining time selection parameters\n",
      "\n",
      "[2023-08-04 16:16:27] Retrieving data subset ...\n",
      "\n",
      "[2023-08-04 16:16:29] Done\n",
      "\n",
      "[2023-08-04 16:16:29] Performing annual aggregation...\n",
      "\n",
      "[2023-08-04 16:16:36] Done.\n",
      "\n"
     ]
    },
    {
     "name": "stdout",
     "output_type": "stream",
     "text": [
      "[1] \"### loading 2004 ###\"\n"
     ]
    },
    {
     "name": "stderr",
     "output_type": "stream",
     "text": [
      "[2023-08-04 16:16:36] Defining geo-location parameters\n",
      "\n",
      "[2023-08-04 16:16:36] Defining time selection parameters\n",
      "\n",
      "[2023-08-04 16:16:36] Retrieving data subset ...\n",
      "\n",
      "[2023-08-04 16:16:38] Done\n",
      "\n",
      "[2023-08-04 16:16:38] Performing annual aggregation...\n",
      "\n",
      "[2023-08-04 16:16:45] Done.\n",
      "\n"
     ]
    },
    {
     "name": "stdout",
     "output_type": "stream",
     "text": [
      "[1] \"### loading 2005 ###\"\n"
     ]
    },
    {
     "name": "stderr",
     "output_type": "stream",
     "text": [
      "[2023-08-04 16:16:46] Defining geo-location parameters\n",
      "\n",
      "[2023-08-04 16:16:46] Defining time selection parameters\n",
      "\n",
      "[2023-08-04 16:16:46] Retrieving data subset ...\n",
      "\n",
      "[2023-08-04 16:16:48] Done\n",
      "\n",
      "[2023-08-04 16:16:48] Performing annual aggregation...\n",
      "\n",
      "[2023-08-04 16:16:55] Done.\n",
      "\n"
     ]
    },
    {
     "name": "stdout",
     "output_type": "stream",
     "text": [
      "[1] \"### loading 2006 ###\"\n"
     ]
    },
    {
     "name": "stderr",
     "output_type": "stream",
     "text": [
      "[2023-08-04 16:16:55] Defining geo-location parameters\n",
      "\n",
      "[2023-08-04 16:16:55] Defining time selection parameters\n",
      "\n",
      "[2023-08-04 16:16:55] Retrieving data subset ...\n",
      "\n",
      "[2023-08-04 16:16:57] Done\n",
      "\n",
      "[2023-08-04 16:16:57] Performing annual aggregation...\n",
      "\n",
      "[2023-08-04 16:17:04] Done.\n",
      "\n"
     ]
    },
    {
     "name": "stdout",
     "output_type": "stream",
     "text": [
      "[1] \"### loading 2007 ###\"\n"
     ]
    },
    {
     "name": "stderr",
     "output_type": "stream",
     "text": [
      "[2023-08-04 16:17:04] Defining geo-location parameters\n",
      "\n",
      "[2023-08-04 16:17:04] Defining time selection parameters\n",
      "\n",
      "[2023-08-04 16:17:04] Retrieving data subset ...\n",
      "\n",
      "[2023-08-04 16:17:06] Done\n",
      "\n",
      "[2023-08-04 16:17:06] Performing annual aggregation...\n",
      "\n",
      "[2023-08-04 16:17:14] Done.\n",
      "\n"
     ]
    },
    {
     "name": "stdout",
     "output_type": "stream",
     "text": [
      "[1] \"### loading 2008 ###\"\n"
     ]
    },
    {
     "name": "stderr",
     "output_type": "stream",
     "text": [
      "[2023-08-04 16:17:14] Defining geo-location parameters\n",
      "\n",
      "[2023-08-04 16:17:14] Defining time selection parameters\n",
      "\n",
      "[2023-08-04 16:17:14] Retrieving data subset ...\n",
      "\n",
      "[2023-08-04 16:17:16] Done\n",
      "\n",
      "[2023-08-04 16:17:16] Performing annual aggregation...\n",
      "\n",
      "[2023-08-04 16:17:23] Done.\n",
      "\n"
     ]
    },
    {
     "name": "stdout",
     "output_type": "stream",
     "text": [
      "[1] \"### loading 2009 ###\"\n"
     ]
    },
    {
     "name": "stderr",
     "output_type": "stream",
     "text": [
      "[2023-08-04 16:17:23] Defining geo-location parameters\n",
      "\n",
      "[2023-08-04 16:17:23] Defining time selection parameters\n",
      "\n",
      "[2023-08-04 16:17:23] Retrieving data subset ...\n",
      "\n",
      "[2023-08-04 16:17:25] Done\n",
      "\n",
      "[2023-08-04 16:17:25] Performing annual aggregation...\n",
      "\n",
      "[2023-08-04 16:17:32] Done.\n",
      "\n"
     ]
    },
    {
     "name": "stdout",
     "output_type": "stream",
     "text": [
      "[1] \"### loading 2010 ###\"\n"
     ]
    },
    {
     "name": "stderr",
     "output_type": "stream",
     "text": [
      "[2023-08-04 16:17:32] Defining geo-location parameters\n",
      "\n",
      "[2023-08-04 16:17:32] Defining time selection parameters\n",
      "\n",
      "[2023-08-04 16:17:32] Retrieving data subset ...\n",
      "\n",
      "[2023-08-04 16:17:34] Done\n",
      "\n",
      "[2023-08-04 16:17:34] Performing annual aggregation...\n",
      "\n",
      "[2023-08-04 16:17:41] Done.\n",
      "\n"
     ]
    },
    {
     "name": "stdout",
     "output_type": "stream",
     "text": [
      "[1] \"### loading 2011 ###\"\n"
     ]
    },
    {
     "name": "stderr",
     "output_type": "stream",
     "text": [
      "[2023-08-04 16:17:42] Defining geo-location parameters\n",
      "\n",
      "[2023-08-04 16:17:42] Defining time selection parameters\n",
      "\n",
      "[2023-08-04 16:17:42] Retrieving data subset ...\n",
      "\n",
      "[2023-08-04 16:17:44] Done\n",
      "\n",
      "[2023-08-04 16:17:44] Performing annual aggregation...\n",
      "\n",
      "[2023-08-04 16:17:50] Done.\n",
      "\n"
     ]
    },
    {
     "name": "stdout",
     "output_type": "stream",
     "text": [
      "[1] \"### loading 2012 ###\"\n"
     ]
    },
    {
     "name": "stderr",
     "output_type": "stream",
     "text": [
      "[2023-08-04 16:17:51] Defining geo-location parameters\n",
      "\n",
      "[2023-08-04 16:17:51] Defining time selection parameters\n",
      "\n",
      "[2023-08-04 16:17:51] Retrieving data subset ...\n",
      "\n",
      "[2023-08-04 16:17:53] Done\n",
      "\n",
      "[2023-08-04 16:17:53] Performing annual aggregation...\n",
      "\n",
      "[2023-08-04 16:18:00] Done.\n",
      "\n"
     ]
    },
    {
     "name": "stdout",
     "output_type": "stream",
     "text": [
      "[1] \"### loading 2013 ###\"\n"
     ]
    },
    {
     "name": "stderr",
     "output_type": "stream",
     "text": [
      "[2023-08-04 16:18:00] Defining geo-location parameters\n",
      "\n",
      "[2023-08-04 16:18:00] Defining time selection parameters\n",
      "\n",
      "[2023-08-04 16:18:00] Retrieving data subset ...\n",
      "\n",
      "[2023-08-04 16:18:02] Done\n",
      "\n",
      "[2023-08-04 16:18:02] Performing annual aggregation...\n",
      "\n",
      "[2023-08-04 16:18:09] Done.\n",
      "\n"
     ]
    },
    {
     "name": "stdout",
     "output_type": "stream",
     "text": [
      "[1] \"### loading 2014 ###\"\n"
     ]
    },
    {
     "name": "stderr",
     "output_type": "stream",
     "text": [
      "[2023-08-04 16:18:10] Defining geo-location parameters\n",
      "\n",
      "[2023-08-04 16:18:10] Defining time selection parameters\n",
      "\n",
      "[2023-08-04 16:18:10] Retrieving data subset ...\n",
      "\n",
      "[2023-08-04 16:18:12] Done\n",
      "\n",
      "[2023-08-04 16:18:12] Performing annual aggregation...\n",
      "\n",
      "[2023-08-04 16:18:19] Done.\n",
      "\n"
     ]
    },
    {
     "name": "stdout",
     "output_type": "stream",
     "text": [
      "[1] \"### loading 2015 ###\"\n"
     ]
    },
    {
     "name": "stderr",
     "output_type": "stream",
     "text": [
      "[2023-08-04 16:18:19] Defining geo-location parameters\n",
      "\n",
      "[2023-08-04 16:18:19] Defining time selection parameters\n",
      "\n",
      "[2023-08-04 16:18:19] Retrieving data subset ...\n",
      "\n",
      "[2023-08-04 16:18:21] Done\n",
      "\n",
      "[2023-08-04 16:18:21] Performing annual aggregation...\n",
      "\n",
      "[2023-08-04 16:18:29] Done.\n",
      "\n"
     ]
    }
   ],
   "source": [
    "###############################\n",
    "## W5E5 observations for JJA ##\n",
    "###############################\n",
    "data_SON = lapply(1979:2015, function(iyear) {\n",
    "  print(sprintf(\"### loading %d ###\", iyear))\n",
    "  gridArithmetics(aggregateGrid(loadGridData('/home/oem/Desktop/TFM/datoss/pr_W5E5.nc', var = 'pr',\n",
    "                             season = 9:11, # SON\n",
    "                             years = iyear),\n",
    "                aggr.y = list(FUN = \"sum\", na.rm = T)),mask.bin.05,operator=\"*\")  \n",
    "})\n",
    "\n",
    "data_SON = bindGrid(data_SON, dimension = \"time\") \n",
    "data_SON = subsetGrid(data_SON, latLim = c(-60,89.75))\n",
    "save(data_SON, file = \"pr_SON.rda\") "
   ]
  },
  {
   "cell_type": "code",
   "execution_count": 24,
   "id": "4749acd1",
   "metadata": {},
   "outputs": [
    {
     "name": "stdout",
     "output_type": "stream",
     "text": [
      "[1] \"### loading 1979 ###\"\n"
     ]
    },
    {
     "name": "stderr",
     "output_type": "stream",
     "text": [
      "[2023-08-04 16:18:32] Defining geo-location parameters\n",
      "\n",
      "[2023-08-04 16:18:32] Defining time selection parameters\n",
      "\n",
      "[2023-08-04 16:18:32] Retrieving data subset ...\n",
      "\n",
      "[2023-08-04 16:18:34] Done\n",
      "\n",
      "[2023-08-04 16:18:34] Performing annual aggregation...\n",
      "\n",
      "[2023-08-04 16:18:42] Done.\n",
      "\n"
     ]
    },
    {
     "name": "stdout",
     "output_type": "stream",
     "text": [
      "[1] \"### loading 1980 ###\"\n"
     ]
    },
    {
     "name": "stderr",
     "output_type": "stream",
     "text": [
      "[2023-08-04 16:18:42] Defining geo-location parameters\n",
      "\n",
      "[2023-08-04 16:18:42] Defining time selection parameters\n",
      "\n",
      "[2023-08-04 16:18:42] Retrieving data subset ...\n",
      "\n",
      "[2023-08-04 16:18:43] Done\n",
      "\n",
      "[2023-08-04 16:18:43] Performing annual aggregation...\n",
      "\n",
      "[2023-08-04 16:18:52] Done.\n",
      "\n"
     ]
    },
    {
     "name": "stdout",
     "output_type": "stream",
     "text": [
      "[1] \"### loading 1981 ###\"\n"
     ]
    },
    {
     "name": "stderr",
     "output_type": "stream",
     "text": [
      "[2023-08-04 16:18:52] Defining geo-location parameters\n",
      "\n",
      "[2023-08-04 16:18:52] Defining time selection parameters\n",
      "\n",
      "[2023-08-04 16:18:52] Retrieving data subset ...\n",
      "\n",
      "[2023-08-04 16:18:54] Done\n",
      "\n",
      "[2023-08-04 16:18:54] Performing annual aggregation...\n",
      "\n",
      "[2023-08-04 16:19:02] Done.\n",
      "\n"
     ]
    },
    {
     "name": "stdout",
     "output_type": "stream",
     "text": [
      "[1] \"### loading 1982 ###\"\n"
     ]
    },
    {
     "name": "stderr",
     "output_type": "stream",
     "text": [
      "[2023-08-04 16:19:02] Defining geo-location parameters\n",
      "\n",
      "[2023-08-04 16:19:02] Defining time selection parameters\n",
      "\n",
      "[2023-08-04 16:19:02] Retrieving data subset ...\n",
      "\n",
      "[2023-08-04 16:19:04] Done\n",
      "\n",
      "[2023-08-04 16:19:04] Performing annual aggregation...\n",
      "\n",
      "[2023-08-04 16:19:12] Done.\n",
      "\n"
     ]
    },
    {
     "name": "stdout",
     "output_type": "stream",
     "text": [
      "[1] \"### loading 1983 ###\"\n"
     ]
    },
    {
     "name": "stderr",
     "output_type": "stream",
     "text": [
      "[2023-08-04 16:19:12] Defining geo-location parameters\n",
      "\n",
      "[2023-08-04 16:19:12] Defining time selection parameters\n",
      "\n",
      "[2023-08-04 16:19:12] Retrieving data subset ...\n",
      "\n",
      "[2023-08-04 16:19:14] Done\n",
      "\n",
      "[2023-08-04 16:19:14] Performing annual aggregation...\n",
      "\n",
      "[2023-08-04 16:19:22] Done.\n",
      "\n"
     ]
    },
    {
     "name": "stdout",
     "output_type": "stream",
     "text": [
      "[1] \"### loading 1984 ###\"\n"
     ]
    },
    {
     "name": "stderr",
     "output_type": "stream",
     "text": [
      "[2023-08-04 16:19:22] Defining geo-location parameters\n",
      "\n",
      "[2023-08-04 16:19:22] Defining time selection parameters\n",
      "\n",
      "[2023-08-04 16:19:22] Retrieving data subset ...\n",
      "\n",
      "[2023-08-04 16:19:23] Done\n",
      "\n",
      "[2023-08-04 16:19:23] Performing annual aggregation...\n",
      "\n",
      "[2023-08-04 16:19:32] Done.\n",
      "\n"
     ]
    },
    {
     "name": "stdout",
     "output_type": "stream",
     "text": [
      "[1] \"### loading 1985 ###\"\n"
     ]
    },
    {
     "name": "stderr",
     "output_type": "stream",
     "text": [
      "[2023-08-04 16:19:32] Defining geo-location parameters\n",
      "\n",
      "[2023-08-04 16:19:32] Defining time selection parameters\n",
      "\n",
      "[2023-08-04 16:19:32] Retrieving data subset ...\n",
      "\n",
      "[2023-08-04 16:19:34] Done\n",
      "\n",
      "[2023-08-04 16:19:34] Performing annual aggregation...\n",
      "\n",
      "[2023-08-04 16:19:42] Done.\n",
      "\n"
     ]
    },
    {
     "name": "stdout",
     "output_type": "stream",
     "text": [
      "[1] \"### loading 1986 ###\"\n"
     ]
    },
    {
     "name": "stderr",
     "output_type": "stream",
     "text": [
      "[2023-08-04 16:19:42] Defining geo-location parameters\n",
      "\n",
      "[2023-08-04 16:19:42] Defining time selection parameters\n",
      "\n",
      "[2023-08-04 16:19:42] Retrieving data subset ...\n",
      "\n",
      "[2023-08-04 16:19:43] Done\n",
      "\n",
      "[2023-08-04 16:19:43] Performing annual aggregation...\n",
      "\n",
      "[2023-08-04 16:19:52] Done.\n",
      "\n"
     ]
    },
    {
     "name": "stdout",
     "output_type": "stream",
     "text": [
      "[1] \"### loading 1987 ###\"\n"
     ]
    },
    {
     "name": "stderr",
     "output_type": "stream",
     "text": [
      "[2023-08-04 16:19:52] Defining geo-location parameters\n",
      "\n",
      "[2023-08-04 16:19:52] Defining time selection parameters\n",
      "\n",
      "[2023-08-04 16:19:52] Retrieving data subset ...\n",
      "\n",
      "[2023-08-04 16:19:53] Done\n",
      "\n",
      "[2023-08-04 16:19:53] Performing annual aggregation...\n",
      "\n",
      "[2023-08-04 16:20:01] Done.\n",
      "\n"
     ]
    },
    {
     "name": "stdout",
     "output_type": "stream",
     "text": [
      "[1] \"### loading 1988 ###\"\n"
     ]
    },
    {
     "name": "stderr",
     "output_type": "stream",
     "text": [
      "[2023-08-04 16:20:01] Defining geo-location parameters\n",
      "\n",
      "[2023-08-04 16:20:02] Defining time selection parameters\n",
      "\n",
      "[2023-08-04 16:20:02] Retrieving data subset ...\n",
      "\n",
      "[2023-08-04 16:20:03] Done\n",
      "\n",
      "[2023-08-04 16:20:03] Performing annual aggregation...\n",
      "\n",
      "[2023-08-04 16:20:12] Done.\n",
      "\n"
     ]
    },
    {
     "name": "stdout",
     "output_type": "stream",
     "text": [
      "[1] \"### loading 1989 ###\"\n"
     ]
    },
    {
     "name": "stderr",
     "output_type": "stream",
     "text": [
      "[2023-08-04 16:20:12] Defining geo-location parameters\n",
      "\n",
      "[2023-08-04 16:20:12] Defining time selection parameters\n",
      "\n",
      "[2023-08-04 16:20:12] Retrieving data subset ...\n",
      "\n",
      "[2023-08-04 16:20:14] Done\n",
      "\n",
      "[2023-08-04 16:20:14] Performing annual aggregation...\n",
      "\n",
      "[2023-08-04 16:20:22] Done.\n",
      "\n"
     ]
    },
    {
     "name": "stdout",
     "output_type": "stream",
     "text": [
      "[1] \"### loading 1990 ###\"\n"
     ]
    },
    {
     "name": "stderr",
     "output_type": "stream",
     "text": [
      "[2023-08-04 16:20:22] Defining geo-location parameters\n",
      "\n",
      "[2023-08-04 16:20:22] Defining time selection parameters\n",
      "\n",
      "[2023-08-04 16:20:22] Retrieving data subset ...\n",
      "\n",
      "[2023-08-04 16:20:23] Done\n",
      "\n",
      "[2023-08-04 16:20:23] Performing annual aggregation...\n",
      "\n",
      "[2023-08-04 16:20:32] Done.\n",
      "\n"
     ]
    },
    {
     "name": "stdout",
     "output_type": "stream",
     "text": [
      "[1] \"### loading 1991 ###\"\n"
     ]
    },
    {
     "name": "stderr",
     "output_type": "stream",
     "text": [
      "[2023-08-04 16:20:32] Defining geo-location parameters\n",
      "\n",
      "[2023-08-04 16:20:32] Defining time selection parameters\n",
      "\n",
      "[2023-08-04 16:20:32] Retrieving data subset ...\n",
      "\n",
      "[2023-08-04 16:20:33] Done\n",
      "\n",
      "[2023-08-04 16:20:33] Performing annual aggregation...\n",
      "\n",
      "[2023-08-04 16:20:41] Done.\n",
      "\n"
     ]
    },
    {
     "name": "stdout",
     "output_type": "stream",
     "text": [
      "[1] \"### loading 1992 ###\"\n"
     ]
    },
    {
     "name": "stderr",
     "output_type": "stream",
     "text": [
      "[2023-08-04 16:20:42] Defining geo-location parameters\n",
      "\n",
      "[2023-08-04 16:20:42] Defining time selection parameters\n",
      "\n",
      "[2023-08-04 16:20:42] Retrieving data subset ...\n",
      "\n",
      "[2023-08-04 16:20:43] Done\n",
      "\n",
      "[2023-08-04 16:20:43] Performing annual aggregation...\n",
      "\n",
      "[2023-08-04 16:20:52] Done.\n",
      "\n"
     ]
    },
    {
     "name": "stdout",
     "output_type": "stream",
     "text": [
      "[1] \"### loading 1993 ###\"\n"
     ]
    },
    {
     "name": "stderr",
     "output_type": "stream",
     "text": [
      "[2023-08-04 16:20:52] Defining geo-location parameters\n",
      "\n",
      "[2023-08-04 16:20:52] Defining time selection parameters\n",
      "\n",
      "[2023-08-04 16:20:52] Retrieving data subset ...\n",
      "\n",
      "[2023-08-04 16:20:53] Done\n",
      "\n",
      "[2023-08-04 16:20:53] Performing annual aggregation...\n",
      "\n",
      "[2023-08-04 16:21:01] Done.\n",
      "\n"
     ]
    },
    {
     "name": "stdout",
     "output_type": "stream",
     "text": [
      "[1] \"### loading 1994 ###\"\n"
     ]
    },
    {
     "name": "stderr",
     "output_type": "stream",
     "text": [
      "[2023-08-04 16:21:01] Defining geo-location parameters\n",
      "\n",
      "[2023-08-04 16:21:01] Defining time selection parameters\n",
      "\n",
      "[2023-08-04 16:21:01] Retrieving data subset ...\n",
      "\n",
      "[2023-08-04 16:21:03] Done\n",
      "\n",
      "[2023-08-04 16:21:03] Performing annual aggregation...\n",
      "\n",
      "[2023-08-04 16:21:12] Done.\n",
      "\n"
     ]
    },
    {
     "name": "stdout",
     "output_type": "stream",
     "text": [
      "[1] \"### loading 1995 ###\"\n"
     ]
    },
    {
     "name": "stderr",
     "output_type": "stream",
     "text": [
      "[2023-08-04 16:21:12] Defining geo-location parameters\n",
      "\n",
      "[2023-08-04 16:21:12] Defining time selection parameters\n",
      "\n",
      "[2023-08-04 16:21:12] Retrieving data subset ...\n",
      "\n",
      "[2023-08-04 16:21:13] Done\n",
      "\n",
      "[2023-08-04 16:21:13] Performing annual aggregation...\n",
      "\n",
      "[2023-08-04 16:21:21] Done.\n",
      "\n"
     ]
    },
    {
     "name": "stdout",
     "output_type": "stream",
     "text": [
      "[1] \"### loading 1996 ###\"\n"
     ]
    },
    {
     "name": "stderr",
     "output_type": "stream",
     "text": [
      "[2023-08-04 16:21:21] Defining geo-location parameters\n",
      "\n",
      "[2023-08-04 16:21:21] Defining time selection parameters\n",
      "\n",
      "[2023-08-04 16:21:21] Retrieving data subset ...\n",
      "\n",
      "[2023-08-04 16:21:23] Done\n",
      "\n",
      "[2023-08-04 16:21:23] Performing annual aggregation...\n",
      "\n",
      "[2023-08-04 16:21:31] Done.\n",
      "\n"
     ]
    },
    {
     "name": "stdout",
     "output_type": "stream",
     "text": [
      "[1] \"### loading 1997 ###\"\n"
     ]
    },
    {
     "name": "stderr",
     "output_type": "stream",
     "text": [
      "[2023-08-04 16:21:31] Defining geo-location parameters\n",
      "\n",
      "[2023-08-04 16:21:31] Defining time selection parameters\n",
      "\n",
      "[2023-08-04 16:21:31] Retrieving data subset ...\n",
      "\n",
      "[2023-08-04 16:21:33] Done\n",
      "\n",
      "[2023-08-04 16:21:33] Performing annual aggregation...\n",
      "\n",
      "[2023-08-04 16:21:41] Done.\n",
      "\n"
     ]
    },
    {
     "name": "stdout",
     "output_type": "stream",
     "text": [
      "[1] \"### loading 1998 ###\"\n"
     ]
    },
    {
     "name": "stderr",
     "output_type": "stream",
     "text": [
      "[2023-08-04 16:21:41] Defining geo-location parameters\n",
      "\n",
      "[2023-08-04 16:21:41] Defining time selection parameters\n",
      "\n",
      "[2023-08-04 16:21:41] Retrieving data subset ...\n",
      "\n",
      "[2023-08-04 16:21:43] Done\n",
      "\n",
      "[2023-08-04 16:21:43] Performing annual aggregation...\n",
      "\n",
      "[2023-08-04 16:21:51] Done.\n",
      "\n"
     ]
    },
    {
     "name": "stdout",
     "output_type": "stream",
     "text": [
      "[1] \"### loading 1999 ###\"\n"
     ]
    },
    {
     "name": "stderr",
     "output_type": "stream",
     "text": [
      "[2023-08-04 16:21:51] Defining geo-location parameters\n",
      "\n",
      "[2023-08-04 16:21:51] Defining time selection parameters\n",
      "\n",
      "[2023-08-04 16:21:51] Retrieving data subset ...\n",
      "\n",
      "[2023-08-04 16:21:53] Done\n",
      "\n",
      "[2023-08-04 16:21:53] Performing annual aggregation...\n",
      "\n",
      "[2023-08-04 16:22:01] Done.\n",
      "\n"
     ]
    },
    {
     "name": "stdout",
     "output_type": "stream",
     "text": [
      "[1] \"### loading 2000 ###\"\n"
     ]
    },
    {
     "name": "stderr",
     "output_type": "stream",
     "text": [
      "[2023-08-04 16:22:01] Defining geo-location parameters\n",
      "\n",
      "[2023-08-04 16:22:01] Defining time selection parameters\n",
      "\n",
      "[2023-08-04 16:22:01] Retrieving data subset ...\n",
      "\n",
      "[2023-08-04 16:22:03] Done\n",
      "\n",
      "[2023-08-04 16:22:03] Performing annual aggregation...\n",
      "\n",
      "[2023-08-04 16:22:11] Done.\n",
      "\n"
     ]
    },
    {
     "name": "stdout",
     "output_type": "stream",
     "text": [
      "[1] \"### loading 2001 ###\"\n"
     ]
    },
    {
     "name": "stderr",
     "output_type": "stream",
     "text": [
      "[2023-08-04 16:22:11] Defining geo-location parameters\n",
      "\n",
      "[2023-08-04 16:22:11] Defining time selection parameters\n",
      "\n",
      "[2023-08-04 16:22:11] Retrieving data subset ...\n",
      "\n",
      "[2023-08-04 16:22:13] Done\n",
      "\n",
      "[2023-08-04 16:22:13] Performing annual aggregation...\n",
      "\n",
      "[2023-08-04 16:22:21] Done.\n",
      "\n"
     ]
    },
    {
     "name": "stdout",
     "output_type": "stream",
     "text": [
      "[1] \"### loading 2002 ###\"\n"
     ]
    },
    {
     "name": "stderr",
     "output_type": "stream",
     "text": [
      "[2023-08-04 16:22:21] Defining geo-location parameters\n",
      "\n",
      "[2023-08-04 16:22:21] Defining time selection parameters\n",
      "\n",
      "[2023-08-04 16:22:21] Retrieving data subset ...\n",
      "\n",
      "[2023-08-04 16:22:23] Done\n",
      "\n",
      "[2023-08-04 16:22:23] Performing annual aggregation...\n",
      "\n",
      "[2023-08-04 16:22:31] Done.\n",
      "\n"
     ]
    },
    {
     "name": "stdout",
     "output_type": "stream",
     "text": [
      "[1] \"### loading 2003 ###\"\n"
     ]
    },
    {
     "name": "stderr",
     "output_type": "stream",
     "text": [
      "[2023-08-04 16:22:31] Defining geo-location parameters\n",
      "\n",
      "[2023-08-04 16:22:31] Defining time selection parameters\n",
      "\n",
      "[2023-08-04 16:22:31] Retrieving data subset ...\n",
      "\n",
      "[2023-08-04 16:22:32] Done\n",
      "\n",
      "[2023-08-04 16:22:32] Performing annual aggregation...\n",
      "\n",
      "[2023-08-04 16:22:41] Done.\n",
      "\n"
     ]
    },
    {
     "name": "stdout",
     "output_type": "stream",
     "text": [
      "[1] \"### loading 2004 ###\"\n"
     ]
    },
    {
     "name": "stderr",
     "output_type": "stream",
     "text": [
      "[2023-08-04 16:22:41] Defining geo-location parameters\n",
      "\n",
      "[2023-08-04 16:22:41] Defining time selection parameters\n",
      "\n",
      "[2023-08-04 16:22:41] Retrieving data subset ...\n",
      "\n",
      "[2023-08-04 16:22:42] Done\n",
      "\n",
      "[2023-08-04 16:22:42] Performing annual aggregation...\n",
      "\n",
      "[2023-08-04 16:22:51] Done.\n",
      "\n"
     ]
    },
    {
     "name": "stdout",
     "output_type": "stream",
     "text": [
      "[1] \"### loading 2005 ###\"\n"
     ]
    },
    {
     "name": "stderr",
     "output_type": "stream",
     "text": [
      "[2023-08-04 16:22:51] Defining geo-location parameters\n",
      "\n",
      "[2023-08-04 16:22:51] Defining time selection parameters\n",
      "\n",
      "[2023-08-04 16:22:51] Retrieving data subset ...\n",
      "\n",
      "[2023-08-04 16:22:52] Done\n",
      "\n",
      "[2023-08-04 16:22:52] Performing annual aggregation...\n",
      "\n",
      "[2023-08-04 16:23:01] Done.\n",
      "\n"
     ]
    },
    {
     "name": "stdout",
     "output_type": "stream",
     "text": [
      "[1] \"### loading 2006 ###\"\n"
     ]
    },
    {
     "name": "stderr",
     "output_type": "stream",
     "text": [
      "[2023-08-04 16:23:01] Defining geo-location parameters\n",
      "\n",
      "[2023-08-04 16:23:01] Defining time selection parameters\n",
      "\n",
      "[2023-08-04 16:23:01] Retrieving data subset ...\n",
      "\n",
      "[2023-08-04 16:23:02] Done\n",
      "\n",
      "[2023-08-04 16:23:02] Performing annual aggregation...\n",
      "\n",
      "[2023-08-04 16:23:10] Done.\n",
      "\n"
     ]
    },
    {
     "name": "stdout",
     "output_type": "stream",
     "text": [
      "[1] \"### loading 2007 ###\"\n"
     ]
    },
    {
     "name": "stderr",
     "output_type": "stream",
     "text": [
      "[2023-08-04 16:23:10] Defining geo-location parameters\n",
      "\n",
      "[2023-08-04 16:23:11] Defining time selection parameters\n",
      "\n",
      "[2023-08-04 16:23:11] Retrieving data subset ...\n",
      "\n",
      "[2023-08-04 16:23:12] Done\n",
      "\n",
      "[2023-08-04 16:23:12] Performing annual aggregation...\n",
      "\n",
      "[2023-08-04 16:23:21] Done.\n",
      "\n"
     ]
    },
    {
     "name": "stdout",
     "output_type": "stream",
     "text": [
      "[1] \"### loading 2008 ###\"\n"
     ]
    },
    {
     "name": "stderr",
     "output_type": "stream",
     "text": [
      "[2023-08-04 16:23:21] Defining geo-location parameters\n",
      "\n",
      "[2023-08-04 16:23:21] Defining time selection parameters\n",
      "\n",
      "[2023-08-04 16:23:21] Retrieving data subset ...\n",
      "\n",
      "[2023-08-04 16:23:22] Done\n",
      "\n",
      "[2023-08-04 16:23:22] Performing annual aggregation...\n",
      "\n",
      "[2023-08-04 16:23:30] Done.\n",
      "\n"
     ]
    },
    {
     "name": "stdout",
     "output_type": "stream",
     "text": [
      "[1] \"### loading 2009 ###\"\n"
     ]
    },
    {
     "name": "stderr",
     "output_type": "stream",
     "text": [
      "[2023-08-04 16:23:30] Defining geo-location parameters\n",
      "\n",
      "[2023-08-04 16:23:31] Defining time selection parameters\n",
      "\n",
      "[2023-08-04 16:23:31] Retrieving data subset ...\n",
      "\n",
      "[2023-08-04 16:23:32] Done\n",
      "\n",
      "[2023-08-04 16:23:32] Performing annual aggregation...\n",
      "\n",
      "[2023-08-04 16:23:41] Done.\n",
      "\n"
     ]
    },
    {
     "name": "stdout",
     "output_type": "stream",
     "text": [
      "[1] \"### loading 2010 ###\"\n"
     ]
    },
    {
     "name": "stderr",
     "output_type": "stream",
     "text": [
      "[2023-08-04 16:23:41] Defining geo-location parameters\n",
      "\n",
      "[2023-08-04 16:23:41] Defining time selection parameters\n",
      "\n",
      "[2023-08-04 16:23:41] Retrieving data subset ...\n",
      "\n",
      "[2023-08-04 16:23:42] Done\n",
      "\n",
      "[2023-08-04 16:23:42] Performing annual aggregation...\n",
      "\n",
      "[2023-08-04 16:23:50] Done.\n",
      "\n"
     ]
    },
    {
     "name": "stdout",
     "output_type": "stream",
     "text": [
      "[1] \"### loading 2011 ###\"\n"
     ]
    },
    {
     "name": "stderr",
     "output_type": "stream",
     "text": [
      "[2023-08-04 16:23:50] Defining geo-location parameters\n",
      "\n",
      "[2023-08-04 16:23:50] Defining time selection parameters\n",
      "\n",
      "[2023-08-04 16:23:51] Retrieving data subset ...\n",
      "\n",
      "[2023-08-04 16:23:52] Done\n",
      "\n",
      "[2023-08-04 16:23:52] Performing annual aggregation...\n",
      "\n",
      "[2023-08-04 16:24:00] Done.\n",
      "\n"
     ]
    },
    {
     "name": "stdout",
     "output_type": "stream",
     "text": [
      "[1] \"### loading 2012 ###\"\n"
     ]
    },
    {
     "name": "stderr",
     "output_type": "stream",
     "text": [
      "[2023-08-04 16:24:00] Defining geo-location parameters\n",
      "\n",
      "[2023-08-04 16:24:01] Defining time selection parameters\n",
      "\n",
      "[2023-08-04 16:24:01] Retrieving data subset ...\n",
      "\n",
      "[2023-08-04 16:24:02] Done\n",
      "\n",
      "[2023-08-04 16:24:02] Performing annual aggregation...\n",
      "\n",
      "[2023-08-04 16:24:10] Done.\n",
      "\n"
     ]
    },
    {
     "name": "stdout",
     "output_type": "stream",
     "text": [
      "[1] \"### loading 2013 ###\"\n"
     ]
    },
    {
     "name": "stderr",
     "output_type": "stream",
     "text": [
      "[2023-08-04 16:24:10] Defining geo-location parameters\n",
      "\n",
      "[2023-08-04 16:24:10] Defining time selection parameters\n",
      "\n",
      "[2023-08-04 16:24:10] Retrieving data subset ...\n",
      "\n",
      "[2023-08-04 16:24:11] Done\n",
      "\n",
      "[2023-08-04 16:24:11] Performing annual aggregation...\n",
      "\n",
      "[2023-08-04 16:24:19] Done.\n",
      "\n"
     ]
    },
    {
     "name": "stdout",
     "output_type": "stream",
     "text": [
      "[1] \"### loading 2014 ###\"\n"
     ]
    },
    {
     "name": "stderr",
     "output_type": "stream",
     "text": [
      "[2023-08-04 16:24:19] Defining geo-location parameters\n",
      "\n",
      "[2023-08-04 16:24:19] Defining time selection parameters\n",
      "\n",
      "[2023-08-04 16:24:19] Retrieving data subset ...\n",
      "\n",
      "[2023-08-04 16:24:21] Done\n",
      "\n",
      "[2023-08-04 16:24:21] Performing annual aggregation...\n",
      "\n",
      "[2023-08-04 16:24:29] Done.\n",
      "\n"
     ]
    },
    {
     "name": "stdout",
     "output_type": "stream",
     "text": [
      "[1] \"### loading 2015 ###\"\n"
     ]
    },
    {
     "name": "stderr",
     "output_type": "stream",
     "text": [
      "[2023-08-04 16:24:29] Defining geo-location parameters\n",
      "\n",
      "[2023-08-04 16:24:29] Defining time selection parameters\n",
      "\n",
      "[2023-08-04 16:24:29] Retrieving data subset ...\n",
      "\n",
      "[2023-08-04 16:24:30] Done\n",
      "\n",
      "[2023-08-04 16:24:30] Performing annual aggregation...\n",
      "\n",
      "[2023-08-04 16:24:38] Done.\n",
      "\n"
     ]
    }
   ],
   "source": [
    "data_SON_temp = lapply(1979:2015, function(iyear) {\n",
    "  print(sprintf(\"### loading %d ###\", iyear))\n",
    "  gridArithmetics(aggregateGrid(loadGridData('/home/oem/Desktop/TFM/datoss/tas_W5E5.nc', var = 'tas',\n",
    "                             season = 9:11,  # JJA\n",
    "                             years = iyear),\n",
    "                aggr.y = list(FUN = \"mean\", na.rm = T)),mask.bin.05,operator=\"*\")  \n",
    "})\n",
    "data_SON_temp = bindGrid(data_SON_temp, dimension = \"time\") \n",
    "data_SON_temp = subsetGrid(data_SON_temp, latLim = c(-60,89.75))\n",
    "save(data_SON_temp, file = \"tas_SON.rda\") "
   ]
  },
  {
   "cell_type": "code",
   "execution_count": 59,
   "id": "a3557557",
   "metadata": {},
   "outputs": [
    {
     "name": "stdout",
     "output_type": "stream",
     "text": [
      "[1] \"### loading 1979 ###\"\n"
     ]
    },
    {
     "name": "stderr",
     "output_type": "stream",
     "text": [
      "[2023-08-06 07:36:23] Defining geo-location parameters\n",
      "\n",
      "[2023-08-06 07:36:23] Defining time selection parameters\n",
      "\n",
      "[2023-08-06 07:36:23] Retrieving data subset ...\n",
      "\n",
      "[2023-08-06 07:36:25] Done\n",
      "\n",
      "[2023-08-06 07:36:25] Performing annual aggregation...\n",
      "\n",
      "[2023-08-06 07:36:33] Done.\n",
      "\n"
     ]
    },
    {
     "name": "stdout",
     "output_type": "stream",
     "text": [
      "[1] \"### loading 1980 ###\"\n"
     ]
    },
    {
     "name": "stderr",
     "output_type": "stream",
     "text": [
      "[2023-08-06 07:36:33] Defining geo-location parameters\n",
      "\n",
      "[2023-08-06 07:36:33] Defining time selection parameters\n",
      "\n",
      "[2023-08-06 07:36:33] Retrieving data subset ...\n",
      "\n",
      "[2023-08-06 07:36:35] Done\n",
      "\n",
      "[2023-08-06 07:36:35] Performing annual aggregation...\n",
      "\n",
      "[2023-08-06 07:36:42] Done.\n",
      "\n"
     ]
    },
    {
     "name": "stdout",
     "output_type": "stream",
     "text": [
      "[1] \"### loading 1981 ###\"\n"
     ]
    },
    {
     "name": "stderr",
     "output_type": "stream",
     "text": [
      "[2023-08-06 07:36:43] Defining geo-location parameters\n",
      "\n",
      "[2023-08-06 07:36:43] Defining time selection parameters\n",
      "\n",
      "[2023-08-06 07:36:43] Retrieving data subset ...\n",
      "\n",
      "[2023-08-06 07:36:44] Done\n",
      "\n",
      "[2023-08-06 07:36:44] Performing annual aggregation...\n",
      "\n",
      "[2023-08-06 07:36:52] Done.\n",
      "\n"
     ]
    },
    {
     "name": "stdout",
     "output_type": "stream",
     "text": [
      "[1] \"### loading 1982 ###\"\n"
     ]
    },
    {
     "name": "stderr",
     "output_type": "stream",
     "text": [
      "[2023-08-06 07:36:52] Defining geo-location parameters\n",
      "\n",
      "[2023-08-06 07:36:52] Defining time selection parameters\n",
      "\n",
      "[2023-08-06 07:36:52] Retrieving data subset ...\n",
      "\n",
      "[2023-08-06 07:36:54] Done\n",
      "\n",
      "[2023-08-06 07:36:54] Performing annual aggregation...\n",
      "\n",
      "[2023-08-06 07:37:02] Done.\n",
      "\n"
     ]
    },
    {
     "name": "stdout",
     "output_type": "stream",
     "text": [
      "[1] \"### loading 1983 ###\"\n"
     ]
    },
    {
     "name": "stderr",
     "output_type": "stream",
     "text": [
      "[2023-08-06 07:37:02] Defining geo-location parameters\n",
      "\n",
      "[2023-08-06 07:37:02] Defining time selection parameters\n",
      "\n",
      "[2023-08-06 07:37:02] Retrieving data subset ...\n",
      "\n",
      "[2023-08-06 07:37:03] Done\n",
      "\n",
      "[2023-08-06 07:37:03] Performing annual aggregation...\n",
      "\n",
      "[2023-08-06 07:37:10] Done.\n",
      "\n"
     ]
    },
    {
     "name": "stdout",
     "output_type": "stream",
     "text": [
      "[1] \"### loading 1984 ###\"\n"
     ]
    },
    {
     "name": "stderr",
     "output_type": "stream",
     "text": [
      "[2023-08-06 07:37:11] Defining geo-location parameters\n",
      "\n",
      "[2023-08-06 07:37:11] Defining time selection parameters\n",
      "\n",
      "[2023-08-06 07:37:11] Retrieving data subset ...\n",
      "\n",
      "[2023-08-06 07:37:12] Done\n",
      "\n",
      "[2023-08-06 07:37:12] Performing annual aggregation...\n",
      "\n",
      "[2023-08-06 07:37:20] Done.\n",
      "\n"
     ]
    },
    {
     "name": "stdout",
     "output_type": "stream",
     "text": [
      "[1] \"### loading 1985 ###\"\n"
     ]
    },
    {
     "name": "stderr",
     "output_type": "stream",
     "text": [
      "[2023-08-06 07:37:20] Defining geo-location parameters\n",
      "\n",
      "[2023-08-06 07:37:20] Defining time selection parameters\n",
      "\n",
      "[2023-08-06 07:37:20] Retrieving data subset ...\n",
      "\n",
      "[2023-08-06 07:37:22] Done\n",
      "\n",
      "[2023-08-06 07:37:22] Performing annual aggregation...\n",
      "\n",
      "[2023-08-06 07:37:29] Done.\n",
      "\n"
     ]
    },
    {
     "name": "stdout",
     "output_type": "stream",
     "text": [
      "[1] \"### loading 1986 ###\"\n"
     ]
    },
    {
     "name": "stderr",
     "output_type": "stream",
     "text": [
      "[2023-08-06 07:37:29] Defining geo-location parameters\n",
      "\n",
      "[2023-08-06 07:37:29] Defining time selection parameters\n",
      "\n",
      "[2023-08-06 07:37:29] Retrieving data subset ...\n",
      "\n",
      "[2023-08-06 07:37:31] Done\n",
      "\n",
      "[2023-08-06 07:37:31] Performing annual aggregation...\n",
      "\n",
      "[2023-08-06 07:37:38] Done.\n",
      "\n"
     ]
    },
    {
     "name": "stdout",
     "output_type": "stream",
     "text": [
      "[1] \"### loading 1987 ###\"\n"
     ]
    },
    {
     "name": "stderr",
     "output_type": "stream",
     "text": [
      "[2023-08-06 07:37:38] Defining geo-location parameters\n",
      "\n",
      "[2023-08-06 07:37:38] Defining time selection parameters\n",
      "\n",
      "[2023-08-06 07:37:38] Retrieving data subset ...\n",
      "\n",
      "[2023-08-06 07:37:40] Done\n",
      "\n",
      "[2023-08-06 07:37:40] Performing annual aggregation...\n",
      "\n",
      "[2023-08-06 07:37:47] Done.\n",
      "\n"
     ]
    },
    {
     "name": "stdout",
     "output_type": "stream",
     "text": [
      "[1] \"### loading 1988 ###\"\n"
     ]
    },
    {
     "name": "stderr",
     "output_type": "stream",
     "text": [
      "[2023-08-06 07:37:47] Defining geo-location parameters\n",
      "\n",
      "[2023-08-06 07:37:47] Defining time selection parameters\n",
      "\n",
      "[2023-08-06 07:37:47] Retrieving data subset ...\n",
      "\n",
      "[2023-08-06 07:37:49] Done\n",
      "\n",
      "[2023-08-06 07:37:49] Performing annual aggregation...\n",
      "\n",
      "[2023-08-06 07:37:57] Done.\n",
      "\n"
     ]
    },
    {
     "name": "stdout",
     "output_type": "stream",
     "text": [
      "[1] \"### loading 1989 ###\"\n"
     ]
    },
    {
     "name": "stderr",
     "output_type": "stream",
     "text": [
      "[2023-08-06 07:37:57] Defining geo-location parameters\n",
      "\n",
      "[2023-08-06 07:37:57] Defining time selection parameters\n",
      "\n",
      "[2023-08-06 07:37:57] Retrieving data subset ...\n",
      "\n",
      "[2023-08-06 07:37:59] Done\n",
      "\n",
      "[2023-08-06 07:37:59] Performing annual aggregation...\n",
      "\n",
      "[2023-08-06 07:38:06] Done.\n",
      "\n"
     ]
    },
    {
     "name": "stdout",
     "output_type": "stream",
     "text": [
      "[1] \"### loading 1990 ###\"\n"
     ]
    },
    {
     "name": "stderr",
     "output_type": "stream",
     "text": [
      "[2023-08-06 07:38:06] Defining geo-location parameters\n",
      "\n",
      "[2023-08-06 07:38:06] Defining time selection parameters\n",
      "\n",
      "[2023-08-06 07:38:06] Retrieving data subset ...\n",
      "\n",
      "[2023-08-06 07:38:08] Done\n",
      "\n",
      "[2023-08-06 07:38:08] Performing annual aggregation...\n",
      "\n",
      "[2023-08-06 07:38:15] Done.\n",
      "\n"
     ]
    },
    {
     "name": "stdout",
     "output_type": "stream",
     "text": [
      "[1] \"### loading 1991 ###\"\n"
     ]
    },
    {
     "name": "stderr",
     "output_type": "stream",
     "text": [
      "[2023-08-06 07:38:15] Defining geo-location parameters\n",
      "\n",
      "[2023-08-06 07:38:16] Defining time selection parameters\n",
      "\n",
      "[2023-08-06 07:38:16] Retrieving data subset ...\n",
      "\n",
      "[2023-08-06 07:38:17] Done\n",
      "\n",
      "[2023-08-06 07:38:17] Performing annual aggregation...\n",
      "\n",
      "[2023-08-06 07:38:25] Done.\n",
      "\n"
     ]
    },
    {
     "name": "stdout",
     "output_type": "stream",
     "text": [
      "[1] \"### loading 1992 ###\"\n"
     ]
    },
    {
     "name": "stderr",
     "output_type": "stream",
     "text": [
      "[2023-08-06 07:38:25] Defining geo-location parameters\n",
      "\n",
      "[2023-08-06 07:38:25] Defining time selection parameters\n",
      "\n",
      "[2023-08-06 07:38:25] Retrieving data subset ...\n",
      "\n",
      "[2023-08-06 07:38:27] Done\n",
      "\n",
      "[2023-08-06 07:38:27] Performing annual aggregation...\n",
      "\n",
      "[2023-08-06 07:38:35] Done.\n",
      "\n"
     ]
    },
    {
     "name": "stdout",
     "output_type": "stream",
     "text": [
      "[1] \"### loading 1993 ###\"\n"
     ]
    },
    {
     "name": "stderr",
     "output_type": "stream",
     "text": [
      "[2023-08-06 07:38:35] Defining geo-location parameters\n",
      "\n",
      "[2023-08-06 07:38:35] Defining time selection parameters\n",
      "\n",
      "[2023-08-06 07:38:35] Retrieving data subset ...\n",
      "\n",
      "[2023-08-06 07:38:37] Done\n",
      "\n",
      "[2023-08-06 07:38:37] Performing annual aggregation...\n",
      "\n",
      "[2023-08-06 07:38:45] Done.\n",
      "\n"
     ]
    },
    {
     "name": "stdout",
     "output_type": "stream",
     "text": [
      "[1] \"### loading 1994 ###\"\n"
     ]
    },
    {
     "name": "stderr",
     "output_type": "stream",
     "text": [
      "[2023-08-06 07:38:45] Defining geo-location parameters\n",
      "\n",
      "[2023-08-06 07:38:45] Defining time selection parameters\n",
      "\n",
      "[2023-08-06 07:38:45] Retrieving data subset ...\n",
      "\n",
      "[2023-08-06 07:38:47] Done\n",
      "\n",
      "[2023-08-06 07:38:47] Performing annual aggregation...\n",
      "\n",
      "[2023-08-06 07:38:54] Done.\n",
      "\n"
     ]
    },
    {
     "name": "stdout",
     "output_type": "stream",
     "text": [
      "[1] \"### loading 1995 ###\"\n"
     ]
    },
    {
     "name": "stderr",
     "output_type": "stream",
     "text": [
      "[2023-08-06 07:38:54] Defining geo-location parameters\n",
      "\n",
      "[2023-08-06 07:38:54] Defining time selection parameters\n",
      "\n",
      "[2023-08-06 07:38:54] Retrieving data subset ...\n",
      "\n",
      "[2023-08-06 07:38:56] Done\n",
      "\n",
      "[2023-08-06 07:38:56] Performing annual aggregation...\n",
      "\n",
      "[2023-08-06 07:39:04] Done.\n",
      "\n"
     ]
    },
    {
     "name": "stdout",
     "output_type": "stream",
     "text": [
      "[1] \"### loading 1996 ###\"\n"
     ]
    },
    {
     "name": "stderr",
     "output_type": "stream",
     "text": [
      "[2023-08-06 07:39:04] Defining geo-location parameters\n",
      "\n",
      "[2023-08-06 07:39:04] Defining time selection parameters\n",
      "\n",
      "[2023-08-06 07:39:04] Retrieving data subset ...\n",
      "\n",
      "[2023-08-06 07:39:06] Done\n",
      "\n",
      "[2023-08-06 07:39:06] Performing annual aggregation...\n",
      "\n",
      "[2023-08-06 07:39:13] Done.\n",
      "\n"
     ]
    },
    {
     "name": "stdout",
     "output_type": "stream",
     "text": [
      "[1] \"### loading 1997 ###\"\n"
     ]
    },
    {
     "name": "stderr",
     "output_type": "stream",
     "text": [
      "[2023-08-06 07:39:13] Defining geo-location parameters\n",
      "\n",
      "[2023-08-06 07:39:13] Defining time selection parameters\n",
      "\n",
      "[2023-08-06 07:39:13] Retrieving data subset ...\n",
      "\n",
      "[2023-08-06 07:39:15] Done\n",
      "\n",
      "[2023-08-06 07:39:15] Performing annual aggregation...\n",
      "\n",
      "[2023-08-06 07:39:23] Done.\n",
      "\n"
     ]
    },
    {
     "name": "stdout",
     "output_type": "stream",
     "text": [
      "[1] \"### loading 1998 ###\"\n"
     ]
    },
    {
     "name": "stderr",
     "output_type": "stream",
     "text": [
      "[2023-08-06 07:39:23] Defining geo-location parameters\n",
      "\n",
      "[2023-08-06 07:39:23] Defining time selection parameters\n",
      "\n",
      "[2023-08-06 07:39:23] Retrieving data subset ...\n",
      "\n",
      "[2023-08-06 07:39:25] Done\n",
      "\n",
      "[2023-08-06 07:39:25] Performing annual aggregation...\n",
      "\n",
      "[2023-08-06 07:39:32] Done.\n",
      "\n"
     ]
    },
    {
     "name": "stdout",
     "output_type": "stream",
     "text": [
      "[1] \"### loading 1999 ###\"\n"
     ]
    },
    {
     "name": "stderr",
     "output_type": "stream",
     "text": [
      "[2023-08-06 07:39:32] Defining geo-location parameters\n",
      "\n",
      "[2023-08-06 07:39:32] Defining time selection parameters\n",
      "\n",
      "[2023-08-06 07:39:32] Retrieving data subset ...\n",
      "\n",
      "[2023-08-06 07:39:34] Done\n",
      "\n",
      "[2023-08-06 07:39:34] Performing annual aggregation...\n",
      "\n",
      "[2023-08-06 07:39:41] Done.\n",
      "\n"
     ]
    },
    {
     "name": "stdout",
     "output_type": "stream",
     "text": [
      "[1] \"### loading 2000 ###\"\n"
     ]
    },
    {
     "name": "stderr",
     "output_type": "stream",
     "text": [
      "[2023-08-06 07:39:41] Defining geo-location parameters\n",
      "\n",
      "[2023-08-06 07:39:41] Defining time selection parameters\n",
      "\n",
      "[2023-08-06 07:39:41] Retrieving data subset ...\n",
      "\n",
      "[2023-08-06 07:39:43] Done\n",
      "\n",
      "[2023-08-06 07:39:43] Performing annual aggregation...\n",
      "\n",
      "[2023-08-06 07:39:51] Done.\n",
      "\n"
     ]
    },
    {
     "name": "stdout",
     "output_type": "stream",
     "text": [
      "[1] \"### loading 2001 ###\"\n"
     ]
    },
    {
     "name": "stderr",
     "output_type": "stream",
     "text": [
      "[2023-08-06 07:39:52] Defining geo-location parameters\n",
      "\n",
      "[2023-08-06 07:39:52] Defining time selection parameters\n",
      "\n",
      "[2023-08-06 07:39:52] Retrieving data subset ...\n",
      "\n",
      "[2023-08-06 07:39:53] Done\n",
      "\n",
      "[2023-08-06 07:39:54] Performing annual aggregation...\n",
      "\n",
      "[2023-08-06 07:40:01] Done.\n",
      "\n"
     ]
    },
    {
     "name": "stdout",
     "output_type": "stream",
     "text": [
      "[1] \"### loading 2002 ###\"\n"
     ]
    },
    {
     "name": "stderr",
     "output_type": "stream",
     "text": [
      "[2023-08-06 07:40:01] Defining geo-location parameters\n",
      "\n",
      "[2023-08-06 07:40:01] Defining time selection parameters\n",
      "\n",
      "[2023-08-06 07:40:01] Retrieving data subset ...\n",
      "\n",
      "[2023-08-06 07:40:03] Done\n",
      "\n",
      "[2023-08-06 07:40:03] Performing annual aggregation...\n",
      "\n",
      "[2023-08-06 07:40:11] Done.\n",
      "\n"
     ]
    },
    {
     "name": "stdout",
     "output_type": "stream",
     "text": [
      "[1] \"### loading 2003 ###\"\n"
     ]
    },
    {
     "name": "stderr",
     "output_type": "stream",
     "text": [
      "[2023-08-06 07:40:11] Defining geo-location parameters\n",
      "\n",
      "[2023-08-06 07:40:11] Defining time selection parameters\n",
      "\n",
      "[2023-08-06 07:40:11] Retrieving data subset ...\n",
      "\n",
      "[2023-08-06 07:40:13] Done\n",
      "\n",
      "[2023-08-06 07:40:13] Performing annual aggregation...\n",
      "\n",
      "[2023-08-06 07:40:20] Done.\n",
      "\n"
     ]
    },
    {
     "name": "stdout",
     "output_type": "stream",
     "text": [
      "[1] \"### loading 2004 ###\"\n"
     ]
    },
    {
     "name": "stderr",
     "output_type": "stream",
     "text": [
      "[2023-08-06 07:40:20] Defining geo-location parameters\n",
      "\n",
      "[2023-08-06 07:40:20] Defining time selection parameters\n",
      "\n",
      "[2023-08-06 07:40:20] Retrieving data subset ...\n",
      "\n",
      "[2023-08-06 07:40:22] Done\n",
      "\n",
      "[2023-08-06 07:40:22] Performing annual aggregation...\n",
      "\n",
      "[2023-08-06 07:40:30] Done.\n",
      "\n"
     ]
    },
    {
     "name": "stdout",
     "output_type": "stream",
     "text": [
      "[1] \"### loading 2005 ###\"\n"
     ]
    },
    {
     "name": "stderr",
     "output_type": "stream",
     "text": [
      "[2023-08-06 07:40:30] Defining geo-location parameters\n",
      "\n",
      "[2023-08-06 07:40:30] Defining time selection parameters\n",
      "\n",
      "[2023-08-06 07:40:30] Retrieving data subset ...\n",
      "\n",
      "[2023-08-06 07:40:32] Done\n",
      "\n",
      "[2023-08-06 07:40:32] Performing annual aggregation...\n",
      "\n",
      "[2023-08-06 07:40:39] Done.\n",
      "\n"
     ]
    },
    {
     "name": "stdout",
     "output_type": "stream",
     "text": [
      "[1] \"### loading 2006 ###\"\n"
     ]
    },
    {
     "name": "stderr",
     "output_type": "stream",
     "text": [
      "[2023-08-06 07:40:39] Defining geo-location parameters\n",
      "\n",
      "[2023-08-06 07:40:39] Defining time selection parameters\n",
      "\n",
      "[2023-08-06 07:40:39] Retrieving data subset ...\n",
      "\n",
      "[2023-08-06 07:40:41] Done\n",
      "\n",
      "[2023-08-06 07:40:41] Performing annual aggregation...\n",
      "\n",
      "[2023-08-06 07:40:48] Done.\n",
      "\n"
     ]
    },
    {
     "name": "stdout",
     "output_type": "stream",
     "text": [
      "[1] \"### loading 2007 ###\"\n"
     ]
    },
    {
     "name": "stderr",
     "output_type": "stream",
     "text": [
      "[2023-08-06 07:40:48] Defining geo-location parameters\n",
      "\n",
      "[2023-08-06 07:40:48] Defining time selection parameters\n",
      "\n",
      "[2023-08-06 07:40:48] Retrieving data subset ...\n",
      "\n",
      "[2023-08-06 07:40:50] Done\n",
      "\n",
      "[2023-08-06 07:40:50] Performing annual aggregation...\n",
      "\n",
      "[2023-08-06 07:40:58] Done.\n",
      "\n"
     ]
    },
    {
     "name": "stdout",
     "output_type": "stream",
     "text": [
      "[1] \"### loading 2008 ###\"\n"
     ]
    },
    {
     "name": "stderr",
     "output_type": "stream",
     "text": [
      "[2023-08-06 07:40:58] Defining geo-location parameters\n",
      "\n",
      "[2023-08-06 07:40:58] Defining time selection parameters\n",
      "\n",
      "[2023-08-06 07:40:58] Retrieving data subset ...\n",
      "\n",
      "[2023-08-06 07:41:00] Done\n",
      "\n",
      "[2023-08-06 07:41:00] Performing annual aggregation...\n",
      "\n",
      "[2023-08-06 07:41:07] Done.\n",
      "\n"
     ]
    },
    {
     "name": "stdout",
     "output_type": "stream",
     "text": [
      "[1] \"### loading 2009 ###\"\n"
     ]
    },
    {
     "name": "stderr",
     "output_type": "stream",
     "text": [
      "[2023-08-06 07:41:07] Defining geo-location parameters\n",
      "\n",
      "[2023-08-06 07:41:08] Defining time selection parameters\n",
      "\n",
      "[2023-08-06 07:41:08] Retrieving data subset ...\n",
      "\n",
      "[2023-08-06 07:41:09] Done\n",
      "\n",
      "[2023-08-06 07:41:09] Performing annual aggregation...\n",
      "\n",
      "[2023-08-06 07:41:17] Done.\n",
      "\n"
     ]
    },
    {
     "name": "stdout",
     "output_type": "stream",
     "text": [
      "[1] \"### loading 2010 ###\"\n"
     ]
    },
    {
     "name": "stderr",
     "output_type": "stream",
     "text": [
      "[2023-08-06 07:41:17] Defining geo-location parameters\n",
      "\n",
      "[2023-08-06 07:41:18] Defining time selection parameters\n",
      "\n",
      "[2023-08-06 07:41:18] Retrieving data subset ...\n",
      "\n",
      "[2023-08-06 07:41:19] Done\n",
      "\n",
      "[2023-08-06 07:41:19] Performing annual aggregation...\n",
      "\n",
      "[2023-08-06 07:41:27] Done.\n",
      "\n"
     ]
    },
    {
     "name": "stdout",
     "output_type": "stream",
     "text": [
      "[1] \"### loading 2011 ###\"\n"
     ]
    },
    {
     "name": "stderr",
     "output_type": "stream",
     "text": [
      "[2023-08-06 07:41:27] Defining geo-location parameters\n",
      "\n",
      "[2023-08-06 07:41:27] Defining time selection parameters\n",
      "\n",
      "[2023-08-06 07:41:27] Retrieving data subset ...\n",
      "\n",
      "[2023-08-06 07:41:29] Done\n",
      "\n",
      "[2023-08-06 07:41:29] Performing annual aggregation...\n",
      "\n",
      "[2023-08-06 07:41:37] Done.\n",
      "\n"
     ]
    },
    {
     "name": "stdout",
     "output_type": "stream",
     "text": [
      "[1] \"### loading 2012 ###\"\n"
     ]
    },
    {
     "name": "stderr",
     "output_type": "stream",
     "text": [
      "[2023-08-06 07:41:37] Defining geo-location parameters\n",
      "\n",
      "[2023-08-06 07:41:37] Defining time selection parameters\n",
      "\n",
      "[2023-08-06 07:41:37] Retrieving data subset ...\n",
      "\n",
      "[2023-08-06 07:41:39] Done\n",
      "\n",
      "[2023-08-06 07:41:39] Performing annual aggregation...\n",
      "\n",
      "[2023-08-06 07:41:46] Done.\n",
      "\n"
     ]
    },
    {
     "name": "stdout",
     "output_type": "stream",
     "text": [
      "[1] \"### loading 2013 ###\"\n"
     ]
    },
    {
     "name": "stderr",
     "output_type": "stream",
     "text": [
      "[2023-08-06 07:41:46] Defining geo-location parameters\n",
      "\n",
      "[2023-08-06 07:41:46] Defining time selection parameters\n",
      "\n",
      "[2023-08-06 07:41:46] Retrieving data subset ...\n",
      "\n",
      "[2023-08-06 07:41:48] Done\n",
      "\n",
      "[2023-08-06 07:41:48] Performing annual aggregation...\n",
      "\n",
      "[2023-08-06 07:41:55] Done.\n",
      "\n"
     ]
    },
    {
     "name": "stdout",
     "output_type": "stream",
     "text": [
      "[1] \"### loading 2014 ###\"\n"
     ]
    },
    {
     "name": "stderr",
     "output_type": "stream",
     "text": [
      "[2023-08-06 07:41:55] Defining geo-location parameters\n",
      "\n",
      "[2023-08-06 07:41:55] Defining time selection parameters\n",
      "\n",
      "[2023-08-06 07:41:55] Retrieving data subset ...\n",
      "\n",
      "[2023-08-06 07:41:57] Done\n",
      "\n",
      "[2023-08-06 07:41:57] Performing annual aggregation...\n",
      "\n",
      "[2023-08-06 07:42:05] Done.\n",
      "\n"
     ]
    },
    {
     "name": "stdout",
     "output_type": "stream",
     "text": [
      "[1] \"### loading 2015 ###\"\n"
     ]
    },
    {
     "name": "stderr",
     "output_type": "stream",
     "text": [
      "[2023-08-06 07:42:05] Defining geo-location parameters\n",
      "\n",
      "[2023-08-06 07:42:05] Defining time selection parameters\n",
      "\n",
      "[2023-08-06 07:42:05] Retrieving data subset ...\n",
      "\n",
      "[2023-08-06 07:42:07] Done\n",
      "\n",
      "[2023-08-06 07:42:07] Performing annual aggregation...\n",
      "\n",
      "[2023-08-06 07:42:14] Done.\n",
      "\n"
     ]
    }
   ],
   "source": [
    "###############################\n",
    "## W5E5 observations for MAM ##\n",
    "###############################\n",
    "data_MAM = lapply(1979:2015, function(iyear) {\n",
    "  print(sprintf(\"### loading %d ###\", iyear))\n",
    "  gridArithmetics(aggregateGrid(loadGridData('/home/oem/Desktop/TFM/datoss/pr_W5E5.nc', var = 'pr',\n",
    "                             season = 3:5, # MAM\n",
    "                             years = iyear),\n",
    "                aggr.y = list(FUN = \"sum\", na.rm = T)),mask.bin.05,operator=\"*\")  \n",
    "})\n",
    "\n",
    "data_MAM = bindGrid(data_MAM, dimension = \"time\") \n",
    "data_MAM = subsetGrid(data_MAM, latLim = c(-60,89.75))\n",
    "save(data_MAM, file = \"pr_MAM.rda\") "
   ]
  },
  {
   "cell_type": "code",
   "execution_count": 61,
   "id": "ea2ac700",
   "metadata": {},
   "outputs": [
    {
     "name": "stdout",
     "output_type": "stream",
     "text": [
      "[1] \"### loading 1979 ###\"\n"
     ]
    },
    {
     "name": "stderr",
     "output_type": "stream",
     "text": [
      "[2023-08-06 07:43:10] Defining geo-location parameters\n",
      "\n",
      "[2023-08-06 07:43:10] Defining time selection parameters\n",
      "\n",
      "[2023-08-06 07:43:10] Retrieving data subset ...\n",
      "\n",
      "[2023-08-06 07:43:12] Done\n",
      "\n",
      "[2023-08-06 07:43:12] Performing annual aggregation...\n",
      "\n",
      "[2023-08-06 07:43:19] Done.\n",
      "\n"
     ]
    },
    {
     "name": "stdout",
     "output_type": "stream",
     "text": [
      "[1] \"### loading 1980 ###\"\n"
     ]
    },
    {
     "name": "stderr",
     "output_type": "stream",
     "text": [
      "[2023-08-06 07:43:19] Defining geo-location parameters\n",
      "\n",
      "[2023-08-06 07:43:19] Defining time selection parameters\n",
      "\n",
      "[2023-08-06 07:43:19] Retrieving data subset ...\n",
      "\n",
      "[2023-08-06 07:43:21] Done\n",
      "\n",
      "[2023-08-06 07:43:21] Performing annual aggregation...\n",
      "\n",
      "[2023-08-06 07:43:29] Done.\n",
      "\n"
     ]
    },
    {
     "name": "stdout",
     "output_type": "stream",
     "text": [
      "[1] \"### loading 1981 ###\"\n"
     ]
    },
    {
     "name": "stderr",
     "output_type": "stream",
     "text": [
      "[2023-08-06 07:43:29] Defining geo-location parameters\n",
      "\n",
      "[2023-08-06 07:43:29] Defining time selection parameters\n",
      "\n",
      "[2023-08-06 07:43:29] Retrieving data subset ...\n",
      "\n",
      "[2023-08-06 07:43:30] Done\n",
      "\n",
      "[2023-08-06 07:43:30] Performing annual aggregation...\n",
      "\n",
      "[2023-08-06 07:43:39] Done.\n",
      "\n"
     ]
    },
    {
     "name": "stdout",
     "output_type": "stream",
     "text": [
      "[1] \"### loading 1982 ###\"\n"
     ]
    },
    {
     "name": "stderr",
     "output_type": "stream",
     "text": [
      "[2023-08-06 07:43:39] Defining geo-location parameters\n",
      "\n",
      "[2023-08-06 07:43:39] Defining time selection parameters\n",
      "\n",
      "[2023-08-06 07:43:39] Retrieving data subset ...\n",
      "\n",
      "[2023-08-06 07:43:40] Done\n",
      "\n",
      "[2023-08-06 07:43:40] Performing annual aggregation...\n",
      "\n",
      "[2023-08-06 07:43:48] Done.\n",
      "\n"
     ]
    },
    {
     "name": "stdout",
     "output_type": "stream",
     "text": [
      "[1] \"### loading 1983 ###\"\n"
     ]
    },
    {
     "name": "stderr",
     "output_type": "stream",
     "text": [
      "[2023-08-06 07:43:48] Defining geo-location parameters\n",
      "\n",
      "[2023-08-06 07:43:48] Defining time selection parameters\n",
      "\n",
      "[2023-08-06 07:43:48] Retrieving data subset ...\n",
      "\n",
      "[2023-08-06 07:43:49] Done\n",
      "\n",
      "[2023-08-06 07:43:49] Performing annual aggregation...\n",
      "\n",
      "[2023-08-06 07:43:57] Done.\n",
      "\n"
     ]
    },
    {
     "name": "stdout",
     "output_type": "stream",
     "text": [
      "[1] \"### loading 1984 ###\"\n"
     ]
    },
    {
     "name": "stderr",
     "output_type": "stream",
     "text": [
      "[2023-08-06 07:43:57] Defining geo-location parameters\n",
      "\n",
      "[2023-08-06 07:43:57] Defining time selection parameters\n",
      "\n",
      "[2023-08-06 07:43:57] Retrieving data subset ...\n",
      "\n",
      "[2023-08-06 07:43:59] Done\n",
      "\n",
      "[2023-08-06 07:43:59] Performing annual aggregation...\n",
      "\n",
      "[2023-08-06 07:44:06] Done.\n",
      "\n"
     ]
    },
    {
     "name": "stdout",
     "output_type": "stream",
     "text": [
      "[1] \"### loading 1985 ###\"\n"
     ]
    },
    {
     "name": "stderr",
     "output_type": "stream",
     "text": [
      "[2023-08-06 07:44:07] Defining geo-location parameters\n",
      "\n",
      "[2023-08-06 07:44:07] Defining time selection parameters\n",
      "\n",
      "[2023-08-06 07:44:07] Retrieving data subset ...\n",
      "\n",
      "[2023-08-06 07:44:08] Done\n",
      "\n",
      "[2023-08-06 07:44:08] Performing annual aggregation...\n",
      "\n",
      "[2023-08-06 07:44:16] Done.\n",
      "\n"
     ]
    },
    {
     "name": "stdout",
     "output_type": "stream",
     "text": [
      "[1] \"### loading 1986 ###\"\n"
     ]
    },
    {
     "name": "stderr",
     "output_type": "stream",
     "text": [
      "[2023-08-06 07:44:16] Defining geo-location parameters\n",
      "\n",
      "[2023-08-06 07:44:16] Defining time selection parameters\n",
      "\n",
      "[2023-08-06 07:44:16] Retrieving data subset ...\n",
      "\n",
      "[2023-08-06 07:44:18] Done\n",
      "\n",
      "[2023-08-06 07:44:18] Performing annual aggregation...\n",
      "\n",
      "[2023-08-06 07:44:25] Done.\n",
      "\n"
     ]
    },
    {
     "name": "stdout",
     "output_type": "stream",
     "text": [
      "[1] \"### loading 1987 ###\"\n"
     ]
    },
    {
     "name": "stderr",
     "output_type": "stream",
     "text": [
      "[2023-08-06 07:44:25] Defining geo-location parameters\n",
      "\n",
      "[2023-08-06 07:44:25] Defining time selection parameters\n",
      "\n",
      "[2023-08-06 07:44:25] Retrieving data subset ...\n",
      "\n",
      "[2023-08-06 07:44:27] Done\n",
      "\n",
      "[2023-08-06 07:44:27] Performing annual aggregation...\n",
      "\n",
      "[2023-08-06 07:44:35] Done.\n",
      "\n"
     ]
    },
    {
     "name": "stdout",
     "output_type": "stream",
     "text": [
      "[1] \"### loading 1988 ###\"\n"
     ]
    },
    {
     "name": "stderr",
     "output_type": "stream",
     "text": [
      "[2023-08-06 07:44:35] Defining geo-location parameters\n",
      "\n",
      "[2023-08-06 07:44:35] Defining time selection parameters\n",
      "\n",
      "[2023-08-06 07:44:35] Retrieving data subset ...\n",
      "\n",
      "[2023-08-06 07:44:37] Done\n",
      "\n",
      "[2023-08-06 07:44:37] Performing annual aggregation...\n",
      "\n",
      "[2023-08-06 07:44:44] Done.\n",
      "\n"
     ]
    },
    {
     "name": "stdout",
     "output_type": "stream",
     "text": [
      "[1] \"### loading 1989 ###\"\n"
     ]
    },
    {
     "name": "stderr",
     "output_type": "stream",
     "text": [
      "[2023-08-06 07:44:44] Defining geo-location parameters\n",
      "\n",
      "[2023-08-06 07:44:44] Defining time selection parameters\n",
      "\n",
      "[2023-08-06 07:44:44] Retrieving data subset ...\n",
      "\n",
      "[2023-08-06 07:44:46] Done\n",
      "\n",
      "[2023-08-06 07:44:46] Performing annual aggregation...\n",
      "\n",
      "[2023-08-06 07:44:54] Done.\n",
      "\n"
     ]
    },
    {
     "name": "stdout",
     "output_type": "stream",
     "text": [
      "[1] \"### loading 1990 ###\"\n"
     ]
    },
    {
     "name": "stderr",
     "output_type": "stream",
     "text": [
      "[2023-08-06 07:44:54] Defining geo-location parameters\n",
      "\n",
      "[2023-08-06 07:44:54] Defining time selection parameters\n",
      "\n",
      "[2023-08-06 07:44:54] Retrieving data subset ...\n",
      "\n",
      "[2023-08-06 07:44:56] Done\n",
      "\n",
      "[2023-08-06 07:44:56] Performing annual aggregation...\n",
      "\n",
      "[2023-08-06 07:45:03] Done.\n",
      "\n"
     ]
    },
    {
     "name": "stdout",
     "output_type": "stream",
     "text": [
      "[1] \"### loading 1991 ###\"\n"
     ]
    },
    {
     "name": "stderr",
     "output_type": "stream",
     "text": [
      "[2023-08-06 07:45:03] Defining geo-location parameters\n",
      "\n",
      "[2023-08-06 07:45:03] Defining time selection parameters\n",
      "\n",
      "[2023-08-06 07:45:03] Retrieving data subset ...\n",
      "\n",
      "[2023-08-06 07:45:05] Done\n",
      "\n",
      "[2023-08-06 07:45:05] Performing annual aggregation...\n",
      "\n",
      "[2023-08-06 07:45:13] Done.\n",
      "\n"
     ]
    },
    {
     "name": "stdout",
     "output_type": "stream",
     "text": [
      "[1] \"### loading 1992 ###\"\n"
     ]
    },
    {
     "name": "stderr",
     "output_type": "stream",
     "text": [
      "[2023-08-06 07:45:13] Defining geo-location parameters\n",
      "\n",
      "[2023-08-06 07:45:13] Defining time selection parameters\n",
      "\n",
      "[2023-08-06 07:45:13] Retrieving data subset ...\n",
      "\n",
      "[2023-08-06 07:45:14] Done\n",
      "\n",
      "[2023-08-06 07:45:14] Performing annual aggregation...\n",
      "\n",
      "[2023-08-06 07:45:22] Done.\n",
      "\n"
     ]
    },
    {
     "name": "stdout",
     "output_type": "stream",
     "text": [
      "[1] \"### loading 1993 ###\"\n"
     ]
    },
    {
     "name": "stderr",
     "output_type": "stream",
     "text": [
      "[2023-08-06 07:45:22] Defining geo-location parameters\n",
      "\n",
      "[2023-08-06 07:45:22] Defining time selection parameters\n",
      "\n",
      "[2023-08-06 07:45:22] Retrieving data subset ...\n",
      "\n",
      "[2023-08-06 07:45:24] Done\n",
      "\n",
      "[2023-08-06 07:45:24] Performing annual aggregation...\n",
      "\n",
      "[2023-08-06 07:45:32] Done.\n",
      "\n"
     ]
    },
    {
     "name": "stdout",
     "output_type": "stream",
     "text": [
      "[1] \"### loading 1994 ###\"\n"
     ]
    },
    {
     "name": "stderr",
     "output_type": "stream",
     "text": [
      "[2023-08-06 07:45:32] Defining geo-location parameters\n",
      "\n",
      "[2023-08-06 07:45:32] Defining time selection parameters\n",
      "\n",
      "[2023-08-06 07:45:32] Retrieving data subset ...\n",
      "\n",
      "[2023-08-06 07:45:34] Done\n",
      "\n",
      "[2023-08-06 07:45:34] Performing annual aggregation...\n",
      "\n",
      "[2023-08-06 07:45:42] Done.\n",
      "\n"
     ]
    },
    {
     "name": "stdout",
     "output_type": "stream",
     "text": [
      "[1] \"### loading 1995 ###\"\n"
     ]
    },
    {
     "name": "stderr",
     "output_type": "stream",
     "text": [
      "[2023-08-06 07:45:42] Defining geo-location parameters\n",
      "\n",
      "[2023-08-06 07:45:42] Defining time selection parameters\n",
      "\n",
      "[2023-08-06 07:45:42] Retrieving data subset ...\n",
      "\n",
      "[2023-08-06 07:45:44] Done\n",
      "\n",
      "[2023-08-06 07:45:44] Performing annual aggregation...\n",
      "\n",
      "[2023-08-06 07:45:52] Done.\n",
      "\n"
     ]
    },
    {
     "name": "stdout",
     "output_type": "stream",
     "text": [
      "[1] \"### loading 1996 ###\"\n"
     ]
    },
    {
     "name": "stderr",
     "output_type": "stream",
     "text": [
      "[2023-08-06 07:45:52] Defining geo-location parameters\n",
      "\n",
      "[2023-08-06 07:45:52] Defining time selection parameters\n",
      "\n",
      "[2023-08-06 07:45:52] Retrieving data subset ...\n",
      "\n",
      "[2023-08-06 07:45:54] Done\n",
      "\n",
      "[2023-08-06 07:45:54] Performing annual aggregation...\n",
      "\n",
      "[2023-08-06 07:46:02] Done.\n",
      "\n"
     ]
    },
    {
     "name": "stdout",
     "output_type": "stream",
     "text": [
      "[1] \"### loading 1997 ###\"\n"
     ]
    },
    {
     "name": "stderr",
     "output_type": "stream",
     "text": [
      "[2023-08-06 07:46:02] Defining geo-location parameters\n",
      "\n",
      "[2023-08-06 07:46:02] Defining time selection parameters\n",
      "\n",
      "[2023-08-06 07:46:02] Retrieving data subset ...\n",
      "\n",
      "[2023-08-06 07:46:03] Done\n",
      "\n",
      "[2023-08-06 07:46:03] Performing annual aggregation...\n",
      "\n",
      "[2023-08-06 07:46:12] Done.\n",
      "\n"
     ]
    },
    {
     "name": "stdout",
     "output_type": "stream",
     "text": [
      "[1] \"### loading 1998 ###\"\n"
     ]
    },
    {
     "name": "stderr",
     "output_type": "stream",
     "text": [
      "[2023-08-06 07:46:12] Defining geo-location parameters\n",
      "\n",
      "[2023-08-06 07:46:12] Defining time selection parameters\n",
      "\n",
      "[2023-08-06 07:46:12] Retrieving data subset ...\n",
      "\n",
      "[2023-08-06 07:46:13] Done\n",
      "\n",
      "[2023-08-06 07:46:13] Performing annual aggregation...\n",
      "\n",
      "[2023-08-06 07:46:21] Done.\n",
      "\n"
     ]
    },
    {
     "name": "stdout",
     "output_type": "stream",
     "text": [
      "[1] \"### loading 1999 ###\"\n"
     ]
    },
    {
     "name": "stderr",
     "output_type": "stream",
     "text": [
      "[2023-08-06 07:46:21] Defining geo-location parameters\n",
      "\n",
      "[2023-08-06 07:46:21] Defining time selection parameters\n",
      "\n",
      "[2023-08-06 07:46:21] Retrieving data subset ...\n",
      "\n",
      "[2023-08-06 07:46:22] Done\n",
      "\n",
      "[2023-08-06 07:46:22] Performing annual aggregation...\n",
      "\n",
      "[2023-08-06 07:46:31] Done.\n",
      "\n"
     ]
    },
    {
     "name": "stdout",
     "output_type": "stream",
     "text": [
      "[1] \"### loading 2000 ###\"\n"
     ]
    },
    {
     "name": "stderr",
     "output_type": "stream",
     "text": [
      "[2023-08-06 07:46:31] Defining geo-location parameters\n",
      "\n",
      "[2023-08-06 07:46:31] Defining time selection parameters\n",
      "\n",
      "[2023-08-06 07:46:31] Retrieving data subset ...\n",
      "\n",
      "[2023-08-06 07:46:32] Done\n",
      "\n",
      "[2023-08-06 07:46:32] Performing annual aggregation...\n",
      "\n",
      "[2023-08-06 07:46:40] Done.\n",
      "\n"
     ]
    },
    {
     "name": "stdout",
     "output_type": "stream",
     "text": [
      "[1] \"### loading 2001 ###\"\n"
     ]
    },
    {
     "name": "stderr",
     "output_type": "stream",
     "text": [
      "[2023-08-06 07:46:40] Defining geo-location parameters\n",
      "\n",
      "[2023-08-06 07:46:40] Defining time selection parameters\n",
      "\n",
      "[2023-08-06 07:46:40] Retrieving data subset ...\n",
      "\n",
      "[2023-08-06 07:46:41] Done\n",
      "\n",
      "[2023-08-06 07:46:41] Performing annual aggregation...\n",
      "\n",
      "[2023-08-06 07:46:50] Done.\n",
      "\n"
     ]
    },
    {
     "name": "stdout",
     "output_type": "stream",
     "text": [
      "[1] \"### loading 2002 ###\"\n"
     ]
    },
    {
     "name": "stderr",
     "output_type": "stream",
     "text": [
      "[2023-08-06 07:46:50] Defining geo-location parameters\n",
      "\n",
      "[2023-08-06 07:46:50] Defining time selection parameters\n",
      "\n",
      "[2023-08-06 07:46:50] Retrieving data subset ...\n",
      "\n",
      "[2023-08-06 07:46:51] Done\n",
      "\n",
      "[2023-08-06 07:46:51] Performing annual aggregation...\n",
      "\n",
      "[2023-08-06 07:46:59] Done.\n",
      "\n"
     ]
    },
    {
     "name": "stdout",
     "output_type": "stream",
     "text": [
      "[1] \"### loading 2003 ###\"\n"
     ]
    },
    {
     "name": "stderr",
     "output_type": "stream",
     "text": [
      "[2023-08-06 07:46:59] Defining geo-location parameters\n",
      "\n",
      "[2023-08-06 07:46:59] Defining time selection parameters\n",
      "\n",
      "[2023-08-06 07:46:59] Retrieving data subset ...\n",
      "\n",
      "[2023-08-06 07:47:00] Done\n",
      "\n",
      "[2023-08-06 07:47:00] Performing annual aggregation...\n",
      "\n",
      "[2023-08-06 07:47:08] Done.\n",
      "\n"
     ]
    },
    {
     "name": "stdout",
     "output_type": "stream",
     "text": [
      "[1] \"### loading 2004 ###\"\n"
     ]
    },
    {
     "name": "stderr",
     "output_type": "stream",
     "text": [
      "[2023-08-06 07:47:08] Defining geo-location parameters\n",
      "\n",
      "[2023-08-06 07:47:08] Defining time selection parameters\n",
      "\n",
      "[2023-08-06 07:47:08] Retrieving data subset ...\n",
      "\n",
      "[2023-08-06 07:47:10] Done\n",
      "\n",
      "[2023-08-06 07:47:10] Performing annual aggregation...\n",
      "\n",
      "[2023-08-06 07:47:17] Done.\n",
      "\n"
     ]
    },
    {
     "name": "stdout",
     "output_type": "stream",
     "text": [
      "[1] \"### loading 2005 ###\"\n"
     ]
    },
    {
     "name": "stderr",
     "output_type": "stream",
     "text": [
      "[2023-08-06 07:47:17] Defining geo-location parameters\n",
      "\n",
      "[2023-08-06 07:47:17] Defining time selection parameters\n",
      "\n",
      "[2023-08-06 07:47:17] Retrieving data subset ...\n",
      "\n",
      "[2023-08-06 07:47:19] Done\n",
      "\n",
      "[2023-08-06 07:47:19] Performing annual aggregation...\n",
      "\n",
      "[2023-08-06 07:47:27] Done.\n",
      "\n"
     ]
    },
    {
     "name": "stdout",
     "output_type": "stream",
     "text": [
      "[1] \"### loading 2006 ###\"\n"
     ]
    },
    {
     "name": "stderr",
     "output_type": "stream",
     "text": [
      "[2023-08-06 07:47:27] Defining geo-location parameters\n",
      "\n",
      "[2023-08-06 07:47:27] Defining time selection parameters\n",
      "\n",
      "[2023-08-06 07:47:27] Retrieving data subset ...\n",
      "\n",
      "[2023-08-06 07:47:28] Done\n",
      "\n",
      "[2023-08-06 07:47:28] Performing annual aggregation...\n",
      "\n",
      "[2023-08-06 07:47:36] Done.\n",
      "\n"
     ]
    },
    {
     "name": "stdout",
     "output_type": "stream",
     "text": [
      "[1] \"### loading 2007 ###\"\n"
     ]
    },
    {
     "name": "stderr",
     "output_type": "stream",
     "text": [
      "[2023-08-06 07:47:36] Defining geo-location parameters\n",
      "\n",
      "[2023-08-06 07:47:36] Defining time selection parameters\n",
      "\n",
      "[2023-08-06 07:47:36] Retrieving data subset ...\n",
      "\n",
      "[2023-08-06 07:47:38] Done\n",
      "\n",
      "[2023-08-06 07:47:38] Performing annual aggregation...\n",
      "\n",
      "[2023-08-06 07:47:46] Done.\n",
      "\n"
     ]
    },
    {
     "name": "stdout",
     "output_type": "stream",
     "text": [
      "[1] \"### loading 2008 ###\"\n"
     ]
    },
    {
     "name": "stderr",
     "output_type": "stream",
     "text": [
      "[2023-08-06 07:47:46] Defining geo-location parameters\n",
      "\n",
      "[2023-08-06 07:47:46] Defining time selection parameters\n",
      "\n",
      "[2023-08-06 07:47:46] Retrieving data subset ...\n",
      "\n",
      "[2023-08-06 07:47:47] Done\n",
      "\n",
      "[2023-08-06 07:47:47] Performing annual aggregation...\n",
      "\n",
      "[2023-08-06 07:47:55] Done.\n",
      "\n"
     ]
    },
    {
     "name": "stdout",
     "output_type": "stream",
     "text": [
      "[1] \"### loading 2009 ###\"\n"
     ]
    },
    {
     "name": "stderr",
     "output_type": "stream",
     "text": [
      "[2023-08-06 07:47:55] Defining geo-location parameters\n",
      "\n",
      "[2023-08-06 07:47:55] Defining time selection parameters\n",
      "\n",
      "[2023-08-06 07:47:55] Retrieving data subset ...\n",
      "\n",
      "[2023-08-06 07:47:57] Done\n",
      "\n",
      "[2023-08-06 07:47:57] Performing annual aggregation...\n",
      "\n",
      "[2023-08-06 07:48:05] Done.\n",
      "\n"
     ]
    },
    {
     "name": "stdout",
     "output_type": "stream",
     "text": [
      "[1] \"### loading 2010 ###\"\n"
     ]
    },
    {
     "name": "stderr",
     "output_type": "stream",
     "text": [
      "[2023-08-06 07:48:05] Defining geo-location parameters\n",
      "\n",
      "[2023-08-06 07:48:05] Defining time selection parameters\n",
      "\n",
      "[2023-08-06 07:48:05] Retrieving data subset ...\n",
      "\n",
      "[2023-08-06 07:48:07] Done\n",
      "\n",
      "[2023-08-06 07:48:07] Performing annual aggregation...\n",
      "\n",
      "[2023-08-06 07:48:15] Done.\n",
      "\n"
     ]
    },
    {
     "name": "stdout",
     "output_type": "stream",
     "text": [
      "[1] \"### loading 2011 ###\"\n"
     ]
    },
    {
     "name": "stderr",
     "output_type": "stream",
     "text": [
      "[2023-08-06 07:48:15] Defining geo-location parameters\n",
      "\n",
      "[2023-08-06 07:48:15] Defining time selection parameters\n",
      "\n",
      "[2023-08-06 07:48:15] Retrieving data subset ...\n",
      "\n",
      "[2023-08-06 07:48:17] Done\n",
      "\n",
      "[2023-08-06 07:48:17] Performing annual aggregation...\n",
      "\n",
      "[2023-08-06 07:48:25] Done.\n",
      "\n"
     ]
    },
    {
     "name": "stdout",
     "output_type": "stream",
     "text": [
      "[1] \"### loading 2012 ###\"\n"
     ]
    },
    {
     "name": "stderr",
     "output_type": "stream",
     "text": [
      "[2023-08-06 07:48:25] Defining geo-location parameters\n",
      "\n",
      "[2023-08-06 07:48:25] Defining time selection parameters\n",
      "\n",
      "[2023-08-06 07:48:25] Retrieving data subset ...\n",
      "\n",
      "[2023-08-06 07:48:26] Done\n",
      "\n",
      "[2023-08-06 07:48:26] Performing annual aggregation...\n",
      "\n",
      "[2023-08-06 07:48:34] Done.\n",
      "\n"
     ]
    },
    {
     "name": "stdout",
     "output_type": "stream",
     "text": [
      "[1] \"### loading 2013 ###\"\n"
     ]
    },
    {
     "name": "stderr",
     "output_type": "stream",
     "text": [
      "[2023-08-06 07:48:35] Defining geo-location parameters\n",
      "\n",
      "[2023-08-06 07:48:35] Defining time selection parameters\n",
      "\n",
      "[2023-08-06 07:48:35] Retrieving data subset ...\n",
      "\n",
      "[2023-08-06 07:48:36] Done\n",
      "\n",
      "[2023-08-06 07:48:36] Performing annual aggregation...\n",
      "\n",
      "[2023-08-06 07:48:44] Done.\n",
      "\n"
     ]
    },
    {
     "name": "stdout",
     "output_type": "stream",
     "text": [
      "[1] \"### loading 2014 ###\"\n"
     ]
    },
    {
     "name": "stderr",
     "output_type": "stream",
     "text": [
      "[2023-08-06 07:48:45] Defining geo-location parameters\n",
      "\n",
      "[2023-08-06 07:48:45] Defining time selection parameters\n",
      "\n",
      "[2023-08-06 07:48:45] Retrieving data subset ...\n",
      "\n",
      "[2023-08-06 07:48:46] Done\n",
      "\n",
      "[2023-08-06 07:48:46] Performing annual aggregation...\n",
      "\n",
      "[2023-08-06 07:48:54] Done.\n",
      "\n"
     ]
    },
    {
     "name": "stdout",
     "output_type": "stream",
     "text": [
      "[1] \"### loading 2015 ###\"\n"
     ]
    },
    {
     "name": "stderr",
     "output_type": "stream",
     "text": [
      "[2023-08-06 07:48:54] Defining geo-location parameters\n",
      "\n",
      "[2023-08-06 07:48:54] Defining time selection parameters\n",
      "\n",
      "[2023-08-06 07:48:54] Retrieving data subset ...\n",
      "\n",
      "[2023-08-06 07:48:56] Done\n",
      "\n",
      "[2023-08-06 07:48:56] Performing annual aggregation...\n",
      "\n",
      "[2023-08-06 07:49:04] Done.\n",
      "\n"
     ]
    }
   ],
   "source": [
    "data_MAM_temp = lapply(1979:2015, function(iyear) {\n",
    "  print(sprintf(\"### loading %d ###\", iyear))\n",
    "  gridArithmetics(aggregateGrid(loadGridData('/home/oem/Desktop/TFM/datoss/tas_W5E5.nc', var = 'tas',\n",
    "                             season = 3:5,  # JJA\n",
    "                             years = iyear),\n",
    "                aggr.y = list(FUN = \"mean\", na.rm = T)),mask.bin.05,operator=\"*\")  \n",
    "})\n",
    "data_MAM_temp = bindGrid(data_MAM_temp, dimension = \"time\") \n",
    "data_MAM_temp = subsetGrid(data_MAM_temp, latLim = c(-60,89.75))\n",
    "save(data_MAM_temp, file = \"tas_MAM.rda\") "
   ]
  },
  {
   "cell_type": "code",
   "execution_count": 5,
   "id": "ff47d547",
   "metadata": {},
   "outputs": [
    {
     "name": "stdout",
     "output_type": "stream",
     "text": [
      "[1] \"### loading 1979 ###\"\n"
     ]
    },
    {
     "name": "stderr",
     "output_type": "stream",
     "text": [
      "[2023-08-21 20:10:13] Defining geo-location parameters\n",
      "\n",
      "[2023-08-21 20:10:13] Defining time selection parameters\n",
      "\n",
      "Warning message in getTimeDomain(grid, dic, season, years, time, aggr.d, aggr.m, :\n",
      "“First date in dataset: 1979-01-01. Seasonal data for the first year requested not available”\n",
      "[2023-08-21 20:10:13] Retrieving data subset ...\n",
      "\n",
      "[2023-08-21 20:10:16] Done\n",
      "\n",
      "[2023-08-21 20:10:16] Performing annual aggregation...\n",
      "\n",
      "[2023-08-21 20:10:24] Done.\n",
      "\n"
     ]
    },
    {
     "name": "stdout",
     "output_type": "stream",
     "text": [
      "[1] \"### loading 1980 ###\"\n"
     ]
    },
    {
     "name": "stderr",
     "output_type": "stream",
     "text": [
      "[2023-08-21 20:10:25] Defining geo-location parameters\n",
      "\n",
      "[2023-08-21 20:10:25] Defining time selection parameters\n",
      "\n",
      "[2023-08-21 20:10:25] Retrieving data subset ...\n",
      "\n",
      "[2023-08-21 20:10:29] Done\n",
      "\n",
      "[2023-08-21 20:10:29] Performing annual aggregation...\n",
      "\n",
      "[2023-08-21 20:10:37] Done.\n",
      "\n"
     ]
    },
    {
     "name": "stdout",
     "output_type": "stream",
     "text": [
      "[1] \"### loading 1981 ###\"\n"
     ]
    },
    {
     "name": "stderr",
     "output_type": "stream",
     "text": [
      "[2023-08-21 20:10:38] Defining geo-location parameters\n",
      "\n",
      "[2023-08-21 20:10:38] Defining time selection parameters\n",
      "\n",
      "[2023-08-21 20:10:38] Retrieving data subset ...\n",
      "\n",
      "[2023-08-21 20:10:42] Done\n",
      "\n",
      "[2023-08-21 20:10:42] Performing annual aggregation...\n",
      "\n",
      "[2023-08-21 20:10:50] Done.\n",
      "\n"
     ]
    },
    {
     "name": "stdout",
     "output_type": "stream",
     "text": [
      "[1] \"### loading 1982 ###\"\n"
     ]
    },
    {
     "name": "stderr",
     "output_type": "stream",
     "text": [
      "[2023-08-21 20:10:51] Defining geo-location parameters\n",
      "\n",
      "[2023-08-21 20:10:51] Defining time selection parameters\n",
      "\n",
      "[2023-08-21 20:10:51] Retrieving data subset ...\n",
      "\n",
      "[2023-08-21 20:10:55] Done\n",
      "\n",
      "[2023-08-21 20:10:55] Performing annual aggregation...\n",
      "\n",
      "[2023-08-21 20:11:03] Done.\n",
      "\n"
     ]
    },
    {
     "name": "stdout",
     "output_type": "stream",
     "text": [
      "[1] \"### loading 1983 ###\"\n"
     ]
    },
    {
     "name": "stderr",
     "output_type": "stream",
     "text": [
      "[2023-08-21 20:11:03] Defining geo-location parameters\n",
      "\n",
      "[2023-08-21 20:11:03] Defining time selection parameters\n",
      "\n",
      "[2023-08-21 20:11:03] Retrieving data subset ...\n",
      "\n",
      "[2023-08-21 20:11:08] Done\n",
      "\n",
      "[2023-08-21 20:11:08] Performing annual aggregation...\n",
      "\n",
      "[2023-08-21 20:11:16] Done.\n",
      "\n"
     ]
    },
    {
     "name": "stdout",
     "output_type": "stream",
     "text": [
      "[1] \"### loading 1984 ###\"\n"
     ]
    },
    {
     "name": "stderr",
     "output_type": "stream",
     "text": [
      "[2023-08-21 20:11:16] Defining geo-location parameters\n",
      "\n",
      "[2023-08-21 20:11:16] Defining time selection parameters\n",
      "\n",
      "[2023-08-21 20:11:16] Retrieving data subset ...\n",
      "\n",
      "[2023-08-21 20:11:20] Done\n",
      "\n",
      "[2023-08-21 20:11:20] Performing annual aggregation...\n",
      "\n",
      "[2023-08-21 20:11:28] Done.\n",
      "\n"
     ]
    },
    {
     "name": "stdout",
     "output_type": "stream",
     "text": [
      "[1] \"### loading 1985 ###\"\n"
     ]
    },
    {
     "name": "stderr",
     "output_type": "stream",
     "text": [
      "[2023-08-21 20:11:28] Defining geo-location parameters\n",
      "\n",
      "[2023-08-21 20:11:28] Defining time selection parameters\n",
      "\n",
      "[2023-08-21 20:11:28] Retrieving data subset ...\n",
      "\n",
      "[2023-08-21 20:11:32] Done\n",
      "\n",
      "[2023-08-21 20:11:32] Performing annual aggregation...\n",
      "\n",
      "[2023-08-21 20:11:40] Done.\n",
      "\n"
     ]
    },
    {
     "name": "stdout",
     "output_type": "stream",
     "text": [
      "[1] \"### loading 1986 ###\"\n"
     ]
    },
    {
     "name": "stderr",
     "output_type": "stream",
     "text": [
      "[2023-08-21 20:11:41] Defining geo-location parameters\n",
      "\n",
      "[2023-08-21 20:11:41] Defining time selection parameters\n",
      "\n",
      "[2023-08-21 20:11:41] Retrieving data subset ...\n",
      "\n",
      "[2023-08-21 20:11:45] Done\n",
      "\n",
      "[2023-08-21 20:11:45] Performing annual aggregation...\n",
      "\n",
      "[2023-08-21 20:11:53] Done.\n",
      "\n"
     ]
    },
    {
     "name": "stdout",
     "output_type": "stream",
     "text": [
      "[1] \"### loading 1987 ###\"\n"
     ]
    },
    {
     "name": "stderr",
     "output_type": "stream",
     "text": [
      "[2023-08-21 20:11:53] Defining geo-location parameters\n",
      "\n",
      "[2023-08-21 20:11:53] Defining time selection parameters\n",
      "\n",
      "[2023-08-21 20:11:53] Retrieving data subset ...\n",
      "\n",
      "[2023-08-21 20:11:57] Done\n",
      "\n",
      "[2023-08-21 20:11:57] Performing annual aggregation...\n",
      "\n",
      "[2023-08-21 20:12:04] Done.\n",
      "\n"
     ]
    },
    {
     "name": "stdout",
     "output_type": "stream",
     "text": [
      "[1] \"### loading 1988 ###\"\n"
     ]
    },
    {
     "name": "stderr",
     "output_type": "stream",
     "text": [
      "[2023-08-21 20:12:05] Defining geo-location parameters\n",
      "\n",
      "[2023-08-21 20:12:05] Defining time selection parameters\n",
      "\n",
      "[2023-08-21 20:12:05] Retrieving data subset ...\n",
      "\n",
      "[2023-08-21 20:12:09] Done\n",
      "\n",
      "[2023-08-21 20:12:09] Performing annual aggregation...\n",
      "\n",
      "[2023-08-21 20:12:17] Done.\n",
      "\n"
     ]
    },
    {
     "name": "stdout",
     "output_type": "stream",
     "text": [
      "[1] \"### loading 1989 ###\"\n"
     ]
    },
    {
     "name": "stderr",
     "output_type": "stream",
     "text": [
      "[2023-08-21 20:12:17] Defining geo-location parameters\n",
      "\n",
      "[2023-08-21 20:12:17] Defining time selection parameters\n",
      "\n",
      "[2023-08-21 20:12:17] Retrieving data subset ...\n",
      "\n",
      "[2023-08-21 20:12:21] Done\n",
      "\n",
      "[2023-08-21 20:12:21] Performing annual aggregation...\n",
      "\n",
      "[2023-08-21 20:12:29] Done.\n",
      "\n"
     ]
    },
    {
     "name": "stdout",
     "output_type": "stream",
     "text": [
      "[1] \"### loading 1990 ###\"\n"
     ]
    },
    {
     "name": "stderr",
     "output_type": "stream",
     "text": [
      "[2023-08-21 20:12:29] Defining geo-location parameters\n",
      "\n",
      "[2023-08-21 20:12:29] Defining time selection parameters\n",
      "\n",
      "[2023-08-21 20:12:29] Retrieving data subset ...\n",
      "\n",
      "[2023-08-21 20:12:33] Done\n",
      "\n",
      "[2023-08-21 20:12:33] Performing annual aggregation...\n",
      "\n",
      "[2023-08-21 20:12:40] Done.\n",
      "\n"
     ]
    },
    {
     "name": "stdout",
     "output_type": "stream",
     "text": [
      "[1] \"### loading 1991 ###\"\n"
     ]
    },
    {
     "name": "stderr",
     "output_type": "stream",
     "text": [
      "[2023-08-21 20:12:41] Defining geo-location parameters\n",
      "\n",
      "[2023-08-21 20:12:41] Defining time selection parameters\n",
      "\n",
      "[2023-08-21 20:12:41] Retrieving data subset ...\n",
      "\n",
      "[2023-08-21 20:12:45] Done\n",
      "\n",
      "[2023-08-21 20:12:45] Performing annual aggregation...\n",
      "\n",
      "[2023-08-21 20:12:52] Done.\n",
      "\n"
     ]
    },
    {
     "name": "stdout",
     "output_type": "stream",
     "text": [
      "[1] \"### loading 1992 ###\"\n"
     ]
    },
    {
     "name": "stderr",
     "output_type": "stream",
     "text": [
      "[2023-08-21 20:12:53] Defining geo-location parameters\n",
      "\n",
      "[2023-08-21 20:12:53] Defining time selection parameters\n",
      "\n",
      "[2023-08-21 20:12:53] Retrieving data subset ...\n",
      "\n",
      "[2023-08-21 20:12:57] Done\n",
      "\n",
      "[2023-08-21 20:12:57] Performing annual aggregation...\n",
      "\n",
      "[2023-08-21 20:13:03] Done.\n",
      "\n"
     ]
    },
    {
     "name": "stdout",
     "output_type": "stream",
     "text": [
      "[1] \"### loading 1993 ###\"\n"
     ]
    },
    {
     "name": "stderr",
     "output_type": "stream",
     "text": [
      "[2023-08-21 20:13:04] Defining geo-location parameters\n",
      "\n",
      "[2023-08-21 20:13:04] Defining time selection parameters\n",
      "\n",
      "[2023-08-21 20:13:04] Retrieving data subset ...\n",
      "\n",
      "[2023-08-21 20:13:08] Done\n",
      "\n",
      "[2023-08-21 20:13:08] Performing annual aggregation...\n",
      "\n",
      "[2023-08-21 20:13:16] Done.\n",
      "\n"
     ]
    },
    {
     "name": "stdout",
     "output_type": "stream",
     "text": [
      "[1] \"### loading 1994 ###\"\n"
     ]
    },
    {
     "name": "stderr",
     "output_type": "stream",
     "text": [
      "[2023-08-21 20:13:16] Defining geo-location parameters\n",
      "\n",
      "[2023-08-21 20:13:16] Defining time selection parameters\n",
      "\n",
      "[2023-08-21 20:13:16] Retrieving data subset ...\n",
      "\n",
      "[2023-08-21 20:13:20] Done\n",
      "\n",
      "[2023-08-21 20:13:20] Performing annual aggregation...\n",
      "\n",
      "[2023-08-21 20:13:28] Done.\n",
      "\n"
     ]
    },
    {
     "name": "stdout",
     "output_type": "stream",
     "text": [
      "[1] \"### loading 1995 ###\"\n"
     ]
    },
    {
     "name": "stderr",
     "output_type": "stream",
     "text": [
      "[2023-08-21 20:13:28] Defining geo-location parameters\n",
      "\n",
      "[2023-08-21 20:13:29] Defining time selection parameters\n",
      "\n",
      "[2023-08-21 20:13:29] Retrieving data subset ...\n",
      "\n",
      "[2023-08-21 20:13:33] Done\n",
      "\n",
      "[2023-08-21 20:13:33] Performing annual aggregation...\n",
      "\n",
      "[2023-08-21 20:13:40] Done.\n",
      "\n"
     ]
    },
    {
     "name": "stdout",
     "output_type": "stream",
     "text": [
      "[1] \"### loading 1996 ###\"\n"
     ]
    },
    {
     "name": "stderr",
     "output_type": "stream",
     "text": [
      "[2023-08-21 20:13:41] Defining geo-location parameters\n",
      "\n",
      "[2023-08-21 20:13:41] Defining time selection parameters\n",
      "\n",
      "[2023-08-21 20:13:41] Retrieving data subset ...\n",
      "\n",
      "[2023-08-21 20:13:45] Done\n",
      "\n",
      "[2023-08-21 20:13:45] Performing annual aggregation...\n",
      "\n",
      "[2023-08-21 20:13:53] Done.\n",
      "\n"
     ]
    },
    {
     "name": "stdout",
     "output_type": "stream",
     "text": [
      "[1] \"### loading 1997 ###\"\n"
     ]
    },
    {
     "name": "stderr",
     "output_type": "stream",
     "text": [
      "[2023-08-21 20:13:53] Defining geo-location parameters\n",
      "\n",
      "[2023-08-21 20:13:53] Defining time selection parameters\n",
      "\n",
      "[2023-08-21 20:13:53] Retrieving data subset ...\n",
      "\n",
      "[2023-08-21 20:13:57] Done\n",
      "\n",
      "[2023-08-21 20:13:57] Performing annual aggregation...\n",
      "\n",
      "[2023-08-21 20:14:05] Done.\n",
      "\n"
     ]
    },
    {
     "name": "stdout",
     "output_type": "stream",
     "text": [
      "[1] \"### loading 1998 ###\"\n"
     ]
    },
    {
     "name": "stderr",
     "output_type": "stream",
     "text": [
      "[2023-08-21 20:14:05] Defining geo-location parameters\n",
      "\n",
      "[2023-08-21 20:14:05] Defining time selection parameters\n",
      "\n",
      "[2023-08-21 20:14:05] Retrieving data subset ...\n",
      "\n",
      "[2023-08-21 20:14:09] Done\n",
      "\n",
      "[2023-08-21 20:14:09] Performing annual aggregation...\n",
      "\n",
      "[2023-08-21 20:14:16] Done.\n",
      "\n"
     ]
    },
    {
     "name": "stdout",
     "output_type": "stream",
     "text": [
      "[1] \"### loading 1999 ###\"\n"
     ]
    },
    {
     "name": "stderr",
     "output_type": "stream",
     "text": [
      "[2023-08-21 20:14:16] Defining geo-location parameters\n",
      "\n",
      "[2023-08-21 20:14:16] Defining time selection parameters\n",
      "\n",
      "[2023-08-21 20:14:16] Retrieving data subset ...\n",
      "\n",
      "[2023-08-21 20:14:20] Done\n",
      "\n",
      "[2023-08-21 20:14:20] Performing annual aggregation...\n",
      "\n",
      "[2023-08-21 20:14:28] Done.\n",
      "\n"
     ]
    },
    {
     "name": "stdout",
     "output_type": "stream",
     "text": [
      "[1] \"### loading 2000 ###\"\n"
     ]
    },
    {
     "name": "stderr",
     "output_type": "stream",
     "text": [
      "[2023-08-21 20:14:28] Defining geo-location parameters\n",
      "\n",
      "[2023-08-21 20:14:28] Defining time selection parameters\n",
      "\n",
      "[2023-08-21 20:14:28] Retrieving data subset ...\n",
      "\n",
      "[2023-08-21 20:14:32] Done\n",
      "\n",
      "[2023-08-21 20:14:32] Performing annual aggregation...\n",
      "\n",
      "[2023-08-21 20:14:39] Done.\n",
      "\n"
     ]
    },
    {
     "name": "stdout",
     "output_type": "stream",
     "text": [
      "[1] \"### loading 2001 ###\"\n"
     ]
    },
    {
     "name": "stderr",
     "output_type": "stream",
     "text": [
      "[2023-08-21 20:14:39] Defining geo-location parameters\n",
      "\n",
      "[2023-08-21 20:14:39] Defining time selection parameters\n",
      "\n",
      "[2023-08-21 20:14:39] Retrieving data subset ...\n",
      "\n",
      "[2023-08-21 20:14:43] Done\n",
      "\n",
      "[2023-08-21 20:14:43] Performing annual aggregation...\n",
      "\n",
      "[2023-08-21 20:14:50] Done.\n",
      "\n"
     ]
    },
    {
     "name": "stdout",
     "output_type": "stream",
     "text": [
      "[1] \"### loading 2002 ###\"\n"
     ]
    },
    {
     "name": "stderr",
     "output_type": "stream",
     "text": [
      "[2023-08-21 20:14:50] Defining geo-location parameters\n",
      "\n",
      "[2023-08-21 20:14:50] Defining time selection parameters\n",
      "\n",
      "[2023-08-21 20:14:50] Retrieving data subset ...\n",
      "\n",
      "[2023-08-21 20:14:54] Done\n",
      "\n",
      "[2023-08-21 20:14:54] Performing annual aggregation...\n",
      "\n",
      "[2023-08-21 20:15:01] Done.\n",
      "\n"
     ]
    },
    {
     "name": "stdout",
     "output_type": "stream",
     "text": [
      "[1] \"### loading 2003 ###\"\n"
     ]
    },
    {
     "name": "stderr",
     "output_type": "stream",
     "text": [
      "[2023-08-21 20:15:01] Defining geo-location parameters\n",
      "\n",
      "[2023-08-21 20:15:01] Defining time selection parameters\n",
      "\n",
      "[2023-08-21 20:15:01] Retrieving data subset ...\n",
      "\n",
      "[2023-08-21 20:15:05] Done\n",
      "\n",
      "[2023-08-21 20:15:05] Performing annual aggregation...\n",
      "\n",
      "[2023-08-21 20:15:11] Done.\n",
      "\n"
     ]
    },
    {
     "name": "stdout",
     "output_type": "stream",
     "text": [
      "[1] \"### loading 2004 ###\"\n"
     ]
    },
    {
     "name": "stderr",
     "output_type": "stream",
     "text": [
      "[2023-08-21 20:15:12] Defining geo-location parameters\n",
      "\n",
      "[2023-08-21 20:15:12] Defining time selection parameters\n",
      "\n",
      "[2023-08-21 20:15:12] Retrieving data subset ...\n",
      "\n",
      "[2023-08-21 20:15:16] Done\n",
      "\n",
      "[2023-08-21 20:15:16] Performing annual aggregation...\n",
      "\n",
      "[2023-08-21 20:15:23] Done.\n",
      "\n"
     ]
    },
    {
     "name": "stdout",
     "output_type": "stream",
     "text": [
      "[1] \"### loading 2005 ###\"\n"
     ]
    },
    {
     "name": "stderr",
     "output_type": "stream",
     "text": [
      "[2023-08-21 20:15:23] Defining geo-location parameters\n",
      "\n",
      "[2023-08-21 20:15:23] Defining time selection parameters\n",
      "\n",
      "[2023-08-21 20:15:23] Retrieving data subset ...\n",
      "\n",
      "[2023-08-21 20:15:27] Done\n",
      "\n",
      "[2023-08-21 20:15:27] Performing annual aggregation...\n",
      "\n",
      "[2023-08-21 20:15:34] Done.\n",
      "\n"
     ]
    },
    {
     "name": "stdout",
     "output_type": "stream",
     "text": [
      "[1] \"### loading 2006 ###\"\n"
     ]
    },
    {
     "name": "stderr",
     "output_type": "stream",
     "text": [
      "[2023-08-21 20:15:34] Defining geo-location parameters\n",
      "\n",
      "[2023-08-21 20:15:34] Defining time selection parameters\n",
      "\n",
      "[2023-08-21 20:15:34] Retrieving data subset ...\n",
      "\n",
      "[2023-08-21 20:15:38] Done\n",
      "\n",
      "[2023-08-21 20:15:38] Performing annual aggregation...\n",
      "\n",
      "[2023-08-21 20:15:45] Done.\n",
      "\n"
     ]
    },
    {
     "name": "stdout",
     "output_type": "stream",
     "text": [
      "[1] \"### loading 2007 ###\"\n"
     ]
    },
    {
     "name": "stderr",
     "output_type": "stream",
     "text": [
      "[2023-08-21 20:15:45] Defining geo-location parameters\n",
      "\n",
      "[2023-08-21 20:15:45] Defining time selection parameters\n",
      "\n",
      "[2023-08-21 20:15:45] Retrieving data subset ...\n",
      "\n",
      "[2023-08-21 20:15:49] Done\n",
      "\n",
      "[2023-08-21 20:15:49] Performing annual aggregation...\n",
      "\n",
      "[2023-08-21 20:15:56] Done.\n",
      "\n"
     ]
    },
    {
     "name": "stdout",
     "output_type": "stream",
     "text": [
      "[1] \"### loading 2008 ###\"\n"
     ]
    },
    {
     "name": "stderr",
     "output_type": "stream",
     "text": [
      "[2023-08-21 20:15:57] Defining geo-location parameters\n",
      "\n",
      "[2023-08-21 20:15:57] Defining time selection parameters\n",
      "\n",
      "[2023-08-21 20:15:57] Retrieving data subset ...\n",
      "\n",
      "[2023-08-21 20:16:01] Done\n",
      "\n",
      "[2023-08-21 20:16:01] Performing annual aggregation...\n",
      "\n",
      "[2023-08-21 20:16:08] Done.\n",
      "\n"
     ]
    },
    {
     "name": "stdout",
     "output_type": "stream",
     "text": [
      "[1] \"### loading 2009 ###\"\n"
     ]
    },
    {
     "name": "stderr",
     "output_type": "stream",
     "text": [
      "[2023-08-21 20:16:08] Defining geo-location parameters\n",
      "\n",
      "[2023-08-21 20:16:08] Defining time selection parameters\n",
      "\n",
      "[2023-08-21 20:16:08] Retrieving data subset ...\n",
      "\n",
      "[2023-08-21 20:16:12] Done\n",
      "\n",
      "[2023-08-21 20:16:12] Performing annual aggregation...\n",
      "\n",
      "[2023-08-21 20:16:19] Done.\n",
      "\n"
     ]
    },
    {
     "name": "stdout",
     "output_type": "stream",
     "text": [
      "[1] \"### loading 2010 ###\"\n"
     ]
    },
    {
     "name": "stderr",
     "output_type": "stream",
     "text": [
      "[2023-08-21 20:16:20] Defining geo-location parameters\n",
      "\n",
      "[2023-08-21 20:16:20] Defining time selection parameters\n",
      "\n",
      "[2023-08-21 20:16:20] Retrieving data subset ...\n",
      "\n",
      "[2023-08-21 20:16:24] Done\n",
      "\n",
      "[2023-08-21 20:16:24] Performing annual aggregation...\n",
      "\n",
      "[2023-08-21 20:16:31] Done.\n",
      "\n"
     ]
    },
    {
     "name": "stdout",
     "output_type": "stream",
     "text": [
      "[1] \"### loading 2011 ###\"\n"
     ]
    },
    {
     "name": "stderr",
     "output_type": "stream",
     "text": [
      "[2023-08-21 20:16:31] Defining geo-location parameters\n",
      "\n",
      "[2023-08-21 20:16:31] Defining time selection parameters\n",
      "\n",
      "[2023-08-21 20:16:31] Retrieving data subset ...\n",
      "\n",
      "[2023-08-21 20:16:35] Done\n",
      "\n",
      "[2023-08-21 20:16:35] Performing annual aggregation...\n",
      "\n",
      "[2023-08-21 20:16:41] Done.\n",
      "\n"
     ]
    },
    {
     "name": "stdout",
     "output_type": "stream",
     "text": [
      "[1] \"### loading 2012 ###\"\n"
     ]
    },
    {
     "name": "stderr",
     "output_type": "stream",
     "text": [
      "[2023-08-21 20:16:42] Defining geo-location parameters\n",
      "\n",
      "[2023-08-21 20:16:42] Defining time selection parameters\n",
      "\n",
      "[2023-08-21 20:16:42] Retrieving data subset ...\n",
      "\n",
      "[2023-08-21 20:16:46] Done\n",
      "\n",
      "[2023-08-21 20:16:46] Performing annual aggregation...\n",
      "\n",
      "[2023-08-21 20:16:53] Done.\n",
      "\n"
     ]
    },
    {
     "name": "stdout",
     "output_type": "stream",
     "text": [
      "[1] \"### loading 2013 ###\"\n"
     ]
    },
    {
     "name": "stderr",
     "output_type": "stream",
     "text": [
      "[2023-08-21 20:16:53] Defining geo-location parameters\n",
      "\n",
      "[2023-08-21 20:16:53] Defining time selection parameters\n",
      "\n",
      "[2023-08-21 20:16:53] Retrieving data subset ...\n",
      "\n",
      "[2023-08-21 20:16:57] Done\n",
      "\n",
      "[2023-08-21 20:16:57] Performing annual aggregation...\n",
      "\n",
      "[2023-08-21 20:17:05] Done.\n",
      "\n"
     ]
    },
    {
     "name": "stdout",
     "output_type": "stream",
     "text": [
      "[1] \"### loading 2014 ###\"\n"
     ]
    },
    {
     "name": "stderr",
     "output_type": "stream",
     "text": [
      "[2023-08-21 20:17:05] Defining geo-location parameters\n",
      "\n",
      "[2023-08-21 20:17:05] Defining time selection parameters\n",
      "\n",
      "[2023-08-21 20:17:06] Retrieving data subset ...\n",
      "\n",
      "[2023-08-21 20:17:09] Done\n",
      "\n",
      "[2023-08-21 20:17:09] Performing annual aggregation...\n",
      "\n",
      "[2023-08-21 20:17:18] Done.\n",
      "\n"
     ]
    },
    {
     "name": "stdout",
     "output_type": "stream",
     "text": [
      "[1] \"### loading 2015 ###\"\n"
     ]
    },
    {
     "name": "stderr",
     "output_type": "stream",
     "text": [
      "[2023-08-21 20:17:18] Defining geo-location parameters\n",
      "\n",
      "[2023-08-21 20:17:18] Defining time selection parameters\n",
      "\n",
      "[2023-08-21 20:17:18] Retrieving data subset ...\n",
      "\n",
      "[2023-08-21 20:17:22] Done\n",
      "\n",
      "[2023-08-21 20:17:22] Performing annual aggregation...\n",
      "\n",
      "[2023-08-21 20:17:30] Done.\n",
      "\n"
     ]
    }
   ],
   "source": [
    "###############################\n",
    "## W5E5 observations for DJF ##\n",
    "###############################\n",
    "data_DJF = lapply(1979:2015, function(iyear) {\n",
    "  print(sprintf(\"### loading %d ###\", iyear))\n",
    "  gridArithmetics(aggregateGrid(loadGridData('/home/oem/Desktop/TFM/datoss/pr_W5E5.nc', var = 'pr',\n",
    "                             season = c(12,1,2), # JJA\n",
    "                             years = iyear),\n",
    "                aggr.y = list(FUN = \"sum\", na.rm = T)),mask.bin.05,operator=\"*\")  \n",
    "})\n",
    "\n",
    "data_DJF = bindGrid(data_DJF, dimension = \"time\") \n",
    "data_DJF = subsetGrid(data_DJF, latLim = c(-60,89.75))\n",
    "save(data_DJF, file = \"pr_DJF.rda\") "
   ]
  },
  {
   "cell_type": "code",
   "execution_count": 6,
   "id": "054051a9",
   "metadata": {},
   "outputs": [
    {
     "name": "stdout",
     "output_type": "stream",
     "text": [
      "[1] \"### loading 1979 ###\"\n"
     ]
    },
    {
     "name": "stderr",
     "output_type": "stream",
     "text": [
      "[2023-08-21 20:17:34] Defining geo-location parameters\n",
      "\n",
      "[2023-08-21 20:17:34] Defining time selection parameters\n",
      "\n",
      "Warning message in getTimeDomain(grid, dic, season, years, time, aggr.d, aggr.m, :\n",
      "“First date in dataset: 1979-01-01. Seasonal data for the first year requested not available”\n",
      "[2023-08-21 20:17:34] Retrieving data subset ...\n",
      "\n",
      "[2023-08-21 20:17:35] Done\n",
      "\n",
      "[2023-08-21 20:17:35] Performing annual aggregation...\n",
      "\n",
      "[2023-08-21 20:17:43] Done.\n",
      "\n"
     ]
    },
    {
     "name": "stdout",
     "output_type": "stream",
     "text": [
      "[1] \"### loading 1980 ###\"\n"
     ]
    },
    {
     "name": "stderr",
     "output_type": "stream",
     "text": [
      "[2023-08-21 20:17:43] Defining geo-location parameters\n",
      "\n",
      "[2023-08-21 20:17:43] Defining time selection parameters\n",
      "\n",
      "[2023-08-21 20:17:43] Retrieving data subset ...\n",
      "\n",
      "[2023-08-21 20:17:47] Done\n",
      "\n",
      "[2023-08-21 20:17:47] Performing annual aggregation...\n",
      "\n",
      "[2023-08-21 20:17:55] Done.\n",
      "\n"
     ]
    },
    {
     "name": "stdout",
     "output_type": "stream",
     "text": [
      "[1] \"### loading 1981 ###\"\n"
     ]
    },
    {
     "name": "stderr",
     "output_type": "stream",
     "text": [
      "[2023-08-21 20:17:55] Defining geo-location parameters\n",
      "\n",
      "[2023-08-21 20:17:56] Defining time selection parameters\n",
      "\n",
      "[2023-08-21 20:17:56] Retrieving data subset ...\n",
      "\n",
      "[2023-08-21 20:17:59] Done\n",
      "\n",
      "[2023-08-21 20:17:59] Performing annual aggregation...\n",
      "\n",
      "[2023-08-21 20:18:07] Done.\n",
      "\n"
     ]
    },
    {
     "name": "stdout",
     "output_type": "stream",
     "text": [
      "[1] \"### loading 1982 ###\"\n"
     ]
    },
    {
     "name": "stderr",
     "output_type": "stream",
     "text": [
      "[2023-08-21 20:18:07] Defining geo-location parameters\n",
      "\n",
      "[2023-08-21 20:18:07] Defining time selection parameters\n",
      "\n",
      "[2023-08-21 20:18:07] Retrieving data subset ...\n",
      "\n",
      "[2023-08-21 20:18:10] Done\n",
      "\n",
      "[2023-08-21 20:18:10] Performing annual aggregation...\n",
      "\n",
      "[2023-08-21 20:18:18] Done.\n",
      "\n"
     ]
    },
    {
     "name": "stdout",
     "output_type": "stream",
     "text": [
      "[1] \"### loading 1983 ###\"\n"
     ]
    },
    {
     "name": "stderr",
     "output_type": "stream",
     "text": [
      "[2023-08-21 20:18:18] Defining geo-location parameters\n",
      "\n",
      "[2023-08-21 20:18:18] Defining time selection parameters\n",
      "\n",
      "[2023-08-21 20:18:18] Retrieving data subset ...\n",
      "\n",
      "[2023-08-21 20:18:21] Done\n",
      "\n",
      "[2023-08-21 20:18:21] Performing annual aggregation...\n",
      "\n",
      "[2023-08-21 20:18:30] Done.\n",
      "\n"
     ]
    },
    {
     "name": "stdout",
     "output_type": "stream",
     "text": [
      "[1] \"### loading 1984 ###\"\n"
     ]
    },
    {
     "name": "stderr",
     "output_type": "stream",
     "text": [
      "[2023-08-21 20:18:30] Defining geo-location parameters\n",
      "\n",
      "[2023-08-21 20:18:30] Defining time selection parameters\n",
      "\n",
      "[2023-08-21 20:18:30] Retrieving data subset ...\n",
      "\n",
      "[2023-08-21 20:18:33] Done\n",
      "\n",
      "[2023-08-21 20:18:33] Performing annual aggregation...\n",
      "\n",
      "[2023-08-21 20:18:41] Done.\n",
      "\n"
     ]
    },
    {
     "name": "stdout",
     "output_type": "stream",
     "text": [
      "[1] \"### loading 1985 ###\"\n"
     ]
    },
    {
     "name": "stderr",
     "output_type": "stream",
     "text": [
      "[2023-08-21 20:18:41] Defining geo-location parameters\n",
      "\n",
      "[2023-08-21 20:18:41] Defining time selection parameters\n",
      "\n",
      "[2023-08-21 20:18:41] Retrieving data subset ...\n",
      "\n",
      "[2023-08-21 20:18:44] Done\n",
      "\n",
      "[2023-08-21 20:18:44] Performing annual aggregation...\n",
      "\n",
      "[2023-08-21 20:18:52] Done.\n",
      "\n"
     ]
    },
    {
     "name": "stdout",
     "output_type": "stream",
     "text": [
      "[1] \"### loading 1986 ###\"\n"
     ]
    },
    {
     "name": "stderr",
     "output_type": "stream",
     "text": [
      "[2023-08-21 20:18:52] Defining geo-location parameters\n",
      "\n",
      "[2023-08-21 20:18:52] Defining time selection parameters\n",
      "\n",
      "[2023-08-21 20:18:52] Retrieving data subset ...\n",
      "\n",
      "[2023-08-21 20:18:55] Done\n",
      "\n",
      "[2023-08-21 20:18:55] Performing annual aggregation...\n",
      "\n",
      "[2023-08-21 20:19:03] Done.\n",
      "\n"
     ]
    },
    {
     "name": "stdout",
     "output_type": "stream",
     "text": [
      "[1] \"### loading 1987 ###\"\n"
     ]
    },
    {
     "name": "stderr",
     "output_type": "stream",
     "text": [
      "[2023-08-21 20:19:03] Defining geo-location parameters\n",
      "\n",
      "[2023-08-21 20:19:03] Defining time selection parameters\n",
      "\n",
      "[2023-08-21 20:19:03] Retrieving data subset ...\n",
      "\n",
      "[2023-08-21 20:19:06] Done\n",
      "\n",
      "[2023-08-21 20:19:06] Performing annual aggregation...\n",
      "\n",
      "[2023-08-21 20:19:15] Done.\n",
      "\n"
     ]
    },
    {
     "name": "stdout",
     "output_type": "stream",
     "text": [
      "[1] \"### loading 1988 ###\"\n"
     ]
    },
    {
     "name": "stderr",
     "output_type": "stream",
     "text": [
      "[2023-08-21 20:19:15] Defining geo-location parameters\n",
      "\n",
      "[2023-08-21 20:19:15] Defining time selection parameters\n",
      "\n",
      "[2023-08-21 20:19:15] Retrieving data subset ...\n",
      "\n",
      "[2023-08-21 20:19:18] Done\n",
      "\n",
      "[2023-08-21 20:19:18] Performing annual aggregation...\n",
      "\n",
      "[2023-08-21 20:19:26] Done.\n",
      "\n"
     ]
    },
    {
     "name": "stdout",
     "output_type": "stream",
     "text": [
      "[1] \"### loading 1989 ###\"\n"
     ]
    },
    {
     "name": "stderr",
     "output_type": "stream",
     "text": [
      "[2023-08-21 20:19:26] Defining geo-location parameters\n",
      "\n",
      "[2023-08-21 20:19:26] Defining time selection parameters\n",
      "\n",
      "[2023-08-21 20:19:26] Retrieving data subset ...\n",
      "\n",
      "[2023-08-21 20:19:29] Done\n",
      "\n",
      "[2023-08-21 20:19:29] Performing annual aggregation...\n",
      "\n",
      "[2023-08-21 20:19:38] Done.\n",
      "\n"
     ]
    },
    {
     "name": "stdout",
     "output_type": "stream",
     "text": [
      "[1] \"### loading 1990 ###\"\n"
     ]
    },
    {
     "name": "stderr",
     "output_type": "stream",
     "text": [
      "[2023-08-21 20:19:38] Defining geo-location parameters\n",
      "\n",
      "[2023-08-21 20:19:38] Defining time selection parameters\n",
      "\n",
      "[2023-08-21 20:19:38] Retrieving data subset ...\n",
      "\n",
      "[2023-08-21 20:19:41] Done\n",
      "\n",
      "[2023-08-21 20:19:41] Performing annual aggregation...\n",
      "\n",
      "[2023-08-21 20:19:49] Done.\n",
      "\n"
     ]
    },
    {
     "name": "stdout",
     "output_type": "stream",
     "text": [
      "[1] \"### loading 1991 ###\"\n"
     ]
    },
    {
     "name": "stderr",
     "output_type": "stream",
     "text": [
      "[2023-08-21 20:19:49] Defining geo-location parameters\n",
      "\n",
      "[2023-08-21 20:19:49] Defining time selection parameters\n",
      "\n",
      "[2023-08-21 20:19:49] Retrieving data subset ...\n",
      "\n",
      "[2023-08-21 20:19:52] Done\n",
      "\n",
      "[2023-08-21 20:19:52] Performing annual aggregation...\n",
      "\n",
      "[2023-08-21 20:20:00] Done.\n",
      "\n"
     ]
    },
    {
     "name": "stdout",
     "output_type": "stream",
     "text": [
      "[1] \"### loading 1992 ###\"\n"
     ]
    },
    {
     "name": "stderr",
     "output_type": "stream",
     "text": [
      "[2023-08-21 20:20:00] Defining geo-location parameters\n",
      "\n",
      "[2023-08-21 20:20:00] Defining time selection parameters\n",
      "\n",
      "[2023-08-21 20:20:00] Retrieving data subset ...\n",
      "\n",
      "[2023-08-21 20:20:03] Done\n",
      "\n",
      "[2023-08-21 20:20:03] Performing annual aggregation...\n",
      "\n",
      "[2023-08-21 20:20:12] Done.\n",
      "\n"
     ]
    },
    {
     "name": "stdout",
     "output_type": "stream",
     "text": [
      "[1] \"### loading 1993 ###\"\n"
     ]
    },
    {
     "name": "stderr",
     "output_type": "stream",
     "text": [
      "[2023-08-21 20:20:12] Defining geo-location parameters\n",
      "\n",
      "[2023-08-21 20:20:12] Defining time selection parameters\n",
      "\n",
      "[2023-08-21 20:20:12] Retrieving data subset ...\n",
      "\n",
      "[2023-08-21 20:20:15] Done\n",
      "\n",
      "[2023-08-21 20:20:15] Performing annual aggregation...\n",
      "\n",
      "[2023-08-21 20:20:23] Done.\n",
      "\n"
     ]
    },
    {
     "name": "stdout",
     "output_type": "stream",
     "text": [
      "[1] \"### loading 1994 ###\"\n"
     ]
    },
    {
     "name": "stderr",
     "output_type": "stream",
     "text": [
      "[2023-08-21 20:20:23] Defining geo-location parameters\n",
      "\n",
      "[2023-08-21 20:20:23] Defining time selection parameters\n",
      "\n",
      "[2023-08-21 20:20:23] Retrieving data subset ...\n",
      "\n",
      "[2023-08-21 20:20:26] Done\n",
      "\n",
      "[2023-08-21 20:20:26] Performing annual aggregation...\n",
      "\n",
      "[2023-08-21 20:20:34] Done.\n",
      "\n"
     ]
    },
    {
     "name": "stdout",
     "output_type": "stream",
     "text": [
      "[1] \"### loading 1995 ###\"\n"
     ]
    },
    {
     "name": "stderr",
     "output_type": "stream",
     "text": [
      "[2023-08-21 20:20:35] Defining geo-location parameters\n",
      "\n",
      "[2023-08-21 20:20:35] Defining time selection parameters\n",
      "\n",
      "[2023-08-21 20:20:35] Retrieving data subset ...\n",
      "\n",
      "[2023-08-21 20:20:38] Done\n",
      "\n",
      "[2023-08-21 20:20:38] Performing annual aggregation...\n",
      "\n",
      "[2023-08-21 20:20:47] Done.\n",
      "\n"
     ]
    },
    {
     "name": "stdout",
     "output_type": "stream",
     "text": [
      "[1] \"### loading 1996 ###\"\n"
     ]
    },
    {
     "name": "stderr",
     "output_type": "stream",
     "text": [
      "[2023-08-21 20:20:47] Defining geo-location parameters\n",
      "\n",
      "[2023-08-21 20:20:47] Defining time selection parameters\n",
      "\n",
      "[2023-08-21 20:20:47] Retrieving data subset ...\n",
      "\n",
      "[2023-08-21 20:20:51] Done\n",
      "\n",
      "[2023-08-21 20:20:51] Performing annual aggregation...\n",
      "\n",
      "[2023-08-21 20:20:59] Done.\n",
      "\n"
     ]
    },
    {
     "name": "stdout",
     "output_type": "stream",
     "text": [
      "[1] \"### loading 1997 ###\"\n"
     ]
    },
    {
     "name": "stderr",
     "output_type": "stream",
     "text": [
      "[2023-08-21 20:21:00] Defining geo-location parameters\n",
      "\n",
      "[2023-08-21 20:21:00] Defining time selection parameters\n",
      "\n",
      "[2023-08-21 20:21:00] Retrieving data subset ...\n",
      "\n",
      "[2023-08-21 20:21:03] Done\n",
      "\n",
      "[2023-08-21 20:21:03] Performing annual aggregation...\n",
      "\n",
      "[2023-08-21 20:21:11] Done.\n",
      "\n"
     ]
    },
    {
     "name": "stdout",
     "output_type": "stream",
     "text": [
      "[1] \"### loading 1998 ###\"\n"
     ]
    },
    {
     "name": "stderr",
     "output_type": "stream",
     "text": [
      "[2023-08-21 20:21:11] Defining geo-location parameters\n",
      "\n",
      "[2023-08-21 20:21:11] Defining time selection parameters\n",
      "\n",
      "[2023-08-21 20:21:11] Retrieving data subset ...\n",
      "\n",
      "[2023-08-21 20:21:15] Done\n",
      "\n",
      "[2023-08-21 20:21:15] Performing annual aggregation...\n",
      "\n",
      "[2023-08-21 20:21:24] Done.\n",
      "\n"
     ]
    },
    {
     "name": "stdout",
     "output_type": "stream",
     "text": [
      "[1] \"### loading 1999 ###\"\n"
     ]
    },
    {
     "name": "stderr",
     "output_type": "stream",
     "text": [
      "[2023-08-21 20:21:24] Defining geo-location parameters\n",
      "\n",
      "[2023-08-21 20:21:24] Defining time selection parameters\n",
      "\n",
      "[2023-08-21 20:21:24] Retrieving data subset ...\n",
      "\n",
      "[2023-08-21 20:21:28] Done\n",
      "\n",
      "[2023-08-21 20:21:28] Performing annual aggregation...\n",
      "\n",
      "[2023-08-21 20:21:37] Done.\n",
      "\n"
     ]
    },
    {
     "name": "stdout",
     "output_type": "stream",
     "text": [
      "[1] \"### loading 2000 ###\"\n"
     ]
    },
    {
     "name": "stderr",
     "output_type": "stream",
     "text": [
      "[2023-08-21 20:21:37] Defining geo-location parameters\n",
      "\n",
      "[2023-08-21 20:21:37] Defining time selection parameters\n",
      "\n",
      "[2023-08-21 20:21:37] Retrieving data subset ...\n",
      "\n",
      "[2023-08-21 20:21:40] Done\n",
      "\n",
      "[2023-08-21 20:21:40] Performing annual aggregation...\n",
      "\n",
      "[2023-08-21 20:21:49] Done.\n",
      "\n"
     ]
    },
    {
     "name": "stdout",
     "output_type": "stream",
     "text": [
      "[1] \"### loading 2001 ###\"\n"
     ]
    },
    {
     "name": "stderr",
     "output_type": "stream",
     "text": [
      "[2023-08-21 20:21:49] Defining geo-location parameters\n",
      "\n",
      "[2023-08-21 20:21:49] Defining time selection parameters\n",
      "\n",
      "[2023-08-21 20:21:49] Retrieving data subset ...\n",
      "\n",
      "[2023-08-21 20:21:52] Done\n",
      "\n",
      "[2023-08-21 20:21:52] Performing annual aggregation...\n",
      "\n",
      "[2023-08-21 20:22:01] Done.\n",
      "\n"
     ]
    },
    {
     "name": "stdout",
     "output_type": "stream",
     "text": [
      "[1] \"### loading 2002 ###\"\n"
     ]
    },
    {
     "name": "stderr",
     "output_type": "stream",
     "text": [
      "[2023-08-21 20:22:01] Defining geo-location parameters\n",
      "\n",
      "[2023-08-21 20:22:02] Defining time selection parameters\n",
      "\n",
      "[2023-08-21 20:22:02] Retrieving data subset ...\n",
      "\n",
      "[2023-08-21 20:22:05] Done\n",
      "\n",
      "[2023-08-21 20:22:05] Performing annual aggregation...\n",
      "\n",
      "[2023-08-21 20:22:14] Done.\n",
      "\n"
     ]
    },
    {
     "name": "stdout",
     "output_type": "stream",
     "text": [
      "[1] \"### loading 2003 ###\"\n"
     ]
    },
    {
     "name": "stderr",
     "output_type": "stream",
     "text": [
      "[2023-08-21 20:22:14] Defining geo-location parameters\n",
      "\n",
      "[2023-08-21 20:22:14] Defining time selection parameters\n",
      "\n",
      "[2023-08-21 20:22:14] Retrieving data subset ...\n",
      "\n",
      "[2023-08-21 20:22:17] Done\n",
      "\n",
      "[2023-08-21 20:22:17] Performing annual aggregation...\n",
      "\n",
      "[2023-08-21 20:22:25] Done.\n",
      "\n"
     ]
    },
    {
     "name": "stdout",
     "output_type": "stream",
     "text": [
      "[1] \"### loading 2004 ###\"\n"
     ]
    },
    {
     "name": "stderr",
     "output_type": "stream",
     "text": [
      "[2023-08-21 20:22:25] Defining geo-location parameters\n",
      "\n",
      "[2023-08-21 20:22:25] Defining time selection parameters\n",
      "\n",
      "[2023-08-21 20:22:25] Retrieving data subset ...\n",
      "\n",
      "[2023-08-21 20:22:29] Done\n",
      "\n",
      "[2023-08-21 20:22:29] Performing annual aggregation...\n",
      "\n",
      "[2023-08-21 20:22:38] Done.\n",
      "\n"
     ]
    },
    {
     "name": "stdout",
     "output_type": "stream",
     "text": [
      "[1] \"### loading 2005 ###\"\n"
     ]
    },
    {
     "name": "stderr",
     "output_type": "stream",
     "text": [
      "[2023-08-21 20:22:38] Defining geo-location parameters\n",
      "\n",
      "[2023-08-21 20:22:38] Defining time selection parameters\n",
      "\n",
      "[2023-08-21 20:22:38] Retrieving data subset ...\n",
      "\n",
      "[2023-08-21 20:22:41] Done\n",
      "\n",
      "[2023-08-21 20:22:41] Performing annual aggregation...\n",
      "\n",
      "[2023-08-21 20:22:50] Done.\n",
      "\n"
     ]
    },
    {
     "name": "stdout",
     "output_type": "stream",
     "text": [
      "[1] \"### loading 2006 ###\"\n"
     ]
    },
    {
     "name": "stderr",
     "output_type": "stream",
     "text": [
      "[2023-08-21 20:22:50] Defining geo-location parameters\n",
      "\n",
      "[2023-08-21 20:22:50] Defining time selection parameters\n",
      "\n",
      "[2023-08-21 20:22:50] Retrieving data subset ...\n",
      "\n",
      "[2023-08-21 20:22:54] Done\n",
      "\n",
      "[2023-08-21 20:22:54] Performing annual aggregation...\n",
      "\n",
      "[2023-08-21 20:23:02] Done.\n",
      "\n"
     ]
    },
    {
     "name": "stdout",
     "output_type": "stream",
     "text": [
      "[1] \"### loading 2007 ###\"\n"
     ]
    },
    {
     "name": "stderr",
     "output_type": "stream",
     "text": [
      "[2023-08-21 20:23:02] Defining geo-location parameters\n",
      "\n",
      "[2023-08-21 20:23:02] Defining time selection parameters\n",
      "\n",
      "[2023-08-21 20:23:02] Retrieving data subset ...\n",
      "\n",
      "[2023-08-21 20:23:06] Done\n",
      "\n",
      "[2023-08-21 20:23:06] Performing annual aggregation...\n",
      "\n",
      "[2023-08-21 20:23:15] Done.\n",
      "\n"
     ]
    },
    {
     "name": "stdout",
     "output_type": "stream",
     "text": [
      "[1] \"### loading 2008 ###\"\n"
     ]
    },
    {
     "name": "stderr",
     "output_type": "stream",
     "text": [
      "[2023-08-21 20:23:15] Defining geo-location parameters\n",
      "\n",
      "[2023-08-21 20:23:15] Defining time selection parameters\n",
      "\n",
      "[2023-08-21 20:23:15] Retrieving data subset ...\n",
      "\n",
      "[2023-08-21 20:23:18] Done\n",
      "\n",
      "[2023-08-21 20:23:18] Performing annual aggregation...\n",
      "\n",
      "[2023-08-21 20:23:28] Done.\n",
      "\n"
     ]
    },
    {
     "name": "stdout",
     "output_type": "stream",
     "text": [
      "[1] \"### loading 2009 ###\"\n"
     ]
    },
    {
     "name": "stderr",
     "output_type": "stream",
     "text": [
      "[2023-08-21 20:23:28] Defining geo-location parameters\n",
      "\n",
      "[2023-08-21 20:23:28] Defining time selection parameters\n",
      "\n",
      "[2023-08-21 20:23:28] Retrieving data subset ...\n",
      "\n",
      "[2023-08-21 20:23:31] Done\n",
      "\n",
      "[2023-08-21 20:23:31] Performing annual aggregation...\n",
      "\n",
      "[2023-08-21 20:23:40] Done.\n",
      "\n"
     ]
    },
    {
     "name": "stdout",
     "output_type": "stream",
     "text": [
      "[1] \"### loading 2010 ###\"\n"
     ]
    },
    {
     "name": "stderr",
     "output_type": "stream",
     "text": [
      "[2023-08-21 20:23:40] Defining geo-location parameters\n",
      "\n",
      "[2023-08-21 20:23:40] Defining time selection parameters\n",
      "\n",
      "[2023-08-21 20:23:40] Retrieving data subset ...\n",
      "\n",
      "[2023-08-21 20:23:44] Done\n",
      "\n",
      "[2023-08-21 20:23:44] Performing annual aggregation...\n",
      "\n",
      "[2023-08-21 20:23:52] Done.\n",
      "\n"
     ]
    },
    {
     "name": "stdout",
     "output_type": "stream",
     "text": [
      "[1] \"### loading 2011 ###\"\n"
     ]
    },
    {
     "name": "stderr",
     "output_type": "stream",
     "text": [
      "[2023-08-21 20:23:52] Defining geo-location parameters\n",
      "\n",
      "[2023-08-21 20:23:52] Defining time selection parameters\n",
      "\n",
      "[2023-08-21 20:23:52] Retrieving data subset ...\n",
      "\n",
      "[2023-08-21 20:23:55] Done\n",
      "\n",
      "[2023-08-21 20:23:55] Performing annual aggregation...\n",
      "\n",
      "[2023-08-21 20:24:04] Done.\n",
      "\n"
     ]
    },
    {
     "name": "stdout",
     "output_type": "stream",
     "text": [
      "[1] \"### loading 2012 ###\"\n"
     ]
    },
    {
     "name": "stderr",
     "output_type": "stream",
     "text": [
      "[2023-08-21 20:24:05] Defining geo-location parameters\n",
      "\n",
      "[2023-08-21 20:24:05] Defining time selection parameters\n",
      "\n",
      "[2023-08-21 20:24:05] Retrieving data subset ...\n",
      "\n",
      "[2023-08-21 20:24:08] Done\n",
      "\n",
      "[2023-08-21 20:24:08] Performing annual aggregation...\n",
      "\n",
      "[2023-08-21 20:24:17] Done.\n",
      "\n"
     ]
    },
    {
     "name": "stdout",
     "output_type": "stream",
     "text": [
      "[1] \"### loading 2013 ###\"\n"
     ]
    },
    {
     "name": "stderr",
     "output_type": "stream",
     "text": [
      "[2023-08-21 20:24:17] Defining geo-location parameters\n",
      "\n",
      "[2023-08-21 20:24:17] Defining time selection parameters\n",
      "\n",
      "[2023-08-21 20:24:17] Retrieving data subset ...\n",
      "\n",
      "[2023-08-21 20:24:20] Done\n",
      "\n",
      "[2023-08-21 20:24:20] Performing annual aggregation...\n",
      "\n",
      "[2023-08-21 20:24:28] Done.\n",
      "\n"
     ]
    },
    {
     "name": "stdout",
     "output_type": "stream",
     "text": [
      "[1] \"### loading 2014 ###\"\n"
     ]
    },
    {
     "name": "stderr",
     "output_type": "stream",
     "text": [
      "[2023-08-21 20:24:28] Defining geo-location parameters\n",
      "\n",
      "[2023-08-21 20:24:29] Defining time selection parameters\n",
      "\n",
      "[2023-08-21 20:24:29] Retrieving data subset ...\n",
      "\n",
      "[2023-08-21 20:24:32] Done\n",
      "\n",
      "[2023-08-21 20:24:32] Performing annual aggregation...\n",
      "\n",
      "[2023-08-21 20:24:41] Done.\n",
      "\n"
     ]
    },
    {
     "name": "stdout",
     "output_type": "stream",
     "text": [
      "[1] \"### loading 2015 ###\"\n"
     ]
    },
    {
     "name": "stderr",
     "output_type": "stream",
     "text": [
      "[2023-08-21 20:24:41] Defining geo-location parameters\n",
      "\n",
      "[2023-08-21 20:24:41] Defining time selection parameters\n",
      "\n",
      "[2023-08-21 20:24:41] Retrieving data subset ...\n",
      "\n",
      "[2023-08-21 20:24:44] Done\n",
      "\n",
      "[2023-08-21 20:24:44] Performing annual aggregation...\n",
      "\n",
      "[2023-08-21 20:24:53] Done.\n",
      "\n"
     ]
    }
   ],
   "source": [
    "data_DJF_temp = lapply(1979:2015, function(iyear) {\n",
    "  print(sprintf(\"### loading %d ###\", iyear))\n",
    "  gridArithmetics(aggregateGrid(loadGridData('/home/oem/Desktop/TFM/datoss/tas_W5E5.nc', var = 'tas',\n",
    "                             season = c(12,1,2),  # JJA\n",
    "                             years = iyear),\n",
    "                aggr.y = list(FUN = \"mean\", na.rm = T)),mask.bin.05,operator=\"*\")  \n",
    "})\n",
    "data_DJF_temp = bindGrid(data_DJF_temp, dimension = \"time\") \n",
    "data_DJF_temp = subsetGrid(data_DJF_temp, latLim = c(-60,89.75))\n",
    "save(data_DJF_temp, file = \"tas_DJF.rda\") "
   ]
  },
  {
   "cell_type": "code",
   "execution_count": null,
   "id": "3a054316",
   "metadata": {},
   "outputs": [],
   "source": []
  }
 ],
 "metadata": {
  "kernelspec": {
   "display_name": "R",
   "language": "R",
   "name": "ir"
  },
  "language_info": {
   "codemirror_mode": "r",
   "file_extension": ".r",
   "mimetype": "text/x-r-source",
   "name": "R",
   "pygments_lexer": "r",
   "version": "3.6.3"
  }
 },
 "nbformat": 4,
 "nbformat_minor": 5
}
